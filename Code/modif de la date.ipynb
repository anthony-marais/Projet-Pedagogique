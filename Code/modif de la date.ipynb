{
 "metadata": {
  "language_info": {
   "codemirror_mode": {
    "name": "ipython",
    "version": 3
   },
   "file_extension": ".py",
   "mimetype": "text/x-python",
   "name": "python",
   "nbconvert_exporter": "python",
   "pygments_lexer": "ipython3",
   "version": "3.8.5-final"
  },
  "orig_nbformat": 2,
  "kernelspec": {
   "name": "python3",
   "display_name": "Python 3",
   "language": "python"
  }
 },
 "nbformat": 4,
 "nbformat_minor": 2,
 "cells": [
  {
   "cell_type": "code",
   "execution_count": 81,
   "metadata": {},
   "outputs": [
    {
     "output_type": "stream",
     "name": "stdout",
     "text": [
      "2020-07-01 00:00:00\n"
     ]
    }
   ],
   "source": [
    "## pip install dateparser\n",
    "import dateparser\n",
    "\n",
    "mois = \"Juillet\"\n",
    "\n",
    "jour = \"1\"\n",
    "\n",
    "ladate = jour + \" \" + mois\n",
    "\n",
    "\n",
    "\n",
    "ladate = dateparser.parse(ladate)\n",
    "\n",
    "\n",
    "print(ladate)\n",
    "\n",
    "\n"
   ]
  },
  {
   "cell_type": "code",
   "execution_count": 69,
   "metadata": {},
   "outputs": [
    {
     "output_type": "execute_result",
     "data": {
      "text/plain": [
       "datetime.datetime"
      ]
     },
     "metadata": {},
     "execution_count": 69
    }
   ],
   "source": [
    "type(dt1)"
   ]
  },
  {
   "cell_type": "code",
   "execution_count": 70,
   "metadata": {},
   "outputs": [
    {
     "output_type": "stream",
     "name": "stdout",
     "text": [
      "2020-12-11 14:33:32.889533\n"
     ]
    }
   ],
   "source": [
    "import datetime\n",
    "now = datetime.datetime.now()\n",
    "print((now))"
   ]
  },
  {
   "cell_type": "code",
   "execution_count": 71,
   "metadata": {},
   "outputs": [
    {
     "output_type": "stream",
     "name": "stdout",
     "text": [
      "2021\n"
     ]
    }
   ],
   "source": [
    "if dt1 <= now:\n",
    "    print(now.year  + 1)\n",
    "else:\n",
    "    print(now.year)"
   ]
  },
  {
   "cell_type": "code",
   "execution_count": 72,
   "metadata": {},
   "outputs": [],
   "source": [
    "dt1 = str(dt1)"
   ]
  },
  {
   "cell_type": "code",
   "execution_count": 73,
   "metadata": {},
   "outputs": [],
   "source": [
    "dt1 = dt1[5:10]"
   ]
  },
  {
   "cell_type": "code",
   "execution_count": 74,
   "metadata": {},
   "outputs": [
    {
     "output_type": "execute_result",
     "data": {
      "text/plain": [
       "'07-01'"
      ]
     },
     "metadata": {},
     "execution_count": 74
    }
   ],
   "source": [
    "dt1"
   ]
  },
  {
   "cell_type": "code",
   "execution_count": 75,
   "metadata": {},
   "outputs": [
    {
     "output_type": "execute_result",
     "data": {
      "text/plain": [
       "int"
      ]
     },
     "metadata": {},
     "execution_count": 75
    }
   ],
   "source": [
    "type(now.year)"
   ]
  },
  {
   "cell_type": "code",
   "execution_count": 76,
   "metadata": {},
   "outputs": [
    {
     "output_type": "execute_result",
     "data": {
      "text/plain": [
       "str"
      ]
     },
     "metadata": {},
     "execution_count": 76
    }
   ],
   "source": [
    "date = str(now.year + 1) + ' ' + dt1\n",
    "date\n",
    "type(date)"
   ]
  },
  {
   "cell_type": "code",
   "execution_count": 77,
   "metadata": {},
   "outputs": [],
   "source": [
    "datemodif = dateparser.parse(date)"
   ]
  },
  {
   "cell_type": "code",
   "execution_count": 78,
   "metadata": {},
   "outputs": [
    {
     "output_type": "stream",
     "name": "stdout",
     "text": [
      "2021-07-01 00:00:00\n"
     ]
    }
   ],
   "source": [
    "print(datemodif)"
   ]
  },
  {
   "cell_type": "code",
   "execution_count": 79,
   "metadata": {},
   "outputs": [
    {
     "output_type": "execute_result",
     "data": {
      "text/plain": [
       "datetime.datetime"
      ]
     },
     "metadata": {},
     "execution_count": 79
    }
   ],
   "source": [
    "type(datemodif)"
   ]
  },
  {
   "cell_type": "code",
   "execution_count": 80,
   "metadata": {},
   "outputs": [],
   "source": [
    "datemodif = datemodif.date()"
   ]
  },
  {
   "cell_type": "code",
   "execution_count": 61,
   "metadata": {},
   "outputs": [
    {
     "output_type": "stream",
     "name": "stdout",
     "text": [
      "2021-01-11\n"
     ]
    }
   ],
   "source": [
    "print(datemodif)"
   ]
  },
  {
   "cell_type": "code",
   "execution_count": 63,
   "metadata": {},
   "outputs": [
    {
     "output_type": "execute_result",
     "data": {
      "text/plain": [
       "datetime.date(2021, 1, 11)"
      ]
     },
     "metadata": {},
     "execution_count": 63
    }
   ],
   "source": []
  },
  {
   "cell_type": "code",
   "execution_count": null,
   "metadata": {},
   "outputs": [],
   "source": [
    "## pip install dateparser\n",
    "import dateparser\n",
    "import datetime\n",
    "\n",
    "\n",
    "def _set_date(self, NumDateReserv, MoisDateReserv):\n",
    "        self._NumDateReserv = str(NumDateReserv)\n",
    "        self._MoisDateReserv = str(MoisDateReserv)\n",
    "        self._dateReserv = self._NumDateReserv + \" \" + self._MoisDateReserv\n",
    "        self._dateReserv = dateparser.parse(self._dateReserv)\n",
    "        now = datetime.datetime.now()\n",
    "\n",
    "        if self._dateReserv <= now:\n",
    "            now_year = now.year + 1\n",
    "        else:\n",
    "            now.year\n",
    "        self._dateReserv = str(self._dateReserv)\n",
    "        self._dateReserv = self._dateReserv[5:10]\n",
    "        self._dateReserv = str(now.year) + ' ' + self._dateReserv\n",
    "        self._dateReserv = self._dateReserv.date()"
   ]
  }
 ]
}