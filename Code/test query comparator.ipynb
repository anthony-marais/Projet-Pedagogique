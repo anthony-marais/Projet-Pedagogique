{
 "metadata": {
  "language_info": {
   "codemirror_mode": {
    "name": "ipython",
    "version": 3
   },
   "file_extension": ".py",
   "mimetype": "text/x-python",
   "name": "python",
   "nbconvert_exporter": "python",
   "pygments_lexer": "ipython3",
   "version": "3.8.5-final"
  },
  "orig_nbformat": 2,
  "kernelspec": {
   "name": "python3",
   "display_name": "Python 3",
   "language": "python"
  }
 },
 "nbformat": 4,
 "nbformat_minor": 2,
 "cells": [
  {
   "cell_type": "code",
   "execution_count": 18,
   "metadata": {},
   "outputs": [],
   "source": [
    "# connector de python à mysql\n",
    "import mysql.connector\n",
    "import json\n",
    "#**************************************************************************************CREATION DE LA CONNEXION SQLALCHEMY**********************************************************\n",
    "\n",
    "## IMPORT DU CONFIG.JSON\n",
    "# assignation de la config.json à fichierConfig\n",
    "fichierConfig = \"config.json\"\n",
    "# ouverture et chargement des donnée contenu dans fichierConfig\n",
    "with open(fichierConfig) as fichier:\n",
    "    config = json.load(fichier)[\"mysql\"]\n",
    "\n",
    "# assignation de de la connexion par create_engine avec les éléement de connexion + les info du fichierConfig à engine\n",
    "# en dehors de la class car cet élémeent ne change pas\n",
    "connection = mysql.connector.connect(host=config[\"host\"],database = config[\"bdd\"],user=config[\"user\"],password=config[\"password\"])\n",
    "cursor = connection.cursor()"
   ]
  },
  {
   "cell_type": "code",
   "execution_count": 70,
   "metadata": {},
   "outputs": [],
   "source": [
    "## ON CHECK SI UNE RESERVATION EXISTE DEJA DANS LA BASE DE DONNEE POUR LE MEME \"nom de salle\" la même \"DATE\" et si les heures peuvent correspondre\n",
    "\n",
    "num_salle_reserv = \"736\"\n",
    "date_reserv = \"2021-01-17\"\n",
    "debut_reserv = 8\n",
    "fin_reserv = 10"
   ]
  },
  {
   "cell_type": "code",
   "execution_count": 71,
   "metadata": {},
   "outputs": [
    {
     "output_type": "stream",
     "name": "stdout",
     "text": [
      "(True, 'TESTING IS OK')\n"
     ]
    }
   ],
   "source": [
    "cursor.execute('SELECT res_id, res_date, res_heure_arrive, res_heure_depart, S.sa_name FROM RESERVATION R INNER JOIN SALLE S ON S.sa_id=R.sa_id WHERE S.sa_name=%s AND R.res_date=%s AND(( %s BETWEEN R.res_heure_arrive AND R.res_heure_depart ) OR (%s BETWEEN R.res_heure_arrive AND R.res_heure_depart));', (num_salle_reserv,date_reserv,debut_reserv,fin_reserv))\n",
    "\n",
    "resa_db_1 = cursor.fetchone()\n",
    "\n",
    "#print(resa_db_1)\n",
    "\n",
    "if resa_db_1 == None:\n",
    "    print(True,\"TESTING OK\")\n",
    "\n",
    "\n",
    "else:\n",
    "    resa_db_1 != None\n",
    "###################################################### TEST DU SI L'HEURE  DE DEBUT DEMANDER CORRESPOND A UNE HEURE DE FIN DEJA EXISTANTE#####################\n",
    "    if resa_db_1 != None and debut_reserv == resa_db_1[3]:\n",
    "        cursor.execute('SELECT * FROM RESERVATION R INNER JOIN SALLE S ON S.sa_id=R.sa_id WHERE S.sa_name=%s AND R.res_date=%s AND ((%s > R.res_heure_arrive AND %s < R.res_heure_depart) OR (%s >= R.res_heure_arrive AND %s <= R.res_heure_depart));', (num_salle_reserv,date_reserv,debut_reserv,debut_reserv, fin_reserv,fin_reserv))\n",
    "        result_fin_to_debut_reserv = cursor.fetchone()\n",
    "        #if result_fin_to_debut_reserv == None:\n",
    "        #    print(True,\"TESTING OK\")\n",
    "        #else:\n",
    "        #    print(False ,\"TESTING NOT OK\")\n",
    "\n",
    "\n",
    "########################################################### TEST DU SI L'HEURE DE FIN DEMANDER CORRESPOND A UNE HEURE DE DEBUT DEJA EXISTANTE#################\n",
    "\n",
    "    elif resa_db_1 != None and fin_reserv == resa_db_1[2]:\n",
    "        cursor.execute('SELECT * FROM RESERVATION R INNER JOIN SALLE S ON S.sa_id=R.sa_id WHERE S.sa_name=%s AND R.res_date=%s AND ((%s >= R.res_heure_arrive AND %s <= R.res_heure_depart) OR (%s > R.res_heure_arrive AND %s < R.res_heure_depart));', (num_salle_reserv,date_reserv,debut_reserv,debut_reserv, fin_reserv,fin_reserv))\n",
    "        result_debut_to_fin_reserv = cursor.fetchone()\n",
    "        \n",
    "\n",
    "\n",
    "\n",
    "if (result_fin_to_debut_reserv == None) or (result_debut_to_fin_reserv == None) and (resa_db_1 == None):\n",
    "         \n",
    "    result = True,\"TESTING IS OK\"\n",
    "    print(result)\n",
    "\n",
    "\n",
    "else:\n",
    "    result_fin_to_debut_reserv != None or result_debut_to_fin_reserv != None or resa_db_1 != None\n",
    "    result = False,\"TESTING NOT OK\"\n",
    "    \n",
    "    print(result)\n",
    "#else:\n",
    "#    cursor.fetchone() != None\n",
    "#    print(\"TESTING NOT OK\")\n",
    "#return(result)\n"
   ]
  },
  {
   "cell_type": "code",
   "execution_count": 20,
   "metadata": {},
   "outputs": [
    {
     "output_type": "stream",
     "name": "stdout",
     "text": [
      "(51, datetime.date(2021, 1, 17), 8, 10, '736')\n"
     ]
    }
   ],
   "source": [
    "cursor.execute('SELECT res_id, res_date, res_heure_arrive, res_heure_depart, S.sa_name FROM RESERVATION R INNER JOIN SALLE S ON S.sa_id=R.sa_id WHERE S.sa_name=%s AND R.res_date=%s AND(( %s BETWEEN R.res_heure_arrive AND R.res_heure_depart ) OR (%s BETWEEN R.res_heure_arrive AND R.res_heure_depart));', (num_salle_reserv,date_reserv,debut_reserv,fin_reserv))\n",
    "\n",
    "resa_db_1 = cursor.fetchone()\n",
    "\n",
    "print(resa_db_1)"
   ]
  },
  {
   "cell_type": "code",
   "execution_count": 21,
   "metadata": {},
   "outputs": [
    {
     "output_type": "stream",
     "name": "stdout",
     "text": [
      "8 H , 10 H\n"
     ]
    }
   ],
   "source": [
    "print(resa_db_1[2],\"H ,\", resa_db_1[3],\"H\")"
   ]
  },
  {
   "cell_type": "code",
   "execution_count": 22,
   "metadata": {},
   "outputs": [
    {
     "output_type": "stream",
     "name": "stdout",
     "text": [
      "False TESTING NOT OK\n"
     ]
    }
   ],
   "source": [
    "if debut_reserv == resa_db_1[3]:\n",
    "    cursor.execute('SELECT * FROM RESERVATION R INNER JOIN SALLE S ON S.sa_id=R.sa_id WHERE S.sa_name=%s AND R.res_date=%s AND ((%s > R.res_heure_arrive AND %s < R.res_heure_depart) OR (%s >= R.res_heure_arrive AND %s <= R.res_heure_depart));', (num_salle_reserv,date_reserv,debut_reserv,debut_reserv, fin_reserv,fin_reserv))\n",
    "    result_fin_to_debut_reserv = cursor.fetchone()\n",
    "    if cursor.fetchone() == None:\n",
    "        print(True,\"TESTING OK\")\n",
    "\n",
    "else:\n",
    "    print(False ,\"TESTING NOT OK\")"
   ]
  },
  {
   "cell_type": "code",
   "execution_count": 23,
   "metadata": {},
   "outputs": [
    {
     "output_type": "stream",
     "name": "stdout",
     "text": [
      "True TESTING OK\n"
     ]
    }
   ],
   "source": [
    "if fin_reserv == resa_db_1[2]:\n",
    "    cursor.execute('SELECT * FROM RESERVATION R INNER JOIN SALLE S ON S.sa_id=R.sa_id WHERE S.sa_name=%s AND R.res_date=%s AND ((%s >= R.res_heure_arrive AND %s <= R.res_heure_depart) OR (%s > R.res_heure_arrive AND %s < R.res_heure_depart));', (num_salle_reserv,date_reserv,debut_reserv,debut_reserv, fin_reserv,fin_reserv))\n",
    "    result_fin_to_debut_reserv = cursor.fetchone()\n",
    "    if cursor.fetchone() == None:\n",
    "        print(True,\"TESTING OK\")\n",
    "\n",
    "else:\n",
    "    print(False,\"TESTING NOT OK\")"
   ]
  },
  {
   "cell_type": "code",
   "execution_count": null,
   "metadata": {},
   "outputs": [],
   "source": []
  },
  {
   "cell_type": "code",
   "execution_count": null,
   "metadata": {},
   "outputs": [],
   "source": []
  },
  {
   "cell_type": "code",
   "execution_count": 46,
   "metadata": {},
   "outputs": [
    {
     "output_type": "stream",
     "name": "stdout",
     "text": [
      "False\n"
     ]
    }
   ],
   "source": [
    "if fin_reserv == resa_db_1[2]:\n",
    "    print(True)\n",
    "else:\n",
    "    print(False)"
   ]
  },
  {
   "cell_type": "code",
   "execution_count": null,
   "metadata": {},
   "outputs": [],
   "source": []
  },
  {
   "cell_type": "code",
   "execution_count": 43,
   "metadata": {},
   "outputs": [
    {
     "output_type": "stream",
     "name": "stdout",
     "text": [
      "False\n"
     ]
    }
   ],
   "source": [
    "if resa_db_1 is not None:\n",
    "    resa_db_1 = False\n",
    "else:\n",
    "    resa_db_1 = True\n",
    "\n",
    "\n",
    "print(resa_db_1)"
   ]
  },
  {
   "cell_type": "code",
   "execution_count": 28,
   "metadata": {},
   "outputs": [
    {
     "output_type": "stream",
     "name": "stdout",
     "text": [
      "None\n"
     ]
    }
   ],
   "source": [
    "cursor.execute('SELECT * FROM RESERVATION R INNER JOIN SALLE S ON S.sa_id=R.sa_id WHERE S.sa_name=%s AND R.res_date=%s AND ((%s > R.res_heure_arrive AND %s < R.res_heure_depart) OR (%s > R.res_heure_arrive AND %s < R.res_heure_depart));', (num_salle_reserv,date_reserv,debut_reserv,debut_reserv, fin_reserv,fin_reserv))\n",
    "\n",
    "resa_db_2 = cursor.fetchone()\n",
    "\n",
    "\n",
    "print(resa_db_2)"
   ]
  },
  {
   "cell_type": "code",
   "execution_count": null,
   "metadata": {},
   "outputs": [],
   "source": []
  }
 ]
}