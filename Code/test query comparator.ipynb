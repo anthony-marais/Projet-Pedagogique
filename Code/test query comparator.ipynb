{
 "metadata": {
  "language_info": {
   "codemirror_mode": {
    "name": "ipython",
    "version": 3
   },
   "file_extension": ".py",
   "mimetype": "text/x-python",
   "name": "python",
   "nbconvert_exporter": "python",
   "pygments_lexer": "ipython3",
   "version": "3.8.5-final"
  },
  "orig_nbformat": 2,
  "kernelspec": {
   "name": "python3",
   "display_name": "Python 3",
   "language": "python"
  }
 },
 "nbformat": 4,
 "nbformat_minor": 2,
 "cells": [
  {
   "cell_type": "code",
   "execution_count": 18,
   "metadata": {},
   "outputs": [],
   "source": [
    "# connector de python à mysql\n",
    "import mysql.connector\n",
    "import json\n",
    "#**************************************************************************************CREATION DE LA CONNEXION SQLALCHEMY**********************************************************\n",
    "\n",
    "## IMPORT DU CONFIG.JSON\n",
    "# assignation de la config.json à fichierConfig\n",
    "fichierConfig = \"config.json\"\n",
    "# ouverture et chargement des donnée contenu dans fichierConfig\n",
    "with open(fichierConfig) as fichier:\n",
    "    config = json.load(fichier)[\"mysql\"]\n",
    "\n",
    "# assignation de de la connexion par create_engine avec les éléement de connexion + les info du fichierConfig à engine\n",
    "# en dehors de la class car cet élémeent ne change pas\n",
    "connection = mysql.connector.connect(host=config[\"host\"],database = config[\"bdd\"],user=config[\"user\"],password=config[\"password\"])\n",
    "cursor = connection.cursor()"
   ]
  },
  {
   "cell_type": "code",
   "execution_count": 222,
   "metadata": {},
   "outputs": [],
   "source": [
    "## ON CHECK SI UNE RESERVATION EXISTE DEJA DANS LA BASE DE DONNEE POUR LE MEME \"nom de salle\" la même \"DATE\" et si les heures peuvent correspondre\n",
    "\n",
    "num_salle_reserv = \"736\"\n",
    "date_reserv = \"2021-01-17\"\n",
    "debut_reserv = 12\n",
    "fin_reserv = 15"
   ]
  },
  {
   "cell_type": "code",
   "execution_count": 223,
   "metadata": {},
   "outputs": [
    {
     "output_type": "stream",
     "name": "stdout",
     "text": [
      "(True, 'TESTING OK FIRST')\n"
     ]
    }
   ],
   "source": [
    "cursor.execute('SELECT res_id, res_date, res_heure_arrive, res_heure_depart, S.sa_name FROM RESERVATION R INNER JOIN SALLE S ON S.sa_id=R.sa_id WHERE S.sa_name=%s AND R.res_date=%s AND(( %s BETWEEN R.res_heure_arrive AND R.res_heure_depart ) OR (%s BETWEEN R.res_heure_arrive AND R.res_heure_depart));', (num_salle_reserv,date_reserv,debut_reserv,fin_reserv))\n",
    "\n",
    "resa_db_1 = cursor.fetchone()\n",
    "\n",
    "#print(resa_db_1)\n",
    "\n",
    "if resa_db_1 == None:\n",
    "    result = True,\"TESTING OK FIRST\"\n",
    "    print(result)\n",
    "\n",
    "###################################################### TEST DU SI L'HEURE  DE DEBUT DEMANDER CORRESPOND A UNE HEURE DE FIN DEJA EXISTANTE#####################\n",
    "elif resa_db_1 != None and debut_reserv == resa_db_1[3]:\n",
    "    cursor.execute('SELECT * FROM RESERVATION R INNER JOIN SALLE S ON S.sa_id=R.sa_id WHERE S.sa_name=%s AND R.res_date=%s AND ((%s > R.res_heure_arrive AND %s < R.res_heure_depart) OR (%s >= R.res_heure_arrive AND %s <= R.res_heure_depart));', (num_salle_reserv,date_reserv,debut_reserv,debut_reserv, fin_reserv,fin_reserv))\n",
    "    result_fin_to_debut_reserv = cursor.fetchone()\n",
    "    \n",
    "    if result_fin_to_debut_reserv == None and resa_db_1 != None:\n",
    "        result = True,\"TESTING IS OK 1\"\n",
    "        print(result)\n",
    "    \n",
    "\n",
    "\n",
    "########################################################### TEST DU SI L'HEURE DE FIN DEMANDER CORRESPOND A UNE HEURE DE DEBUT DEJA EXISTANTE#################\n",
    "\n",
    "elif resa_db_1 != None and fin_reserv == resa_db_1[2]:\n",
    "    cursor.execute('SELECT * FROM RESERVATION R INNER JOIN SALLE S ON S.sa_id=R.sa_id WHERE S.sa_name=%s AND R.res_date=%s AND ((%s >= R.res_heure_arrive AND %s <= R.res_heure_depart) OR (%s > R.res_heure_arrive AND %s < R.res_heure_depart));', (num_salle_reserv,date_reserv,debut_reserv,debut_reserv, fin_reserv,fin_reserv))\n",
    "    result_debut_to_fin_reserv = cursor.fetchone()\n",
    "    \n",
    "    if result_debut_to_fin_reserv == None and resa_db_1 != None:\n",
    "        result = True,\"TESTING IS OK 2\"\n",
    "        print(result)\n",
    "\n",
    "\n",
    "else:\n",
    "    result_fin_to_debut_reserv != None and resa_db_1 != None or result_debut_to_fin_reserv != None and resa_db_1 != None\n",
    "    result = False,\"TESTING NOT OK 1\"\n",
    "    print(result)\n"
   ]
  },
  {
   "cell_type": "code",
   "execution_count": null,
   "metadata": {},
   "outputs": [],
   "source": []
  }
 ]
}