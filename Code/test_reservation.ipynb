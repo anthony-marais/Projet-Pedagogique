{
 "metadata": {
  "language_info": {
   "codemirror_mode": {
    "name": "ipython",
    "version": 3
   },
   "file_extension": ".py",
   "mimetype": "text/x-python",
   "name": "python",
   "nbconvert_exporter": "python",
   "pygments_lexer": "ipython3",
   "version": "3.8.3-final"
  },
  "orig_nbformat": 2,
  "kernelspec": {
   "name": "python38364bitbase551ecd6c82244bf6af01fcf12b5dc095",
   "display_name": "Python 3.8.3 64-bit ('base')"
  }
 },
 "nbformat": 4,
 "nbformat_minor": 2,
 "cells": [
  {
   "cell_type": "code",
   "execution_count": 3,
   "metadata": {},
   "outputs": [],
   "source": [
    "from re import *"
   ]
  },
  {
   "cell_type": "code",
   "execution_count": 4,
   "metadata": {},
   "outputs": [],
   "source": [
    "mail = \"Bonjour, Nous souhaiterions utiliser la salle 736 le mardi 17 janvier entre 15 h et 19 h et la salle 140 le 18 janvier 9 h – 11 h.\""
   ]
  },
  {
   "cell_type": "code",
   "execution_count": 26,
   "metadata": {},
   "outputs": [],
   "source": [
    "#motif = (r\"(?:salle+\\s+\\d+)|(?:Salle+\\s+\\d+)|\\d+\\s+h|(?:\\d+\\s+janvier)|(?:\\d+\\s+fevrier)|(?:\\d+\\s+mars)|(?:\\d+\\s+avril)|(?:\\d+\\s+mai)|(?:\\d+\\s+juin)|(?:\\d+\\s+juillet)|(?:\\d+\\s+août)|(?:\\d+\\s+septembre)|(?:\\d+\\s+octobre)|(?:\\d+\\s+novembre)|(?:\\d+\\s+decembre)\")"
   ]
  },
  {
   "cell_type": "code",
   "execution_count": null,
   "metadata": {},
   "outputs": [],
   "source": [
    "motif_salle = (r\"(?:salle+\\s+\\d+)|(?:Salle+\\s+\\d+)\")\n",
    "motif_date = (r\"(?:\\d+\\s+janvier)|(?:\\d+\\s+fevrier)|(?:\\d+\\s+mars)|(?:\\d+\\s+avril)|(?:\\d+\\s+mai)|(?:\\d+\\s+juin)|(?:\\d+\\s+juillet)|(?:\\d+\\s+août)|(?:\\d+\\s+septembre)|(?:\\d+\\s+octobre)|(?:\\d+\\s+novembre)|(?:\\d+\\s+decembre)\")\n",
    "motif_heure = (r\"(?:\\d+\\s+Heures)|(?:\\d+\\s+Heure)|(?:\\d+\\s+heures)|(?:\\d+\\s+heure)|(?:\\d+\\s+h)|(?:\\d+\\s+H)|(?:\\d+h)|(?:\\d+H)\")\n",
    "\n",
    "motif = (r\"(?:salle+\\s+\\d+)|(?:Salle+\\s+\\d+)|(?:\\d+\\s+janvier)|(?:\\d+\\s+fevrier)|(?:\\d+\\s+mars)|(?:\\d+\\s+avril)|(?:\\d+\\s+mai)|(?:\\d+\\s+juin)|(?:\\d+\\s+juillet)|(?:\\d+\\s+août)|(?:\\d+\\s+septembre)|(?:\\d+\\s+octobre)|(?:\\d+\\s+novembre)|(?:\\d+\\s+decembre)|)"
   ]
  },
  {
   "cell_type": "code",
   "execution_count": 29,
   "metadata": {},
   "outputs": [],
   "source": [
    "def read_mail(s):\n",
    "    motif = \"(\\d+\\s[a-zA-Z]+)\\s+[a-zA-Z]+\\s(\\d+)\\s[a-zA-Z]\\s[a-zA-Z]+\\s(\\d+)\\s[a-zA-Z]\\s[a-zA-Z]+\\s[a-zA-Z]+\\s[a-zA-Z]+\\s([a-zA-Z]+\\s\\d+)\"\n",
    "    motif_2 = \"([a-zA-Z]+\\s\\d+)\\s+[a-zA-Z]+\\s(\\d+\\s+[a-zA-Z]+)\\s+[a-zA-Z]+\\s+(\\d+)\\s[a-zA-Z]+\\s[a-zA-Z]+\\s(\\d+)\\s[a-zA-Z]+\\s[a-zA-Z]+\"\n",
    "    motif_3 = \"(\\d+)\\s[a-zA-Z]+\\s[a-zA-Z]+\\s(\\d+)\\s[a-zA-Z]+\\s[a-zA-Z]+\\s(\\d+\\s[a-zA-Z]+)\\s[a-zA-Z]+\\s[a-zA-Z]+\\s([a-zA-Z]+\\s\\d+)\"\n",
    "    res = findall(motif, mail)\n",
    "    res_2 = findall(motif_2, mail)\n",
    "    res_3 = findall(motif_3, mail)\n",
    "    return res , res_2 , res_3"
   ]
  },
  {
   "cell_type": "code",
   "execution_count": 30,
   "metadata": {},
   "outputs": [
    {
     "output_type": "stream",
     "name": "stdout",
     "text": [
      "([], [], [('17', '15', '19 h', 'salle 140')])\n"
     ]
    }
   ],
   "source": [
    "print(read_mail(mail))"
   ]
  },
  {
   "cell_type": "code",
   "execution_count": null,
   "metadata": {},
   "outputs": [],
   "source": []
  },
  {
   "cell_type": "code",
   "execution_count": 34,
   "metadata": {},
   "outputs": [
    {
     "output_type": "stream",
     "name": "stdout",
     "text": [
      "[('736', '17', 'janvier', '15', '19'), ('140', '18', 'janvier', '9', '11')]\n"
     ]
    }
   ],
   "source": [
    "def read_mail(s):\n",
    "    motif = \"[a-zA-Z]+\\s(\\d+)[^\\d]+([\\d]+)\\s*([a-zA-Z]+)[^\\d]+([\\d]+)[^\\d]+([\\d]+)\"\n",
    "    res = findall(motif, mail)\n",
    "    return res\n",
    "print(read_mail(mail))"
   ]
  },
  {
   "source": [
    "## test de lecture email avec python"
   ],
   "cell_type": "markdown",
   "metadata": {}
  },
  {
   "cell_type": "code",
   "execution_count": 86,
   "metadata": {
    "tags": []
   },
   "outputs": [
    {
     "output_type": "error",
     "ename": "error",
     "evalue": "b'[ALERT] Your account is not enabled for IMAP use. Please visit your Gmail settings page and enable your account for IMAP access. (Failure)'",
     "traceback": [
      "\u001b[0;31m---------------------------------------------------------------------------\u001b[0m",
      "\u001b[0;31merror\u001b[0m                                     Traceback (most recent call last)",
      "\u001b[0;32m<ipython-input-86-31790f2d6136>\u001b[0m in \u001b[0;36m<module>\u001b[0;34m\u001b[0m\n\u001b[0;32m----> 1\u001b[0;31m \u001b[0mread_email_from_gmail\u001b[0m\u001b[0;34m(\u001b[0m\u001b[0;34m)\u001b[0m\u001b[0;34m\u001b[0m\u001b[0;34m\u001b[0m\u001b[0m\n\u001b[0m",
      "\u001b[0;32m<ipython-input-84-c4143a0b16a0>\u001b[0m in \u001b[0;36mread_email_from_gmail\u001b[0;34m()\u001b[0m\n\u001b[1;32m     23\u001b[0m     \u001b[0;32mtry\u001b[0m\u001b[0;34m:\u001b[0m\u001b[0;34m\u001b[0m\u001b[0;34m\u001b[0m\u001b[0m\n\u001b[1;32m     24\u001b[0m         \u001b[0mmail\u001b[0m \u001b[0;34m=\u001b[0m \u001b[0mimaplib\u001b[0m\u001b[0;34m.\u001b[0m\u001b[0mIMAP4_SSL\u001b[0m\u001b[0;34m(\u001b[0m\u001b[0mSMTP_SERVER\u001b[0m\u001b[0;34m)\u001b[0m\u001b[0;34m\u001b[0m\u001b[0;34m\u001b[0m\u001b[0m\n\u001b[0;32m---> 25\u001b[0;31m         \u001b[0mmail\u001b[0m\u001b[0;34m.\u001b[0m\u001b[0mlogin\u001b[0m\u001b[0;34m(\u001b[0m\u001b[0mFROM_EMAIL\u001b[0m\u001b[0;34m,\u001b[0m\u001b[0mFROM_PWD\u001b[0m\u001b[0;34m)\u001b[0m\u001b[0;34m\u001b[0m\u001b[0;34m\u001b[0m\u001b[0m\n\u001b[0m\u001b[1;32m     26\u001b[0m         \u001b[0mmail\u001b[0m\u001b[0;34m.\u001b[0m\u001b[0mselect\u001b[0m\u001b[0;34m(\u001b[0m\u001b[0;34m'inbox'\u001b[0m\u001b[0;34m)\u001b[0m\u001b[0;34m\u001b[0m\u001b[0;34m\u001b[0m\u001b[0m\n\u001b[1;32m     27\u001b[0m \u001b[0;34m\u001b[0m\u001b[0m\n",
      "\u001b[0;32m~/anaconda3/lib/python3.8/imaplib.py\u001b[0m in \u001b[0;36mlogin\u001b[0;34m(self, user, password)\u001b[0m\n\u001b[1;32m    601\u001b[0m         \u001b[0mtyp\u001b[0m\u001b[0;34m,\u001b[0m \u001b[0mdat\u001b[0m \u001b[0;34m=\u001b[0m \u001b[0mself\u001b[0m\u001b[0;34m.\u001b[0m\u001b[0m_simple_command\u001b[0m\u001b[0;34m(\u001b[0m\u001b[0;34m'LOGIN'\u001b[0m\u001b[0;34m,\u001b[0m \u001b[0muser\u001b[0m\u001b[0;34m,\u001b[0m \u001b[0mself\u001b[0m\u001b[0;34m.\u001b[0m\u001b[0m_quote\u001b[0m\u001b[0;34m(\u001b[0m\u001b[0mpassword\u001b[0m\u001b[0;34m)\u001b[0m\u001b[0;34m)\u001b[0m\u001b[0;34m\u001b[0m\u001b[0;34m\u001b[0m\u001b[0m\n\u001b[1;32m    602\u001b[0m         \u001b[0;32mif\u001b[0m \u001b[0mtyp\u001b[0m \u001b[0;34m!=\u001b[0m \u001b[0;34m'OK'\u001b[0m\u001b[0;34m:\u001b[0m\u001b[0;34m\u001b[0m\u001b[0;34m\u001b[0m\u001b[0m\n\u001b[0;32m--> 603\u001b[0;31m             \u001b[0;32mraise\u001b[0m \u001b[0mself\u001b[0m\u001b[0;34m.\u001b[0m\u001b[0merror\u001b[0m\u001b[0;34m(\u001b[0m\u001b[0mdat\u001b[0m\u001b[0;34m[\u001b[0m\u001b[0;34m-\u001b[0m\u001b[0;36m1\u001b[0m\u001b[0;34m]\u001b[0m\u001b[0;34m)\u001b[0m\u001b[0;34m\u001b[0m\u001b[0;34m\u001b[0m\u001b[0m\n\u001b[0m\u001b[1;32m    604\u001b[0m         \u001b[0mself\u001b[0m\u001b[0;34m.\u001b[0m\u001b[0mstate\u001b[0m \u001b[0;34m=\u001b[0m \u001b[0;34m'AUTH'\u001b[0m\u001b[0;34m\u001b[0m\u001b[0;34m\u001b[0m\u001b[0m\n\u001b[1;32m    605\u001b[0m         \u001b[0;32mreturn\u001b[0m \u001b[0mtyp\u001b[0m\u001b[0;34m,\u001b[0m \u001b[0mdat\u001b[0m\u001b[0;34m\u001b[0m\u001b[0;34m\u001b[0m\u001b[0m\n",
      "\u001b[0;31merror\u001b[0m: b'[ALERT] Your account is not enabled for IMAP use. Please visit your Gmail settings page and enable your account for IMAP access. (Failure)'"
     ]
    }
   ],
   "source": [
    "read_email_from_gmail()"
   ]
  },
  {
   "cell_type": "code",
   "execution_count": 84,
   "metadata": {},
   "outputs": [],
   "source": [
    "\n",
    "\n",
    "ORG_EMAIL   = \"@gmail.com\"\n",
    "FROM_EMAIL  = \"marais.anthony.pro\" + ORG_EMAIL\n",
    "FROM_PWD    = \"Viruscloud1:\"\n",
    "SMTP_SERVER = \"imap.gmail.com\"\n",
    "SMTP_PORT   = 993\n",
    "\n",
    "\n",
    "\n",
    "\n",
    "\n",
    "import smtplib\n",
    "import time\n",
    "import imaplib\n",
    "import email\n",
    "\n",
    "# -------------------------------------------------\n",
    "#\n",
    "# Utility to read email from Gmail Using Python\n",
    "#\n",
    "# ------------------------------------------------\n",
    "\n",
    "def read_email_from_gmail():\n",
    "    try:\n",
    "        mail = imaplib.IMAP4_SSL(SMTP_SERVER)\n",
    "        mail.login(FROM_EMAIL,FROM_PWD)\n",
    "        mail.select('inbox')\n",
    "\n",
    "        type, data = mail.search(None, 'ALL')\n",
    "        mail_ids = data[0]\n",
    "\n",
    "        id_list = mail_ids.split()   \n",
    "        first_email_id = int(id_list[0])\n",
    "        latest_email_id = int(id_list[-1])\n",
    "\n",
    "\n",
    "        for i in range(latest_email_id,first_email_id, -1):\n",
    "            typ, data = mail.fetch(str(i).encode(), '(RFC822)' )\n",
    "\n",
    "            for response_part in data:\n",
    "                if isinstance(response_part, tuple):\n",
    "                    msg = email.message_from_string(response_part[1].decode())\n",
    "                    email_subject = msg['subject']\n",
    "                    email_from = msg['from']\n",
    "                    print('From : ' + email_from + '\\n')\n",
    "                    print('Subject : ' + email_subject + '\\n')\n",
    "\n",
    "    except Exception as e:\n",
    "        raise"
   ]
  },
  {
   "cell_type": "code",
   "execution_count": 1,
   "metadata": {
    "tags": []
   },
   "outputs": [],
   "source": [
    "import imaplib\n",
    "import email\n",
    "from email.header import decode_header\n",
    "import webbrowser\n",
    "import os\n",
    "import sys\n",
    "\n",
    "\n",
    "sys.stdout = open(\"test.txt\", \"w\")\n",
    "\n",
    "# account credentials\n",
    "username = \"marais.anthony.pro@gmail.com\"\n",
    "password = \"Viruscloud1:\"\n",
    "\n",
    "\n",
    "# create an IMAP4 class with SSL \n",
    "imap = imaplib.IMAP4_SSL(\"imap.gmail.com\")\n",
    "# authenticate\n",
    "imap.login(username, password)\n",
    "\n",
    "status, messages = imap.select(\"INBOX\")\n",
    "# number of top emails to fetch\n",
    "N = 4\n",
    "# total number of emails\n",
    "messages = int(messages[0])\n",
    "\n",
    "\n",
    "for i in range(messages, messages-N, -1):\n",
    "    # fetch the email message by ID\n",
    "    res, msg = imap.fetch(str(i), \"(RFC822)\")\n",
    "    for response in msg:\n",
    "        if isinstance(response, tuple):\n",
    "            # parse a bytes email into a message object\n",
    "            msg = email.message_from_bytes(response[1])\n",
    "            # decode the email subject\n",
    "            subject = decode_header(msg[\"Subject\"])[0][0]\n",
    "            if isinstance(subject, bytes):\n",
    "                # if it's a bytes, decode to str\n",
    "                subject = subject.decode()\n",
    "            # decode email sender\n",
    "            From, encoding = decode_header(msg.get(\"From\"))[0]\n",
    "            if isinstance(From, bytes):\n",
    "                From = From.decode(encoding)\n",
    "            print(\"Subject:\", subject)\n",
    "            print(\"From:\", From)\n",
    "            # if the email message is multipart\n",
    "            if msg.is_multipart():\n",
    "                # iterate over email parts\n",
    "                for part in msg.walk():\n",
    "                    # extract content type of email\n",
    "                    content_type = part.get_content_type()\n",
    "                    content_disposition = str(part.get(\"Content-Disposition\"))\n",
    "                    try:\n",
    "                        # get the email body\n",
    "                        body = part.get_payload(decode=True).decode()\n",
    "                    except:\n",
    "                        pass\n",
    "                    if content_type == \"text/plain\" and \"attachment\" not in content_disposition:\n",
    "                        # print text/plain emails and skip attachments\n",
    "                        print(body)\n",
    "                    elif \"attachment\" in content_disposition:\n",
    "                        # download attachment\n",
    "                        filename = part.get_filename()\n",
    "                        if filename:\n",
    "                            if not os.path.isdir(subject):\n",
    "                                # make a folder for this email (named after the subject)\n",
    "                                os.mkdir(subject)\n",
    "                            filepath = os.path.join(subject, filename)\n",
    "                            # download attachment and save it\n",
    "                            open(filepath, \"wb\").write(part.get_payload(decode=True))\n",
    "            else:\n",
    "                # extract content type of email\n",
    "                content_type = msg.get_content_type()\n",
    "                # get the email body\n",
    "                body = msg.get_payload(decode=True).decode()\n",
    "                if content_type == \"text/plain\":\n",
    "                    # print only text email parts\n",
    "                    print(body)\n",
    "            if content_type == \"text/html\":\n",
    "                # if it's HTML, create a new HTML file and open it in browser\n",
    "                if not os.path.isdir(subject):\n",
    "                    # make a folder for this email (named after the subject)\n",
    "                    os.mkdir(subject)\n",
    "                filename = f\"{subject[:50]}.html\"\n",
    "                filepath = os.path.join(subject, filename)\n",
    "                # write the file\n",
    "                open(filepath, \"w\").write(body)\n",
    "                # open in the default browser\n",
    "                webbrowser.open(filepath)\n",
    "            print(\"=\"*100)\n",
    "sys.stdout.close()\n",
    "\n",
    "# close the connection and logout\n",
    "imap.close()\n",
    "imap.logout()\n"
   ]
  },
  {
   "cell_type": "code",
   "execution_count": 25,
   "metadata": {},
   "outputs": [
    {
     "output_type": "error",
     "ename": "SyntaxError",
     "evalue": "invalid character in identifier (<ipython-input-25-c648cb8439bd>, line 1)",
     "traceback": [
      "\u001b[0;36m  File \u001b[0;32m\"<ipython-input-25-c648cb8439bd>\"\u001b[0;36m, line \u001b[0;32m1\u001b[0m\n\u001b[0;31m    file = open(\"/home/virus/Projet-Pedagogique/Code/test.txt\")\u001b[0m\n\u001b[0m                                                               ^\u001b[0m\n\u001b[0;31mSyntaxError\u001b[0m\u001b[0;31m:\u001b[0m invalid character in identifier\n"
     ]
    }
   ],
   "source": [
    "file = open(\"/home/virus/Projet-Pedagogique/Code/test.txt\""
   ]
  },
  {
   "cell_type": "code",
   "execution_count": null,
   "metadata": {},
   "outputs": [],
   "source": []
  }
 ]
}