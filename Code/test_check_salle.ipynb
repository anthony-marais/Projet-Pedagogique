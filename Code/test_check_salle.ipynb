{
 "metadata": {
  "language_info": {
   "codemirror_mode": {
    "name": "ipython",
    "version": 3
   },
   "file_extension": ".py",
   "mimetype": "text/x-python",
   "name": "python",
   "nbconvert_exporter": "python",
   "pygments_lexer": "ipython3",
   "version": "3.8.5-final"
  },
  "orig_nbformat": 2,
  "kernelspec": {
   "name": "python3",
   "display_name": "Python 3",
   "language": "python"
  }
 },
 "nbformat": 4,
 "nbformat_minor": 2,
 "cells": [
  {
   "cell_type": "code",
   "execution_count": 30,
   "metadata": {},
   "outputs": [],
   "source": [
    "# connector de python à mysql\n",
    "import mysql.connector\n",
    "import json\n",
    "#**************************************************************************************CREATION DE LA CONNEXION SQLALCHEMY**********************************************************\n",
    "\n",
    "## IMPORT DU CONFIG.JSON\n",
    "# assignation de la config.json à fichierConfig\n",
    "fichierConfig = \"config.json\"\n",
    "# ouverture et chargement des donnée contenu dans fichierConfig\n",
    "with open(fichierConfig) as fichier:\n",
    "    config = json.load(fichier)[\"mysql\"]\n",
    "\n",
    "# assignation de de la connexion par create_engine avec les éléement de connexion + les info du fichierConfig à engine\n",
    "# en dehors de la class car cet élémeent ne change pas\n",
    "connection = mysql.connector.connect(host=config[\"host\"],database = config[\"bdd\"],user=config[\"user\"],password=config[\"password\"])\n",
    "cursor = connection.cursor(buffered=True)"
   ]
  },
  {
   "cell_type": "code",
   "execution_count": 31,
   "metadata": {},
   "outputs": [],
   "source": [
    "num_salle_reserv = \"salle 736\"\n",
    "num_salle_reserv = str(num_salle_reserv)\n",
    "numsalle = num_salle_reserv"
   ]
  },
  {
   "cell_type": "code",
   "execution_count": 33,
   "metadata": {},
   "outputs": [
    {
     "output_type": "execute_result",
     "data": {
      "text/plain": [
       "('salle 736',)"
      ]
     },
     "metadata": {},
     "execution_count": 33
    }
   ],
   "source": [
    "\n",
    "cursor.callproc('PSGetSALLEbyNAME',(numsalle,))"
   ]
  },
  {
   "cell_type": "code",
   "execution_count": 16,
   "metadata": {},
   "outputs": [
    {
     "output_type": "stream",
     "name": "stdout",
     "text": [
      "salle 736\n"
     ]
    }
   ],
   "source": [
    "print(test[0])"
   ]
  },
  {
   "cell_type": "code",
   "execution_count": 32,
   "metadata": {},
   "outputs": [
    {
     "output_type": "stream",
     "name": "stdout",
     "text": [
      "yES\n"
     ]
    }
   ],
   "source": [
    "print(\"yES\")"
   ]
  },
  {
   "cell_type": "code",
   "execution_count": 28,
   "metadata": {},
   "outputs": [],
   "source": [
    "cursor.execute('SELECT sa_name FROM SALLE WHERE sa_name LIKE %s;', (num_salle_reserv,))\n",
    "\n",
    "resa_db_salle = cursor.fetchone()"
   ]
  },
  {
   "cell_type": "code",
   "execution_count": 29,
   "metadata": {},
   "outputs": [
    {
     "output_type": "execute_result",
     "data": {
      "text/plain": [
       "'salle 736'"
      ]
     },
     "metadata": {},
     "execution_count": 29
    }
   ],
   "source": [
    "resa_db_salle[0]"
   ]
  },
  {
   "cell_type": "code",
   "execution_count": 55,
   "metadata": {},
   "outputs": [
    {
     "output_type": "stream",
     "name": "stdout",
     "text": [
      "None\n"
     ]
    }
   ],
   "source": [
    "if resa_db_salle == None:\n",
    "    salle_valide = False\n",
    "    print('None')\n",
    "else:\n",
    "    salle_valide = True\n",
    "    print(\"Il y as une salle\")"
   ]
  },
  {
   "cell_type": "code",
   "execution_count": 56,
   "metadata": {},
   "outputs": [],
   "source": [
    "session = 40"
   ]
  },
  {
   "cell_type": "code",
   "execution_count": 57,
   "metadata": {},
   "outputs": [
    {
     "output_type": "error",
     "ename": "IndentationError",
     "evalue": "unexpected indent (<ipython-input-57-c46110472835>, line 11)",
     "traceback": [
      "\u001b[0;36m  File \u001b[0;32m\"<ipython-input-57-c46110472835>\"\u001b[0;36m, line \u001b[0;32m11\u001b[0m\n\u001b[0;31m    ma_id_recup = cursor.fetchone() ## ON STOCKE LE RESULTAT DE LA REQUETE DANS LA VARIABLE \"ma_id_recup\"\u001b[0m\n\u001b[0m    ^\u001b[0m\n\u001b[0;31mIndentationError\u001b[0m\u001b[0;31m:\u001b[0m unexpected indent\n"
     ]
    }
   ],
   "source": [
    "if result == True and salle_valide == True:             \n",
    "            ### insert ma_contenu + reservation\n",
    "            #**********************************Si check OK insertion dans la table MAIL*********************\n",
    "    parameter_ma_contenu = mail_contenu ## on initialise le mail_contenu dans la variable \"parameter_ma_contenu\"\n",
    "    parameter_session_id = session ## on initialise le session['id'] qui est l'id de la session en cours dans la variable \"parameter_session_id\"\n",
    "    cursor.callproc(\"PI_MAIL_SIMPLE\", [parameter_ma_contenu,parameter_session_id,],)    ## ON INSERE DANS LA TABLE MAIL LE MAIL CONTENU ET L'ID DE LA SESSION\n",
    "    connection.commit() ## ON VALIDE L'INSERTION\n",
    "                \n",
    "                ### recup ma_id du mail inserer dans le dernier ma_contenu de l'user\n",
    "    cursor.execute('SELECT ma_id FROM MAIL WHERE in_id = %s ORDER BY ma_date DESC LIMIT 1 ', (parameter_session_id,))   ## ON RECUPERE LE DERNIER MAIL ENVOYER DE L'USER ORDONNER PAR LA DATE ET L'HEURE ET SECONDE LA PLUS RECENTE \n",
    "     ma_id_recup = cursor.fetchone() ## ON STOCKE LE RESULTAT DE LA REQUETE DANS LA VARIABLE \"ma_id_recup\"\n",
    "     ma_id_recup = ma_id_recup[0]    ## ma_id_recup est initialise avec son premier élément de sa liste\n",
    "                \n",
    "                \n",
    "                ### recup le sa_id where num_salle_reserv\n",
    "     cursor.execute('SELECT sa_id FROM SALLE WHERE sa_name = %s', (num_salle_reserv,)) ## ON REQUETE LA DATABASE POUR RECUPER L'ID DE LA SALLE DEMANDER PAR LE NOM DE LA SALLE\n",
    "     sa_id_recup = cursor.fetchone() # on stocke le resultat de la requete dans \"sa_id_recup\"\n",
    "     sa_id_recup = sa_id_recup    # sa_id_recup est initialise avec son premier élément de sa liste\n",
    "\n",
    "\n",
    "             #********************************** Insertion du contenu en reservation dans RESERVATION***********************\n",
    "     args = [date_reserv,debut_reserv,fin_reserv,time_reserv,sa_id_recup,ma_id_recup,] ### ASSIGNATION DANS \"args\" LISTE DES ARGUMENT D'ENTRER DANS LA PROCEDURE SOTCKE POUR INSERER LA RESERVATION\n",
    "     cursor.callproc(\"PI_RES_SIMPLE\", (args[0],args[1],args[2],args[3],args[4],args[5],))    ### EXECUTION DE LA PROCEDURE STOCKE POUR INSERER LA RESERVATION\n",
    "     connection.commit()    "
   ]
  },
  {
   "cell_type": "code",
   "execution_count": null,
   "metadata": {},
   "outputs": [],
   "source": []
  }
 ]
}