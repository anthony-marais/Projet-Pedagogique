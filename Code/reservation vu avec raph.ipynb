{
 "metadata": {
  "language_info": {
   "codemirror_mode": {
    "name": "ipython",
    "version": 3
   },
   "file_extension": ".py",
   "mimetype": "text/x-python",
   "name": "python",
   "nbconvert_exporter": "python",
   "pygments_lexer": "ipython3",
   "version": "3.8.3-final"
  },
  "orig_nbformat": 2,
  "kernelspec": {
   "name": "python38364bitbase551ecd6c82244bf6af01fcf12b5dc095",
   "display_name": "Python 3.8.3 64-bit ('base')"
  }
 },
 "nbformat": 4,
 "nbformat_minor": 2,
 "cells": [
  {
   "cell_type": "code",
   "execution_count": 3,
   "metadata": {},
   "outputs": [
    {
     "output_type": "stream",
     "name": "stdout",
     "text": [
      "Numéro de salle: 736, Date de Resa: 17\n"
     ]
    }
   ],
   "source": [
    "import re\n",
    "\n",
    "mail_test = \"Salut, J’ai besoin de la salle 736 le 17 janvier entre 8 h et 10 h.\"\n",
    "\n",
    "class interface_mail:\n",
    "\n",
    "    def __init__(self):\n",
    "        self.aTraiter = []\n",
    "    def read_mail(self, mail):\n",
    "        motif = \"salle\\s([0-9]+)[^0-9]+([0-9]+)\\s*\"\n",
    "        motif += \"([a-z]+)[^0-9]+([0-9]+)[^0-9]+([0-9]+)\"\n",
    "        res_mail = re.findall(motif,mail)\n",
    "        toAdd = [reservation(i) for i in res_mail]\n",
    "        self.aTraiter += toAdd\n",
    "    def __str__(self):\n",
    "        testStr = \"\"\n",
    "        #for resa in range(len(self.aTraiter)):\n",
    "        for idx, resa in enumerate(self.aTraiter):\n",
    "            testStr = \"Numéro de salle: {}, Date de Resa: {}\".format(resa.numSalle, resa.NumDateReserv)\n",
    "        return testStr\n",
    "        \n",
    "class reservation:\n",
    "    def __init__(self, info):\n",
    "        self.numSalle = info[0]\n",
    "        self.NumDateReserv = info[1]\n",
    "        self.MoisDateReserv = info[2]\n",
    "        self.heureDebut = info[3]\n",
    "        self.heureFin = info[4]\n",
    "\n",
    "    def _set_salle(self, numSalle):\n",
    "        self._numSalle = str(numSalle)\n",
    "        \n",
    "    def _set_date(self, NumDateReserv, MoisDateReserv):\n",
    "        self._NumDateReserv = str(NumDateReserv)\n",
    "        self._MoisDateReserv = str(MoisDateReserv)\n",
    "        self._dateReserv = NumDateReserv + \" \" + MoisDateReserv\n",
    "        \n",
    "    \n",
    "    def _set_heure(self, heureDebut,heureFin):\n",
    "        self._heureDebut = int(heureDebut)\n",
    "        self._heureFin = int(heureFin)\n",
    "        self._Time = heureFin - heureDebut\n",
    "    def _get_salle(self):\n",
    "        return self._numSalle\n",
    "    \n",
    "    def _get_date(self):\n",
    "        return self._dateReserv\n",
    "    \n",
    "    def _get_heure(self):\n",
    "        return self._heureDebut, self._MoisDateReserv , self._Time\n",
    "    \n",
    "    numSalle = property(_get_salle, _set_salle)\n",
    "    date = property(_get_date, _set_date)\n",
    "    heure = property(_get_heure, _set_heure)\n",
    "        \n",
    "test = interface_mail()\n",
    "test.read_mail(mail_test)\n",
    "print(test)\n",
    "    "
   ]
  },
  {
   "cell_type": "code",
   "execution_count": null,
   "metadata": {},
   "outputs": [],
   "source": []
  }
 ]
}