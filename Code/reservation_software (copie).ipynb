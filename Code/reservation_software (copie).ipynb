{
 "metadata": {
  "language_info": {
   "codemirror_mode": {
    "name": "ipython",
    "version": 3
   },
   "file_extension": ".py",
   "mimetype": "text/x-python",
   "name": "python",
   "nbconvert_exporter": "python",
   "pygments_lexer": "ipython3",
   "version": "3.8.3-final"
  },
  "orig_nbformat": 2,
  "kernelspec": {
   "name": "python3",
   "display_name": "Python 3"
  }
 },
 "nbformat": 4,
 "nbformat_minor": 2,
 "cells": [
  {
   "source": [
    "# Importation des librairies python"
   ],
   "cell_type": "markdown",
   "metadata": {}
  },
  {
   "cell_type": "code",
   "execution_count": 1,
   "metadata": {},
   "outputs": [],
   "source": [
    "import time\n",
    "import re"
   ]
  },
  {
   "source": [
    "# Création des différentes classes du logiciel"
   ],
   "cell_type": "markdown",
   "metadata": {}
  },
  {
   "source": [
    "## Création de la classe interface_mail\n",
    "\n",
    "#### La class interface_mail n’a qu’une seul méthode supplémentaire read_mail(), #### récupère le contenu du texte et cherche un motif commençant par le mot « salle » et alternant ensuite blocs de chiffres et boc d’autre caractères, censés être dans l’ordre : salle, date, horaire de début et horaire de fin. Le résultat est ensuite utilisé pour construire un objet reservation.On peut stocker les information ainsi extraite dans une liste pérenne qui sera ensuite traité en temps voulu par le reste du programme. Ainsi l’interface et la base de données peuvent travailler de façon asynchrone. C’est-à-dire que l’interface peut recevoir des mail en continu toute la journée et la base de données, être mise à jour une fois par jour.Pour la méthode read_mail(). Pour le moment on peut traiter les mails comme une chaine de caractère directement écrite dans le programme (Une interface utilisateur pourra être créer ultérieurement avec Flask). "
   ],
   "cell_type": "markdown",
   "metadata": {}
  },
  {
   "cell_type": "code",
   "execution_count": 2,
   "metadata": {},
   "outputs": [],
   "source": [
    "# lire le mail, recherche par motif REGEX (le mot salle), salle, date horraire debut/fi\n",
    "# une fois traitement fais stockage dans une liste [] .append()\n",
    "\n",
    "mail_test = \"Salut, J’ai besoin de la salle 736 le 17 janvier entre 8 h et 10 h.\"\n",
    "\n",
    "class interface_mail:\n",
    "\n",
    "    def __init__(self):\n",
    "        self.aTraiter = []\n",
    "    def read_mail(self, mail):\n",
    "        motif = \"[a-zA-Z]+\\s(\\d+)[^\\d]+([\\d]+)\\s*([a-zA-Z]+)[^\\d]+([\\d]+)[^\\d]+([\\d]+)\"\n",
    "        res_mail = re.findall(motif,mail)\n",
    "        toAdd = [reservation(i) for i in res_mail]\n",
    "        self.aTraiter += toAdd\n",
    "    def __str__(self):\n",
    "        testStr = \"\"\n",
    "        #for resa in range(len(self.aTraiter)):\n",
    "        for idx, resa in enumerate(self.aTraiter):\n",
    "            testStr = \"Numéro de salle: {}, Date de Resa: {}\".format(resa.numSalle, resa.NumDateReserv)\n",
    "        return testStr"
   ]
  },
  {
   "source": [
    "# Création de la classe réservation\n",
    "\n",
    "## Pour la class reservation :\n",
    "##### On peut supposer pour simplifier que les emails ont une structure ressemblant aux exemple ci\u0002dessous, c’est-à-dire que chaque demande de la réservation se présente de la façon suivante : \n",
    "##### mention de la salle, puis de la date (jour avant mois), puis mention du créneau horaire.\n",
    "##### Mail1.txt :\n",
    "##### Bonjour,\n",
    "##### Nous souhaiterions utiliser la salle 736 le mardi 17 janvier entre 15 h et 19 h et la salle 140 le \n",
    "##### 18 janvier 9 h – 11 h.\n",
    "##### Mail2.txt :\n",
    "##### Salut,\n",
    "##### J’ai besoin de la salle 736 le 17 janvier entre 8 h et 10 h.\n",
    "##### Mail3.txt :\n",
    "##### Je peux avoir la salle 736 le mardi 17 janvier de 14 h à 16 h ?\n",
    "##### Chris.\n",
    "##### L’objet reservation doit pouvoir doit pouvoir contenir toutes ces informations, stockée sous forme de \n",
    "##### chaine de caractères, sauf les horaires qui seront des entiers pour pouvoir effectuer plus facilement \n",
    "##### des opérations"
   ],
   "cell_type": "markdown",
   "metadata": {}
  },
  {
   "cell_type": "code",
   "execution_count": 3,
   "metadata": {},
   "outputs": [],
   "source": [
    "class reservation:\n",
    "    def __init__(self, info):\n",
    "        self.numSalle = info[0]\n",
    "        self.NumDateReserv = info[1]\n",
    "        self.MoisDateReserv = info[2]\n",
    "        self.heureDebut = info[3]\n",
    "        self.heureFin = info[4]\n",
    "\n",
    "    def _set_salle(self, numSalle):\n",
    "        self._numSalle = str(numSalle)\n",
    "        \n",
    "    def _set_date(self, NumDateReserv, MoisDateReserv):\n",
    "        self._NumDateReserv = str(NumDateReserv)\n",
    "        self._MoisDateReserv = str(MoisDateReserv)\n",
    "        self._dateReserv = NumDateReserv + \" \" + MoisDateReserv\n",
    "        \n",
    "    \n",
    "    def _set_heure(self, heureDebut,heureFin):\n",
    "        self._heureDebut = int(heureDebut)\n",
    "        self._heureFin = int(heureFin)\n",
    "        self._Time = heureFin - heureDebut\n",
    "    def _get_salle(self):\n",
    "        return self._numSalle\n",
    "    \n",
    "    def _get_date(self):\n",
    "        return self._dateReserv\n",
    "    \n",
    "    def _get_heure(self):\n",
    "        return self._heureDebut, self._MoisDateReserv , self._Time\n",
    "    \n",
    "    numSalle = property(_get_salle, _set_salle)\n",
    "    date = property(_get_date, _set_date)\n",
    "    heure = property(_get_heure, _set_heure)"
   ]
  },
  {
   "cell_type": "code",
   "execution_count": 4,
   "metadata": {},
   "outputs": [
    {
     "output_type": "stream",
     "name": "stdout",
     "text": [
      "Numéro de salle: 736, Date de Resa: 17\n"
     ]
    }
   ],
   "source": [
    "test = interface_mail()\n",
    "test.read_mail(mail_test)\n",
    "print(test)"
   ]
  },
  {
   "source": [
    "### Création de la classe Data access object"
   ],
   "cell_type": "markdown",
   "metadata": {}
  },
  {
   "source": [
    "class DAO:"
   ],
   "cell_type": "code",
   "metadata": {},
   "execution_count": null,
   "outputs": []
  },
  {
   "source": [
    "### Création de la classe moteur"
   ],
   "cell_type": "markdown",
   "metadata": {}
  },
  {
   "cell_type": "code",
   "execution_count": null,
   "metadata": {},
   "outputs": [],
   "source": [
    "class moteur:"
   ]
  }
 ]
}