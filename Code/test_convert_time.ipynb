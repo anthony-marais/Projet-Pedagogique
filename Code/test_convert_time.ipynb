{
 "metadata": {
  "language_info": {
   "codemirror_mode": {
    "name": "ipython",
    "version": 3
   },
   "file_extension": ".py",
   "mimetype": "text/x-python",
   "name": "python",
   "nbconvert_exporter": "python",
   "pygments_lexer": "ipython3",
   "version": "3.8.5-final"
  },
  "orig_nbformat": 2,
  "kernelspec": {
   "name": "python3",
   "display_name": "Python 3",
   "language": "python"
  }
 },
 "nbformat": 4,
 "nbformat_minor": 2,
 "cells": [
  {
   "cell_type": "code",
   "execution_count": 8,
   "metadata": {},
   "outputs": [
    {
     "output_type": "stream",
     "name": "stdout",
     "text": [
      "4\n1\n4 1 9\n"
     ]
    }
   ],
   "source": [
    "import pandas as pd\n",
    "\n",
    "\n",
    "t=\"419\"\n",
    "a = pd.to_datetime(t, format='%H%M%S')\n",
    "print(a.hour)\n",
    "print(a.minute)\n",
    "print(a.hour,a.minute,a.second)"
   ]
  },
  {
   "cell_type": "code",
   "execution_count": 1,
   "metadata": {},
   "outputs": [
    {
     "output_type": "stream",
     "name": "stdout",
     "text": [
      "9.99\n"
     ]
    }
   ],
   "source": [
    "value = int(10)\n",
    "\n",
    "print(value - 0.01)"
   ]
  },
  {
   "cell_type": "code",
   "execution_count": null,
   "metadata": {},
   "outputs": [],
   "source": []
  },
  {
   "cell_type": "code",
   "execution_count": 4,
   "metadata": {},
   "outputs": [
    {
     "output_type": "stream",
     "name": "stdout",
     "text": [
      "2001-09-09 03:46:40\n"
     ]
    }
   ],
   "source": [
    "import datetime\n",
    "timestamp = datetime.datetime.fromtimestamp(1000000000)\n",
    "print(timestamp.strftime('%Y-%m-%d %H:%M:%S'))"
   ]
  },
  {
   "cell_type": "code",
   "execution_count": null,
   "metadata": {},
   "outputs": [],
   "source": []
  },
  {
   "cell_type": "code",
   "execution_count": null,
   "metadata": {},
   "outputs": [],
   "source": []
  },
  {
   "cell_type": "code",
   "execution_count": 2,
   "metadata": {},
   "outputs": [
    {
     "output_type": "stream",
     "name": "stdout",
     "text": [
      "8 4\n"
     ]
    }
   ],
   "source": [
    "debut_reserv = 8\n",
    "fin_reserv = 4\n",
    "\n",
    "if debut_reserv in range(0,25) and fin_reserv in range(0,25):\n",
    "    debut_reserv = debut_reserv\n",
    "    fin_reserv = fin_reserv     ## l'heure fin est ok\n",
    "else:\n",
    "     debut_reserv = False        ## l'heure debut n'est pas bonne \n",
    "     fin_reserv = False\n",
    "\n",
    "\n",
    "print(debut_reserv,fin_reserv)   "
   ]
  },
  {
   "cell_type": "code",
   "execution_count": null,
   "metadata": {},
   "outputs": [],
   "source": []
  }
 ]
}