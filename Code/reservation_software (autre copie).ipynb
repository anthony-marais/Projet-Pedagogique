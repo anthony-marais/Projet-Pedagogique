{
 "metadata": {
  "language_info": {
   "codemirror_mode": {
    "name": "ipython",
    "version": 3
   },
   "file_extension": ".py",
   "mimetype": "text/x-python",
   "name": "python",
   "nbconvert_exporter": "python",
   "pygments_lexer": "ipython3",
   "version": "3.8.3-final"
  },
  "orig_nbformat": 2,
  "kernelspec": {
   "name": "python3",
   "display_name": "Python 3"
  }
 },
 "nbformat": 4,
 "nbformat_minor": 2,
 "cells": [
  {
   "source": [
    "# Importation des librairies python"
   ],
   "cell_type": "markdown",
   "metadata": {}
  },
  {
   "cell_type": "code",
   "execution_count": 4,
   "metadata": {},
   "outputs": [],
   "source": [
    "import time\n",
    "import re"
   ]
  },
  {
   "source": [
    "# Création des différentes classes du logiciel"
   ],
   "cell_type": "markdown",
   "metadata": {}
  },
  {
   "source": [
    "## Création de la classe interface_mail\n",
    "\n",
    "#### La class interface_mail n’a qu’une seul méthode supplémentaire read_mail(), #### récupère le contenu du texte et cherche un motif commençant par le mot « salle » et alternant ensuite blocs de chiffres et boc d’autre caractères, censés être dans l’ordre : salle, date, horaire de début et horaire de fin. Le résultat est ensuite utilisé pour construire un objet reservation.On peut stocker les information ainsi extraite dans une liste pérenne qui sera ensuite traité en temps voulu par le reste du programme. Ainsi l’interface et la base de données peuvent travailler de façon asynchrone. C’est-à-dire que l’interface peut recevoir des mail en continu toute la journée et la base de données, être mise à jour une fois par jour.Pour la méthode read_mail(). Pour le moment on peut traiter les mails comme une chaine de caractère directement écrite dans le programme (Une interface utilisateur pourra être créer ultérieurement avec Flask). "
   ],
   "cell_type": "markdown",
   "metadata": {}
  },
  {
   "cell_type": "code",
   "execution_count": 17,
   "metadata": {},
   "outputs": [],
   "source": [
    "# lire le mail, recherche par motif REGEX (le mot salle), salle, date horraire debut/fi\n",
    "# une fois traitement fais stockage dans une liste [] .append()\n",
    "\n",
    "mail_test = \"Salut, J’ai besoin de la salle 736 le 17 janvier entre 8 h et 10 h.\"\n",
    "\n",
    "class interface_mail:\n",
    "\n",
    "    def __init__(self):\n",
    "        self.aTraiter = []\n",
    "    def read_mail(self, mail):\n",
    "        motif = \"(?:salle+\\s+\\d+)|(?:Salle+\\s+\\d+)|(?:\\d+\\s+janvier)|(?:\\d+\\s+fevrier)|(?:\\d+\\s+mars)|(?:\\d+\\s+avril)|(?:\\d+\\s+mai)|(?:\\d+\\s+juin)|(?:\\d+\\s+juillet)|(?:\\d+\\s+août)|(?:\\d+\\s+septembre)|(?:\\d+\\s+octobre)|(?:\\d+\\s+novembre)|(?:\\d+\\s+decembre)|(?:\\d+)\"\n",
    "        res_mail = re.findall(motif,mail)\n",
    "        toAdd = [reservation(i) for i in res_mail]\n",
    "        self.aTraiter += toAdd\n",
    "    def __str__(self):\n",
    "        testStr = \"\"\n",
    "        #for resa in range(len(self.aTraiter)):\n",
    "        for idx, resa in enumerate(self.aTraiter):\n",
    "            testStr = \"Numéro de salle: {}, Date de Resa: {}\".format(resa.numSalle, resa.NumDateReserv)\n",
    "        return testStr"
   ]
  },
  {
   "source": [
    "# Création de la classe réservation\n",
    "\n",
    "## Pour la class reservation :\n",
    "##### On peut supposer pour simplifier que les emails ont une structure ressemblant aux exemple ci\u0002dessous, c’est-à-dire que chaque demande de la réservation se présente de la façon suivante : \n",
    "##### mention de la salle, puis de la date (jour avant mois), puis mention du créneau horaire.\n",
    "##### Mail1.txt :\n",
    "##### Bonjour,\n",
    "##### Nous souhaiterions utiliser la salle 736 le mardi 17 janvier entre 15 h et 19 h et la salle 140 le \n",
    "##### 18 janvier 9 h – 11 h.\n",
    "##### Mail2.txt :\n",
    "##### Salut,\n",
    "##### J’ai besoin de la salle 736 le 17 janvier entre 8 h et 10 h.\n",
    "##### Mail3.txt :\n",
    "##### Je peux avoir la salle 736 le mardi 17 janvier de 14 h à 16 h ?\n",
    "##### Chris.\n",
    "##### L’objet reservation doit pouvoir doit pouvoir contenir toutes ces informations, stockée sous forme de \n",
    "##### chaine de caractères, sauf les horaires qui seront des entiers pour pouvoir effectuer plus facilement \n",
    "##### des opérations"
   ],
   "cell_type": "markdown",
   "metadata": {}
  },
  {
   "cell_type": "code",
   "execution_count": 20,
   "metadata": {},
   "outputs": [],
   "source": [
    "class reservation:\n",
    "    def __init__(self, info):\n",
    "        self.numSalle = info[0]\n",
    "        self.dateReserv = info[1]\n",
    "        self.heureDebut = info[2]\n",
    "        self.heureFin = info[3]\n",
    "\n",
    "    def _set_salle(self, numSalle):\n",
    "        self._numSalle = str(numSalle)\n",
    "        \n",
    "    def _set_date(self, dateReserv):\n",
    "        self.dateReserv = str(dateReserv)\n",
    "        \n",
    "        \n",
    "        \n",
    "    \n",
    "    def _set_heure(self, heureDebut,heureFin):\n",
    "        self._heureDebut = int(heureDebut)\n",
    "        self._heureFin = int(heureFin)\n",
    "        self._Time = heureFin - heureDebut\n",
    "    def _get_salle(self):\n",
    "        return self._numSalle\n",
    "    \n",
    "    def _get_date(self):\n",
    "        return self._dateReserv\n",
    "    \n",
    "    def _get_heure(self):\n",
    "        return self._heureDebut, self._MoisDateReserv , self._Time\n",
    "    \n",
    "    numSalle = property(_get_salle, _set_salle)\n",
    "    date = property(_get_date, _set_date)\n",
    "    heure = property(_get_heure, _set_heure)"
   ]
  },
  {
   "cell_type": "code",
   "execution_count": 21,
   "metadata": {},
   "outputs": [
    {
     "output_type": "error",
     "ename": "IndexError",
     "evalue": "string index out of range",
     "traceback": [
      "\u001b[0;31m---------------------------------------------------------------------------\u001b[0m",
      "\u001b[0;31mIndexError\u001b[0m                                Traceback (most recent call last)",
      "\u001b[0;32m<ipython-input-21-33e79bc8034c>\u001b[0m in \u001b[0;36m<module>\u001b[0;34m\u001b[0m\n\u001b[1;32m      1\u001b[0m \u001b[0mtest\u001b[0m \u001b[0;34m=\u001b[0m \u001b[0minterface_mail\u001b[0m\u001b[0;34m(\u001b[0m\u001b[0;34m)\u001b[0m\u001b[0;34m\u001b[0m\u001b[0;34m\u001b[0m\u001b[0m\n\u001b[0;32m----> 2\u001b[0;31m \u001b[0mtest\u001b[0m\u001b[0;34m.\u001b[0m\u001b[0mread_mail\u001b[0m\u001b[0;34m(\u001b[0m\u001b[0mmail_test\u001b[0m\u001b[0;34m)\u001b[0m\u001b[0;34m\u001b[0m\u001b[0;34m\u001b[0m\u001b[0m\n\u001b[0m\u001b[1;32m      3\u001b[0m \u001b[0mprint\u001b[0m\u001b[0;34m(\u001b[0m\u001b[0mtest\u001b[0m\u001b[0;34m)\u001b[0m\u001b[0;34m\u001b[0m\u001b[0;34m\u001b[0m\u001b[0m\n",
      "\u001b[0;32m<ipython-input-17-c47cbc8692b6>\u001b[0m in \u001b[0;36mread_mail\u001b[0;34m(self, mail)\u001b[0m\n\u001b[1;32m     11\u001b[0m         \u001b[0mmotif\u001b[0m \u001b[0;34m=\u001b[0m \u001b[0;34m\"(?:salle+\\s+\\d+)|(?:Salle+\\s+\\d+)|(?:\\d+\\s+janvier)|(?:\\d+\\s+fevrier)|(?:\\d+\\s+mars)|(?:\\d+\\s+avril)|(?:\\d+\\s+mai)|(?:\\d+\\s+juin)|(?:\\d+\\s+juillet)|(?:\\d+\\s+août)|(?:\\d+\\s+septembre)|(?:\\d+\\s+octobre)|(?:\\d+\\s+novembre)|(?:\\d+\\s+decembre)|(?:\\d+)\"\u001b[0m\u001b[0;34m\u001b[0m\u001b[0;34m\u001b[0m\u001b[0m\n\u001b[1;32m     12\u001b[0m         \u001b[0mres_mail\u001b[0m \u001b[0;34m=\u001b[0m \u001b[0mre\u001b[0m\u001b[0;34m.\u001b[0m\u001b[0mfindall\u001b[0m\u001b[0;34m(\u001b[0m\u001b[0mmotif\u001b[0m\u001b[0;34m,\u001b[0m\u001b[0mmail\u001b[0m\u001b[0;34m)\u001b[0m\u001b[0;34m\u001b[0m\u001b[0;34m\u001b[0m\u001b[0m\n\u001b[0;32m---> 13\u001b[0;31m         \u001b[0mtoAdd\u001b[0m \u001b[0;34m=\u001b[0m \u001b[0;34m[\u001b[0m\u001b[0mreservation\u001b[0m\u001b[0;34m(\u001b[0m\u001b[0mi\u001b[0m\u001b[0;34m)\u001b[0m \u001b[0;32mfor\u001b[0m \u001b[0mi\u001b[0m \u001b[0;32min\u001b[0m \u001b[0mres_mail\u001b[0m\u001b[0;34m]\u001b[0m\u001b[0;34m\u001b[0m\u001b[0;34m\u001b[0m\u001b[0m\n\u001b[0m\u001b[1;32m     14\u001b[0m         \u001b[0mself\u001b[0m\u001b[0;34m.\u001b[0m\u001b[0maTraiter\u001b[0m \u001b[0;34m+=\u001b[0m \u001b[0mtoAdd\u001b[0m\u001b[0;34m\u001b[0m\u001b[0;34m\u001b[0m\u001b[0m\n\u001b[1;32m     15\u001b[0m     \u001b[0;32mdef\u001b[0m \u001b[0m__str__\u001b[0m\u001b[0;34m(\u001b[0m\u001b[0mself\u001b[0m\u001b[0;34m)\u001b[0m\u001b[0;34m:\u001b[0m\u001b[0;34m\u001b[0m\u001b[0;34m\u001b[0m\u001b[0m\n",
      "\u001b[0;32m<ipython-input-17-c47cbc8692b6>\u001b[0m in \u001b[0;36m<listcomp>\u001b[0;34m(.0)\u001b[0m\n\u001b[1;32m     11\u001b[0m         \u001b[0mmotif\u001b[0m \u001b[0;34m=\u001b[0m \u001b[0;34m\"(?:salle+\\s+\\d+)|(?:Salle+\\s+\\d+)|(?:\\d+\\s+janvier)|(?:\\d+\\s+fevrier)|(?:\\d+\\s+mars)|(?:\\d+\\s+avril)|(?:\\d+\\s+mai)|(?:\\d+\\s+juin)|(?:\\d+\\s+juillet)|(?:\\d+\\s+août)|(?:\\d+\\s+septembre)|(?:\\d+\\s+octobre)|(?:\\d+\\s+novembre)|(?:\\d+\\s+decembre)|(?:\\d+)\"\u001b[0m\u001b[0;34m\u001b[0m\u001b[0;34m\u001b[0m\u001b[0m\n\u001b[1;32m     12\u001b[0m         \u001b[0mres_mail\u001b[0m \u001b[0;34m=\u001b[0m \u001b[0mre\u001b[0m\u001b[0;34m.\u001b[0m\u001b[0mfindall\u001b[0m\u001b[0;34m(\u001b[0m\u001b[0mmotif\u001b[0m\u001b[0;34m,\u001b[0m\u001b[0mmail\u001b[0m\u001b[0;34m)\u001b[0m\u001b[0;34m\u001b[0m\u001b[0;34m\u001b[0m\u001b[0m\n\u001b[0;32m---> 13\u001b[0;31m         \u001b[0mtoAdd\u001b[0m \u001b[0;34m=\u001b[0m \u001b[0;34m[\u001b[0m\u001b[0mreservation\u001b[0m\u001b[0;34m(\u001b[0m\u001b[0mi\u001b[0m\u001b[0;34m)\u001b[0m \u001b[0;32mfor\u001b[0m \u001b[0mi\u001b[0m \u001b[0;32min\u001b[0m \u001b[0mres_mail\u001b[0m\u001b[0;34m]\u001b[0m\u001b[0;34m\u001b[0m\u001b[0;34m\u001b[0m\u001b[0m\n\u001b[0m\u001b[1;32m     14\u001b[0m         \u001b[0mself\u001b[0m\u001b[0;34m.\u001b[0m\u001b[0maTraiter\u001b[0m \u001b[0;34m+=\u001b[0m \u001b[0mtoAdd\u001b[0m\u001b[0;34m\u001b[0m\u001b[0;34m\u001b[0m\u001b[0m\n\u001b[1;32m     15\u001b[0m     \u001b[0;32mdef\u001b[0m \u001b[0m__str__\u001b[0m\u001b[0;34m(\u001b[0m\u001b[0mself\u001b[0m\u001b[0;34m)\u001b[0m\u001b[0;34m:\u001b[0m\u001b[0;34m\u001b[0m\u001b[0;34m\u001b[0m\u001b[0m\n",
      "\u001b[0;32m<ipython-input-20-e7b401f4e3e3>\u001b[0m in \u001b[0;36m__init__\u001b[0;34m(self, info)\u001b[0m\n\u001b[1;32m      2\u001b[0m     \u001b[0;32mdef\u001b[0m \u001b[0m__init__\u001b[0m\u001b[0;34m(\u001b[0m\u001b[0mself\u001b[0m\u001b[0;34m,\u001b[0m \u001b[0minfo\u001b[0m\u001b[0;34m)\u001b[0m\u001b[0;34m:\u001b[0m\u001b[0;34m\u001b[0m\u001b[0;34m\u001b[0m\u001b[0m\n\u001b[1;32m      3\u001b[0m         \u001b[0mself\u001b[0m\u001b[0;34m.\u001b[0m\u001b[0mnumSalle\u001b[0m \u001b[0;34m=\u001b[0m \u001b[0minfo\u001b[0m\u001b[0;34m[\u001b[0m\u001b[0;36m0\u001b[0m\u001b[0;34m]\u001b[0m\u001b[0;34m\u001b[0m\u001b[0;34m\u001b[0m\u001b[0m\n\u001b[0;32m----> 4\u001b[0;31m         \u001b[0mself\u001b[0m\u001b[0;34m.\u001b[0m\u001b[0mdateReserv\u001b[0m \u001b[0;34m=\u001b[0m \u001b[0minfo\u001b[0m\u001b[0;34m[\u001b[0m\u001b[0;36m1\u001b[0m\u001b[0;34m]\u001b[0m\u001b[0;34m\u001b[0m\u001b[0;34m\u001b[0m\u001b[0m\n\u001b[0m\u001b[1;32m      5\u001b[0m         \u001b[0mself\u001b[0m\u001b[0;34m.\u001b[0m\u001b[0mheureDebut\u001b[0m \u001b[0;34m=\u001b[0m \u001b[0minfo\u001b[0m\u001b[0;34m[\u001b[0m\u001b[0;36m2\u001b[0m\u001b[0;34m]\u001b[0m\u001b[0;34m\u001b[0m\u001b[0;34m\u001b[0m\u001b[0m\n\u001b[1;32m      6\u001b[0m         \u001b[0mself\u001b[0m\u001b[0;34m.\u001b[0m\u001b[0mheureFin\u001b[0m \u001b[0;34m=\u001b[0m \u001b[0minfo\u001b[0m\u001b[0;34m[\u001b[0m\u001b[0;36m3\u001b[0m\u001b[0;34m]\u001b[0m\u001b[0;34m\u001b[0m\u001b[0;34m\u001b[0m\u001b[0m\n",
      "\u001b[0;31mIndexError\u001b[0m: string index out of range"
     ]
    }
   ],
   "source": [
    "test = interface_mail()\n",
    "test.read_mail(mail_test)\n",
    "print(test)"
   ]
  },
  {
   "source": [
    "### Création de la classe Data access object"
   ],
   "cell_type": "markdown",
   "metadata": {}
  },
  {
   "source": [
    "class DAO:"
   ],
   "cell_type": "code",
   "metadata": {},
   "execution_count": null,
   "outputs": []
  },
  {
   "source": [
    "### Création de la classe moteur"
   ],
   "cell_type": "markdown",
   "metadata": {}
  },
  {
   "cell_type": "code",
   "execution_count": null,
   "metadata": {},
   "outputs": [],
   "source": [
    "class moteur:"
   ]
  }
 ]
}