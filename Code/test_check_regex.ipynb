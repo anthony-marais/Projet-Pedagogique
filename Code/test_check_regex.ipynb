{
 "metadata": {
  "language_info": {
   "codemirror_mode": {
    "name": "ipython",
    "version": 3
   },
   "file_extension": ".py",
   "mimetype": "text/x-python",
   "name": "python",
   "nbconvert_exporter": "python",
   "pygments_lexer": "ipython3",
   "version": "3.8.5-final"
  },
  "orig_nbformat": 2,
  "kernelspec": {
   "name": "python3",
   "display_name": "Python 3",
   "language": "python"
  }
 },
 "nbformat": 4,
 "nbformat_minor": 2,
 "cells": [
  {
   "cell_type": "code",
   "execution_count": 2,
   "metadata": {},
   "outputs": [],
   "source": [
    "import re"
   ]
  },
  {
   "source": [
    "# CHECK MAIL EN PLUSIEUR REGEX"
   ],
   "cell_type": "markdown",
   "metadata": {}
  },
  {
   "cell_type": "code",
   "execution_count": 12,
   "metadata": {},
   "outputs": [],
   "source": [
    "mail_contenu = \"Salut, J’ai besoin de la salle 736 le 17 janvier entre 8 h et 10 h\"\n",
    "\n",
    "####################################################### Motif pour la Salle ##########################################\n",
    "motif_salle = \"(?:salle+\\s+\\d+)|(?:Salle+\\s+\\d+)\"\n",
    "\n",
    "####################################################### Motif pour la Date ##########################################\n",
    "\n",
    "motif_date = \"(?:\\d+\\s+janvier)|(?:\\d+\\s+fevrier)|(?:\\d+\\s+mars)|(?:\\d+\\s+avril)|(?:\\d+\\s+mai)|(?:\\d+\\s+juin)|(?:\\d+\\s+juillet)|(?:\\d+\\s+août)|(?:\\d+\\s+septembre)|(?:\\d+\\s+octobre)|(?:\\d+\\s+novembre)|(?:\\d+\\s+decembre)|(?:\\d+\\s+Janvier)|(?:\\d+\\s+Fevrier)|(?:\\d+\\s+Mars)|(?:\\d+\\s+Avril)|(?:\\d+\\s+Mai)|(?:\\d+\\s+Juin)|(?:\\d+\\s+Juillet)|(?:\\d+\\s+Août)|(?:\\d+\\s+Septembre)|(?:\\d+\\s+Octobre)|(?:\\d+\\s+Novembre)|(?:\\d+\\s+Decembre)|(?:\\d+\\s+January)|(?:\\d+\\s+February)|(?:\\d+\\s+March)|(?:\\d+\\s+April)|(?:\\d+\\s+May)|(?:\\d+\\s+June)|(?:\\d+\\s+July)|(?:\\d+\\s+Augut)|(?:\\d+\\s+September)|(?:\\d+\\s+October)|(?:\\d+\\s+November)|(?:\\d+\\s+December)|(?:\\d+\\s+january)|(?:\\d+\\s+february)|(?:\\d+\\s+march)|(?:\\d+\\s+april)|(?:\\d+\\s+Mai)|(?:\\d+\\s+june)|(?:\\d+\\s+july)|(?:\\d+\\s+august)|(?:\\d+\\s+september)|(?:\\d+\\s+october)|(?:\\d+\\s+november)|(?:\\d+\\s+december)\"\n",
    "\n",
    "####################################################### Motif pour les horraire ##########################################\n",
    "\n",
    "motif_horraire = \"(?:\\d+.Heures)|(?:\\d+.Heure)|(?:\\d+.heures)|(?:\\d+.heure)|(?:\\d+.h)|(?:\\d+.H)\""
   ]
  },
  {
   "cell_type": "code",
   "execution_count": 43,
   "metadata": {},
   "outputs": [
    {
     "output_type": "stream",
     "name": "stdout",
     "text": [
      "salle 736\n"
     ]
    }
   ],
   "source": [
    "res_mail_salle = re.findall(motif_salle,mail_contenu) # application de la méthode findall() avec regex, on applique le motif sur le \"mail_contenu\", stocker dans la variable \"res_mail\"\n",
    "res_salle = str(res_mail_salle[0])\n",
    "print(res_salle)"
   ]
  },
  {
   "cell_type": "code",
   "execution_count": 38,
   "metadata": {},
   "outputs": [
    {
     "output_type": "stream",
     "name": "stdout",
     "text": [
      "17 janvier\n"
     ]
    }
   ],
   "source": [
    "res_mail_date = re.findall(motif_date,mail_contenu) # application de la méthode findall() avec regex, on applique le motif sur le \"mail_contenu\", stocker dans la variable \"res_mail\"\n",
    "\n",
    "res_date = str(res_mail_date[0])\n",
    "print(res_date)"
   ]
  },
  {
   "cell_type": "code",
   "execution_count": 34,
   "metadata": {},
   "outputs": [
    {
     "output_type": "stream",
     "name": "stdout",
     "text": [
      "8\n\n10\n"
     ]
    }
   ],
   "source": [
    "res_mail_horraire = re.findall(motif_horraire,mail_contenu) # application de la méthode findall() avec regex, on applique le motif sur le \"mail_contenu\", stocker dans la variable \"res_mail\"\n",
    "res_mail_horraire\n",
    "heure_debut = res_mail_horraire[0][0:2]\n",
    "heure_debut = int(heure_debut)\n",
    "print(heure_debut)\n",
    "print(\"\")\n",
    "heure_fin = res_mail_horraire[1][0:2]\n",
    "heure_fin = int(heure_fin)\n",
    "print(heure_fin)"
   ]
  },
  {
   "cell_type": "code",
   "execution_count": 46,
   "metadata": {},
   "outputs": [],
   "source": [
    "import dateparser\n",
    "import datetime\n",
    "import re"
   ]
  },
  {
   "cell_type": "code",
   "execution_count": 73,
   "metadata": {},
   "outputs": [],
   "source": [
    "mail_contenu = \"Salut, J’ai besoin de la salle 736 le 17 janvier entre 8 h et 10 h\"\n",
    "\n",
    "####################################################### Motif pour la Salle ##########################################\n",
    "motif_salle = \"(?:salle+\\s+\\d+)|(?:Salle+\\s+\\d+)\"\n",
    "\n",
    "####################################################### Motif pour la Date ##########################################\n",
    "\n",
    "motif_date = \"(?:\\d+\\s+janvier)|(?:\\d+\\s+fevrier)|(?:\\d+\\s+mars)|(?:\\d+\\s+avril)|(?:\\d+\\s+mai)|(?:\\d+\\s+juin)|(?:\\d+\\s+juillet)|(?:\\d+\\s+août)|(?:\\d+\\s+septembre)|(?:\\d+\\s+octobre)|(?:\\d+\\s+novembre)|(?:\\d+\\s+decembre)|(?:\\d+\\s+Janvier)|(?:\\d+\\s+Fevrier)|(?:\\d+\\s+Mars)|(?:\\d+\\s+Avril)|(?:\\d+\\s+Mai)|(?:\\d+\\s+Juin)|(?:\\d+\\s+Juillet)|(?:\\d+\\s+Août)|(?:\\d+\\s+Septembre)|(?:\\d+\\s+Octobre)|(?:\\d+\\s+Novembre)|(?:\\d+\\s+Decembre)|(?:\\d+\\s+January)|(?:\\d+\\s+February)|(?:\\d+\\s+March)|(?:\\d+\\s+April)|(?:\\d+\\s+May)|(?:\\d+\\s+June)|(?:\\d+\\s+July)|(?:\\d+\\s+Augut)|(?:\\d+\\s+September)|(?:\\d+\\s+October)|(?:\\d+\\s+November)|(?:\\d+\\s+December)|(?:\\d+\\s+january)|(?:\\d+\\s+february)|(?:\\d+\\s+march)|(?:\\d+\\s+april)|(?:\\d+\\s+Mai)|(?:\\d+\\s+june)|(?:\\d+\\s+july)|(?:\\d+\\s+august)|(?:\\d+\\s+september)|(?:\\d+\\s+october)|(?:\\d+\\s+november)|(?:\\d+\\s+december)\"  #### (?:\\d+.\\d+) 12/03 pour la date format numérique\n",
    "\n",
    "####################################################### Motif pour les horraire ##########################################\n",
    "\n",
    "motif_horraire = \"(?:\\d+.Heures)|(?:\\d+.Heure)|(?:\\d+.heures)|(?:\\d+.heure)|(?:\\d+.h)|(?:\\d+.H)\" #informations dans \"mail_contenu\"\n",
    "\n",
    "\n",
    "\n",
    "\n",
    "\n",
    "####################################################### Salle reserver ##########################################\n",
    "\n",
    "\n",
    "res_mail_salle = re.findall(motif_salle,mail_contenu) # application de la méthode findall() avec regex, on applique le motif sur le \"mail_contenu\", stocker dans la variable \"res_mail\"\n",
    "num_salle_reserv = str(res_mail_salle[0])\n",
    "num_salle_reserv = str(num_salle_reserv[0])\n",
    "\n",
    "\n",
    "\n",
    "####################################################### Date reserver ##########################################\n",
    "\n",
    "\n",
    "\n",
    "res_mail_date = re.findall(motif_date,mail_contenu) # application de la méthode findall() avec regex, on applique le motif sur le \"mail_contenu\", stocker dans la variable \"res_mail\"\n",
    "\n",
    "date_reserv = str(res_mail_date[0])\n",
    "date_reserv = str(date_reserv)\n",
    "\n",
    "####################################################### HEURE reserver ##########################################\n",
    "\n",
    "\n",
    "res_mail_horraire = re.findall(motif_horraire,mail_contenu) # application de la méthode findall() avec regex, on applique le motif sur le \"mail_contenu\", stocker dans la variable \"res_mail\"\n",
    "res_mail_horraire\n",
    "debut_reserv = res_mail_horraire[0][0:2]\n",
    "debut_reserv = int(debut_reserv)\n",
    "\n",
    "\n",
    "fin_reserv = res_mail_horraire[1][0:2]\n",
    "fin_reserv = int(fin_reserv)\n",
    "      \n",
    "\n",
    "time_reserv = fin_reserv - debut_reserv \n",
    "\n",
    "\n",
    "\n",
    "\n",
    "\n",
    "\n",
    "\n",
    "   \n",
    "date_reserv = dateparser.parse(date_reserv)  \n",
    "now = datetime.datetime.now()   \n",
    "if date_reserv <= now:\n",
    "    now_year = now.year + 1     \n",
    "else:                           \n",
    "    now_year = now.year                   \n",
    "date_reserv = str(date_reserv)  \n",
    "date_reserv = date_reserv[5:10] \n",
    "date_reserv = str(now_year) + ' ' + date_reserv  \n",
    "date_reserv = dateparser.parse(date_reserv)\n",
    "date_reserv = date_reserv.date()   \n",
    "            \n",
    "if debut_reserv in range(0,25) and fin_reserv in range(0,25): \n",
    "    debut_reserv = debut_reserv \n",
    "    fin_reserv = fin_reserv     \n",
    "else:\n",
    "    debut_reserv = False        \n",
    "    fin_reserv = False          \n",
    "                \n",
    "\n",
    "\n",
    "\n"
   ]
  },
  {
   "cell_type": "code",
   "execution_count": 74,
   "metadata": {},
   "outputs": [
    {
     "output_type": "stream",
     "name": "stdout",
     "text": [
      "salle 736  ,le numero de salle\n2021-01-17  ,la date reserver\n8  ,le debut de la reservation\n10  ,la fin de la reservation\n2  ,le temps de la reservation\n"
     ]
    }
   ],
   "source": [
    "print(res_mail_salle[0],' ,le numero de salle')\n",
    "print(date_reserv, ' ,la date reserver')\n",
    "print(debut_reserv, ' ,le debut de la reservation')\n",
    "print(fin_reserv, ' ,la fin de la reservation')\n",
    "print(time_reserv, ' ,le temps de la reservation')"
   ]
  },
  {
   "cell_type": "code",
   "execution_count": null,
   "metadata": {},
   "outputs": [],
   "source": []
  },
  {
   "cell_type": "code",
   "execution_count": null,
   "metadata": {},
   "outputs": [],
   "source": []
  },
  {
   "cell_type": "code",
   "execution_count": 64,
   "metadata": {},
   "outputs": [],
   "source": [
    "mail_contenu = \"Salut, J’ai besoin de la salle 736 le 17 janvier entre 8 h et 10 h\"\n",
    "\n",
    "motif_date = \"(?:\\d+\\s+janvier)|(?:\\d+\\s+fevrier)|(?:\\d+\\s+mars)|(?:\\d+\\s+avril)|(?:\\d+\\s+mai)|(?:\\d+\\s+juin)|(?:\\d+\\s+juillet)|(?:\\d+\\s+août)|(?:\\d+\\s+septembre)|(?:\\d+\\s+octobre)|(?:\\d+\\s+novembre)|(?:\\d+\\s+decembre)|(?:\\d+\\s+Janvier)|(?:\\d+\\s+Fevrier)|(?:\\d+\\s+Mars)|(?:\\d+\\s+Avril)|(?:\\d+\\s+Mai)|(?:\\d+\\s+Juin)|(?:\\d+\\s+Juillet)|(?:\\d+\\s+Août)|(?:\\d+\\s+Septembre)|(?:\\d+\\s+Octobre)|(?:\\d+\\s+Novembre)|(?:\\d+\\s+Decembre)|(?:\\d+\\s+January)|(?:\\d+\\s+February)|(?:\\d+\\s+March)|(?:\\d+\\s+April)|(?:\\d+\\s+May)|(?:\\d+\\s+June)|(?:\\d+\\s+July)|(?:\\d+\\s+Augut)|(?:\\d+\\s+September)|(?:\\d+\\s+October)|(?:\\d+\\s+November)|(?:\\d+\\s+December)|(?:\\d+\\s+january)|(?:\\d+\\s+february)|(?:\\d+\\s+march)|(?:\\d+\\s+april)|(?:\\d+\\s+Mai)|(?:\\d+\\s+june)|(?:\\d+\\s+july)|(?:\\d+\\s+august)|(?:\\d+\\s+september)|(?:\\d+\\s+october)|(?:\\d+\\s+november)|(?:\\d+\\s+december)\"  #### (?:\\d+.\\d+) 12/03 pour la date format numérique\n",
    "\n",
    "\n"
   ]
  },
  {
   "cell_type": "code",
   "execution_count": 70,
   "metadata": {},
   "outputs": [
    {
     "output_type": "stream",
     "name": "stdout",
     "text": [
      "17 janvier\n"
     ]
    }
   ],
   "source": [
    "res_mail_date = re.findall(motif_date,mail_contenu) # application de la méthode findall() avec regex, on applique le motif sur le \"mail_contenu\", stocker dans la variable \"res_mail\"\n",
    "\n",
    "date_reserv = str(res_mail_date[0])\n",
    "date_reserv = str(date_reserv)\n",
    "print(date_reserv)"
   ]
  },
  {
   "cell_type": "code",
   "execution_count": 71,
   "metadata": {},
   "outputs": [],
   "source": [
    "date_reserv = dateparser.parse(date_reserv)  \n",
    "now = datetime.datetime.now()   \n",
    "if date_reserv <= now:\n",
    "    now_year = now.year + 1     \n",
    "else:                           \n",
    "    now_year = now.year                   \n",
    "date_reserv = str(date_reserv)  \n",
    "date_reserv = date_reserv[5:10] \n",
    "date_reserv = str(now_year) + ' ' + date_reserv  \n",
    "date_reserv = dateparser.parse(date_reserv)\n",
    "date_reserv = date_reserv.date()   "
   ]
  },
  {
   "cell_type": "code",
   "execution_count": 72,
   "metadata": {},
   "outputs": [
    {
     "output_type": "execute_result",
     "data": {
      "text/plain": [
       "datetime.date(2021, 1, 17)"
      ]
     },
     "metadata": {},
     "execution_count": 72
    }
   ],
   "source": [
    "date_reserv"
   ]
  },
  {
   "cell_type": "code",
   "execution_count": 114,
   "metadata": {},
   "outputs": [],
   "source": [
    "mail_contenu = \"Salut, J’ai besoin de la salle 736 le 17 janvier entre 8 h et 10 h\"\n",
    "\n",
    "####################################################### Motif pour la Salle ##########################################\n",
    "motif_salle = \"(?:salle+\\s+\\d+)|(?:Salle+\\s+\\d+)\"\n",
    "\n",
    "####################################################### Motif pour la Date ##########################################\n",
    "\n",
    "motif_date = \"(?:\\d+\\s+janvier)|(?:\\d+\\s+fevrier)|(?:\\d+\\s+mars)|(?:\\d+\\s+avril)|(?:\\d+\\s+mai)|(?:\\d+\\s+juin)|(?:\\d+\\s+juillet)|(?:\\d+\\s+août)|(?:\\d+\\s+septembre)|(?:\\d+\\s+octobre)|(?:\\d+\\s+novembre)|(?:\\d+\\s+decembre)|(?:\\d+\\s+Janvier)|(?:\\d+\\s+Fevrier)|(?:\\d+\\s+Mars)|(?:\\d+\\s+Avril)|(?:\\d+\\s+Mai)|(?:\\d+\\s+Juin)|(?:\\d+\\s+Juillet)|(?:\\d+\\s+Août)|(?:\\d+\\s+Septembre)|(?:\\d+\\s+Octobre)|(?:\\d+\\s+Novembre)|(?:\\d+\\s+Decembre)|(?:\\d+\\s+January)|(?:\\d+\\s+February)|(?:\\d+\\s+March)|(?:\\d+\\s+April)|(?:\\d+\\s+May)|(?:\\d+\\s+June)|(?:\\d+\\s+July)|(?:\\d+\\s+Augut)|(?:\\d+\\s+September)|(?:\\d+\\s+October)|(?:\\d+\\s+November)|(?:\\d+\\s+December)|(?:\\d+\\s+january)|(?:\\d+\\s+february)|(?:\\d+\\s+march)|(?:\\d+\\s+april)|(?:\\d+\\s+Mai)|(?:\\d+\\s+june)|(?:\\d+\\s+july)|(?:\\d+\\s+august)|(?:\\d+\\s+september)|(?:\\d+\\s+october)|(?:\\d+\\s+november)|(?:\\d+\\s+december)\"  #### (?:\\d+.\\d+) 12/03 pour la date format numérique\n",
    "\n",
    "####################################################### Motif pour les horraire ##########################################\n",
    "\n",
    "motif_horraire = \"(?:\\d+.Heures)|(?:\\d+.Heure)|(?:\\d+.heures)|(?:\\d+.heure)|(?:\\d+.h)|(?:\\d+.H)\" #informations dans \"mail_contenu\"\n",
    "\n",
    "\n",
    "\n",
    "\n",
    "\n",
    "####################################################### Salle reserver ##########################################\n",
    "\n",
    "\n",
    "res_mail_salle = re.findall(motif_salle,mail_contenu) # application de la méthode findall() avec regex, on applique le motif sur le \"mail_contenu\", stocker dans la variable \"res_mail\"\n",
    "num_salle_reserv = str(res_mail_salle[0])\n",
    "num_salle_reserv = str(num_salle_reserv)\n",
    "\n",
    "\n",
    "\n",
    "####################################################### Date reserver ##########################################\n",
    "\n",
    "\n",
    "\n",
    "res_mail_date = re.findall(motif_date,mail_contenu) # application de la méthode findall() avec regex, on applique le motif sur le \"mail_contenu\", stocker dans la variable \"res_mail\"\n",
    "\n",
    "date_reserv = str(res_mail_date[0])\n",
    "date_reserv = str(date_reserv)\n",
    "\n",
    "####################################################### HEURE reserver ##########################################\n",
    "\n",
    "\n",
    "res_mail_horraire = re.findall(motif_horraire,mail_contenu) # application de la méthode findall() avec regex, on applique le motif sur le \"mail_contenu\", stocker dans la variable \"res_mail\"\n",
    "res_mail_horraire\n",
    "debut_reserv = res_mail_horraire[0][0:2]\n",
    "debut_reserv = int(debut_reserv)\n",
    "\n",
    "\n",
    "fin_reserv = res_mail_horraire[1][0:2]\n",
    "fin_reserv = int(fin_reserv)\n",
    "      \n",
    "\n",
    "time_reserv = fin_reserv - debut_reserv \n",
    "\n",
    "\n",
    "\n",
    "\n",
    "\n",
    "\n",
    "\n",
    "   \n",
    "date_reserv = dateparser.parse(date_reserv)  \n",
    "now = datetime.datetime.now()   \n",
    "if date_reserv <= now:\n",
    "    now_year = now.year + 1     \n",
    "else:                           \n",
    "    now_year = now.year                   \n",
    "date_reserv = str(date_reserv)  \n",
    "date_reserv = date_reserv[5:10] \n",
    "date_reserv = str(now_year) + ' ' + date_reserv  \n",
    "date_reserv = dateparser.parse(date_reserv)\n",
    "date_reserv = date_reserv.date()   \n",
    "            \n",
    "if debut_reserv in range(0,25) and fin_reserv in range(0,25): \n",
    "    debut_reserv = debut_reserv \n",
    "    fin_reserv = fin_reserv     \n",
    "else:\n",
    "    debut_reserv = False        \n",
    "    fin_reserv = False          \n",
    "                \n",
    "\n",
    "\n",
    "\n"
   ]
  },
  {
   "cell_type": "code",
   "execution_count": 123,
   "metadata": {},
   "outputs": [
    {
     "output_type": "stream",
     "name": "stdout",
     "text": [
      "salle 736\n"
     ]
    }
   ],
   "source": [
    "salle = str(num_salle_reserv[0:])\n",
    "type(salle)\n",
    "print(salle)"
   ]
  },
  {
   "cell_type": "code",
   "execution_count": 112,
   "metadata": {},
   "outputs": [
    {
     "output_type": "stream",
     "name": "stdout",
     "text": [
      "Il y as une salle\n"
     ]
    }
   ],
   "source": [
    "# connector de python à mysql\n",
    "import mysql.connector\n",
    "import json\n",
    "#**************************************************************************************CREATION DE LA CONNEXION SQLALCHEMY**********************************************************\n",
    "\n",
    "## IMPORT DU CONFIG.JSON\n",
    "# assignation de la config.json à fichierConfig\n",
    "fichierConfig = \"config.json\"\n",
    "# ouverture et chargement des donnée contenu dans fichierConfig\n",
    "with open(fichierConfig) as fichier:\n",
    "    config = json.load(fichier)[\"mysql\"]\n",
    "\n",
    "# assignation de de la connexion par create_engine avec les éléement de connexion + les info du fichierConfig à engine\n",
    "# en dehors de la class car cet élémeent ne change pas\n",
    "connection = mysql.connector.connect(host=config[\"host\"],database = config[\"bdd\"],user=config[\"user\"],password=config[\"password\"])\n",
    "cursor = connection.cursor()\n",
    "\n",
    "\n",
    "\n",
    "cursor.execute('SELECT sa_name FROM SALLE WHERE sa_name = %s;', (num_salle_reserv,))\n",
    "\n",
    "resa_db_salle = cursor.fetchone()\n",
    "\n",
    "\n",
    "\n",
    "if resa_db_salle == None:\n",
    "    salle_valide = False\n",
    "    print('None')\n",
    "else:\n",
    "    salle_valide = True\n",
    "    print(\"Il y as une salle\")"
   ]
  },
  {
   "cell_type": "code",
   "execution_count": 106,
   "metadata": {},
   "outputs": [],
   "source": [
    "session = 40"
   ]
  },
  {
   "cell_type": "code",
   "execution_count": 107,
   "metadata": {},
   "outputs": [],
   "source": [
    "# connector de python à mysql\n",
    "import mysql.connector\n",
    "import json\n",
    "#**************************************************************************************CREATION DE LA CONNEXION SQLALCHEMY**********************************************************\n",
    "\n",
    "## IMPORT DU CONFIG.JSON\n",
    "# assignation de la config.json à fichierConfig\n",
    "fichierConfig = \"config.json\"\n",
    "# ouverture et chargement des donnée contenu dans fichierConfig\n",
    "with open(fichierConfig) as fichier:\n",
    "    config = json.load(fichier)[\"mysql\"]\n",
    "\n",
    "# assignation de de la connexion par create_engine avec les éléement de connexion + les info du fichierConfig à engine\n",
    "# en dehors de la class car cet élémeent ne change pas\n",
    "connection = mysql.connector.connect(host=config[\"host\"],database = config[\"bdd\"],user=config[\"user\"],password=config[\"password\"])\n",
    "cursor = connection.cursor()"
   ]
  },
  {
   "cell_type": "code",
   "execution_count": 109,
   "metadata": {},
   "outputs": [
    {
     "output_type": "error",
     "ename": "InternalError",
     "evalue": "Unread result found",
     "traceback": [
      "\u001b[0;31m---------------------------------------------------------------------------\u001b[0m",
      "\u001b[0;31mInternalError\u001b[0m                             Traceback (most recent call last)",
      "\u001b[0;32m<ipython-input-109-68da7eb0648b>\u001b[0m in \u001b[0;36m<module>\u001b[0;34m\u001b[0m\n\u001b[1;32m      2\u001b[0m     \u001b[0mparameter_ma_contenu\u001b[0m \u001b[0;34m=\u001b[0m \u001b[0mmail_contenu\u001b[0m \u001b[0;31m## on initialise le mail_contenu dans la variable \"parameter_ma_contenu\"\u001b[0m\u001b[0;34m\u001b[0m\u001b[0;34m\u001b[0m\u001b[0m\n\u001b[1;32m      3\u001b[0m     \u001b[0mparameter_session_id\u001b[0m \u001b[0;34m=\u001b[0m \u001b[0msession\u001b[0m \u001b[0;31m## on initialise le session['id'] qui est l'id de la session en cours dans la variable \"parameter_session_id\"\u001b[0m\u001b[0;34m\u001b[0m\u001b[0;34m\u001b[0m\u001b[0m\n\u001b[0;32m----> 4\u001b[0;31m     \u001b[0mcursor\u001b[0m\u001b[0;34m.\u001b[0m\u001b[0mcallproc\u001b[0m\u001b[0;34m(\u001b[0m\u001b[0;34m\"PI_MAIL_SIMPLE\"\u001b[0m\u001b[0;34m,\u001b[0m \u001b[0;34m[\u001b[0m\u001b[0mparameter_ma_contenu\u001b[0m\u001b[0;34m,\u001b[0m\u001b[0mparameter_session_id\u001b[0m\u001b[0;34m,\u001b[0m\u001b[0;34m]\u001b[0m\u001b[0;34m,\u001b[0m\u001b[0;34m)\u001b[0m    \u001b[0;31m## ON INSERE DANS LA TABLE MAIL LE MAIL CONTENU ET L'ID DE LA SESSION\u001b[0m\u001b[0;34m\u001b[0m\u001b[0;34m\u001b[0m\u001b[0m\n\u001b[0m\u001b[1;32m      5\u001b[0m     \u001b[0mconnection\u001b[0m\u001b[0;34m.\u001b[0m\u001b[0mcommit\u001b[0m\u001b[0;34m(\u001b[0m\u001b[0;34m)\u001b[0m \u001b[0;31m## ON VALIDE L'INSERTION\u001b[0m\u001b[0;34m\u001b[0m\u001b[0;34m\u001b[0m\u001b[0m\n\u001b[1;32m      6\u001b[0m \u001b[0;34m\u001b[0m\u001b[0m\n",
      "\u001b[0;32m~/anaconda3/lib/python3.8/site-packages/mysql/connector/cursor_cext.py\u001b[0m in \u001b[0;36mcallproc\u001b[0;34m(self, procname, args)\u001b[0m\n\u001b[1;32m    429\u001b[0m                     \u001b[0;32melse\u001b[0m\u001b[0;34m:\u001b[0m\u001b[0;34m\u001b[0m\u001b[0;34m\u001b[0m\u001b[0m\n\u001b[1;32m    430\u001b[0m                         \u001b[0margtypes\u001b[0m\u001b[0;34m.\u001b[0m\u001b[0mappend\u001b[0m\u001b[0;34m(\u001b[0m\u001b[0margname\u001b[0m\u001b[0;34m)\u001b[0m\u001b[0;34m\u001b[0m\u001b[0;34m\u001b[0m\u001b[0m\n\u001b[0;32m--> 431\u001b[0;31m                         \u001b[0mself\u001b[0m\u001b[0;34m.\u001b[0m\u001b[0mexecute\u001b[0m\u001b[0;34m(\u001b[0m\u001b[0;34m\"SET {0}=%s\"\u001b[0m\u001b[0;34m.\u001b[0m\u001b[0mformat\u001b[0m\u001b[0;34m(\u001b[0m\u001b[0margname\u001b[0m\u001b[0;34m)\u001b[0m\u001b[0;34m,\u001b[0m \u001b[0;34m(\u001b[0m\u001b[0marg\u001b[0m\u001b[0;34m,\u001b[0m\u001b[0;34m)\u001b[0m\u001b[0;34m)\u001b[0m\u001b[0;34m\u001b[0m\u001b[0;34m\u001b[0m\u001b[0m\n\u001b[0m\u001b[1;32m    432\u001b[0m \u001b[0;34m\u001b[0m\u001b[0m\n\u001b[1;32m    433\u001b[0m             \u001b[0mcall\u001b[0m \u001b[0;34m=\u001b[0m \u001b[0;34m\"CALL {0}({1})\"\u001b[0m\u001b[0;34m.\u001b[0m\u001b[0mformat\u001b[0m\u001b[0;34m(\u001b[0m\u001b[0mprocname\u001b[0m\u001b[0;34m,\u001b[0m \u001b[0;34m','\u001b[0m\u001b[0;34m.\u001b[0m\u001b[0mjoin\u001b[0m\u001b[0;34m(\u001b[0m\u001b[0margnames\u001b[0m\u001b[0;34m)\u001b[0m\u001b[0;34m)\u001b[0m\u001b[0;34m\u001b[0m\u001b[0;34m\u001b[0m\u001b[0m\n",
      "\u001b[0;32m~/anaconda3/lib/python3.8/site-packages/mysql/connector/cursor_cext.py\u001b[0m in \u001b[0;36mexecute\u001b[0;34m(self, operation, params, multi)\u001b[0m\n\u001b[1;32m    232\u001b[0m         \u001b[0;32mif\u001b[0m \u001b[0;32mnot\u001b[0m \u001b[0mself\u001b[0m\u001b[0;34m.\u001b[0m\u001b[0m_cnx\u001b[0m\u001b[0;34m:\u001b[0m\u001b[0;34m\u001b[0m\u001b[0;34m\u001b[0m\u001b[0m\n\u001b[1;32m    233\u001b[0m             \u001b[0;32mraise\u001b[0m \u001b[0merrors\u001b[0m\u001b[0;34m.\u001b[0m\u001b[0mProgrammingError\u001b[0m\u001b[0;34m(\u001b[0m\u001b[0;34m\"Cursor is not connected\"\u001b[0m\u001b[0;34m)\u001b[0m\u001b[0;34m\u001b[0m\u001b[0;34m\u001b[0m\u001b[0m\n\u001b[0;32m--> 234\u001b[0;31m         \u001b[0mself\u001b[0m\u001b[0;34m.\u001b[0m\u001b[0m_cnx\u001b[0m\u001b[0;34m.\u001b[0m\u001b[0mhandle_unread_result\u001b[0m\u001b[0;34m(\u001b[0m\u001b[0;34m)\u001b[0m\u001b[0;34m\u001b[0m\u001b[0;34m\u001b[0m\u001b[0m\n\u001b[0m\u001b[1;32m    235\u001b[0m \u001b[0;34m\u001b[0m\u001b[0m\n\u001b[1;32m    236\u001b[0m         \u001b[0mstmt\u001b[0m \u001b[0;34m=\u001b[0m \u001b[0;34m''\u001b[0m\u001b[0;34m\u001b[0m\u001b[0;34m\u001b[0m\u001b[0m\n",
      "\u001b[0;32m~/anaconda3/lib/python3.8/site-packages/mysql/connector/connection_cext.py\u001b[0m in \u001b[0;36mhandle_unread_result\u001b[0;34m(self, prepared)\u001b[0m\n\u001b[1;32m    744\u001b[0m             \u001b[0mself\u001b[0m\u001b[0;34m.\u001b[0m\u001b[0mconsume_results\u001b[0m\u001b[0;34m(\u001b[0m\u001b[0;34m)\u001b[0m\u001b[0;34m\u001b[0m\u001b[0;34m\u001b[0m\u001b[0m\n\u001b[1;32m    745\u001b[0m         \u001b[0;32melif\u001b[0m \u001b[0munread_result\u001b[0m\u001b[0;34m:\u001b[0m\u001b[0;34m\u001b[0m\u001b[0;34m\u001b[0m\u001b[0m\n\u001b[0;32m--> 746\u001b[0;31m             \u001b[0;32mraise\u001b[0m \u001b[0merrors\u001b[0m\u001b[0;34m.\u001b[0m\u001b[0mInternalError\u001b[0m\u001b[0;34m(\u001b[0m\u001b[0;34m\"Unread result found\"\u001b[0m\u001b[0;34m)\u001b[0m\u001b[0;34m\u001b[0m\u001b[0;34m\u001b[0m\u001b[0m\n\u001b[0m\u001b[1;32m    747\u001b[0m \u001b[0;34m\u001b[0m\u001b[0m\n\u001b[1;32m    748\u001b[0m     \u001b[0;32mdef\u001b[0m \u001b[0mreset_session\u001b[0m\u001b[0;34m(\u001b[0m\u001b[0mself\u001b[0m\u001b[0;34m,\u001b[0m \u001b[0muser_variables\u001b[0m\u001b[0;34m=\u001b[0m\u001b[0;32mNone\u001b[0m\u001b[0;34m,\u001b[0m \u001b[0msession_variables\u001b[0m\u001b[0;34m=\u001b[0m\u001b[0;32mNone\u001b[0m\u001b[0;34m)\u001b[0m\u001b[0;34m:\u001b[0m\u001b[0;34m\u001b[0m\u001b[0;34m\u001b[0m\u001b[0m\n",
      "\u001b[0;31mInternalError\u001b[0m: Unread result found"
     ]
    }
   ],
   "source": [
    "\n",
    "\n",
    "if salle_valide == True:\n",
    "    parameter_ma_contenu = mail_contenu ## on initialise le mail_contenu dans la variable \"parameter_ma_contenu\"\n",
    "    parameter_session_id = session ## on initialise le session['id'] qui est l'id de la session en cours dans la variable \"parameter_session_id\"\n",
    "    cursor.callproc(\"PI_MAIL_SIMPLE\", [parameter_ma_contenu,parameter_session_id,],)    ## ON INSERE DANS LA TABLE MAIL LE MAIL CONTENU ET L'ID DE LA SESSION\n",
    "    connection.commit() ## ON VALIDE L'INSERTION\n",
    "                \n",
    "                ### recup ma_id du mail inserer dans le dernier ma_contenu de l'user\n",
    "    cursor.execute('SELECT ma_id FROM MAIL WHERE in_id = %s ORDER BY ma_date DESC LIMIT 1 ', (parameter_session_id,))   ## ON RECUPERE LE DERNIER MAIL ENVOYER DE L'USER ORDONNER PAR LA DATE ET L'HEURE ET SECONDE LA PLUS RECENTE ma_id_recup = cursor.fetchone() ## ON STOCKE LE RESULTAT DE LA REQUETE DANS LA VARIABLE \"ma_id_recup\"\n",
    "    ma_id_recup = int(ma_id_recup[0])    ## ma_id_recup est initialise avec son premier élément de sa liste\n",
    "                \n",
    "                \n",
    "                ### recup le sa_id where num_salle_reserv\n",
    "    cursor.execute('SELECT sa_id FROM SALLE WHERE sa_name = %s', (num_salle_reserv,)) ## ON REQUETE LA DATABASE POUR RECUPER L'ID DE LA SALLE DEMANDER PAR LE NOM DE LA SALLE\n",
    "    sa_id_recup = cursor.fetchone() # on stocke le resultat de la requete dans \"sa_id_recup\"\n",
    "    sa_id_recup = sa_id_recup    # sa_id_recup est initialise avec son premier élément de sa liste\n",
    "\n",
    "\n",
    "             #********************************** Insertion du contenu en reservation dans RESERVATION***********************\n",
    "    args = [date_reserv,debut_reserv,fin_reserv,time_reserv,sa_id_recup,ma_id_recup,] ### ASSIGNATION DANS \"args\" LISTE DES ARGUMENT D'ENTRER DANS LA PROCEDURE SOTCKE POUR INSERER LA RESERVATION\n",
    "    cursor.callproc(\"PI_RES_SIMPLE\", (args[0],args[1],args[2],args[3],args[4],args[5],))    ### EXECUTION DE LA PROCEDURE STOCKE POUR INSERER LA RESERVATION\n",
    "    connection.commit()    "
   ]
  },
  {
   "source": [
    "## SI la salle n'existe pas MESSAGE ERROR"
   ],
   "cell_type": "markdown",
   "metadata": {}
  },
  {
   "cell_type": "code",
   "execution_count": null,
   "metadata": {},
   "outputs": [],
   "source": []
  }
 ]
}