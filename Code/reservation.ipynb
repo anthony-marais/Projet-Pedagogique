{
 "metadata": {
  "language_info": {
   "codemirror_mode": {
    "name": "ipython",
    "version": 3
   },
   "file_extension": ".py",
   "mimetype": "text/x-python",
   "name": "python",
   "nbconvert_exporter": "python",
   "pygments_lexer": "ipython3",
   "version": "3.8.3-final"
  },
  "orig_nbformat": 2,
  "kernelspec": {
   "name": "python38364bitbase551ecd6c82244bf6af01fcf12b5dc095",
   "display_name": "Python 3.8.3 64-bit ('base')"
  }
 },
 "nbformat": 4,
 "nbformat_minor": 2,
 "cells": [
  {
   "cell_type": "code",
   "execution_count": 1,
   "metadata": {},
   "outputs": [
    {
     "output_type": "stream",
     "name": "stdout",
     "text": [
      "0\n1\n[('736', '17', 'janvier', '8', '10')]\nNone\n"
     ]
    }
   ],
   "source": [
    "from re import findall\n",
    "\n",
    "# lire le mail, recherche par motif REGEX (le mot salle), salle, date horraire debut/fi\n",
    "# une fois traitement fais stockage dans une liste [] .append()\n",
    "\n",
    "mail = \"Salut, J’ai besoin de la salle 736 le 17 janvier entre 8 h et 10 h.\"\n",
    "        \n",
    "class interface_mail:\n",
    "\n",
    "\n",
    "    def __init__(self):\n",
    "        print(\"0\")\n",
    "        self.aTraiter = []\n",
    "        self.mail_test = \"Salut, J’ai besoin de la salle 736 le 17 janvier entre 8 h et 10 h.\"\n",
    "    def read_mail(self):\n",
    "        print(\"1\")\n",
    "        motif = \"salle\\s([0-9]+)[^0-9]+([0-9]+)\\s*\"\n",
    "        motif += \"([a-z]+)[^0-9]+([0-9]+)[^0-9]+([0-9]+)\"\n",
    "        res_mail = findall(motif,self.mail_test)\n",
    "        toAdd = [reservation(i) for i in res_mail]\n",
    "        self.aTraiter += toAdd\n",
    "        print(res_mail)\n",
    "        \n",
    "    #def __str__(self):\n",
    "    #    return self.aTraiter\n",
    "\n",
    "class reservation:\n",
    "    def __init__(self, info):\n",
    "        self.numSalle = info[0]\n",
    "        self.NumDateReserv = info[1]\n",
    "        self.MoisDateReserv = info[2]\n",
    "        self.heureDebut = info[3]\n",
    "        self.heureFin = info[4]\n",
    "\n",
    "    def _set_salle(self, numSalle):\n",
    "        self._numSalle = str(numSalle)\n",
    "        \n",
    "    def _set_date(self, NumDateReserv, MoisDateReserv):\n",
    "        self._NumDateReserv = str(NumDateReserv)\n",
    "        self._MoisDateReserv = str(MoisDateReserv)\n",
    "        self._dateReserv = NumDateReserv + \" \" + MoisDateReserv\n",
    "        \n",
    "    \n",
    "    def _set_heure(self, heureDebut,heureFin):\n",
    "        self._heureDebut = int(heureDebut)\n",
    "        self._heureFin = int(heureFin)\n",
    "        self._Time = heureFin - heureDebut\n",
    "        \n",
    "    \n",
    "    def _get_salle(self):\n",
    "        return self._numSalle\n",
    "    \n",
    "    def _get_date(self):\n",
    "        return self._dateReserv\n",
    "    \n",
    "    def _get_heure(self):\n",
    "        return self._heureDebut, self._MoisDateReserv , self._Time\n",
    "\n",
    "    def __str__():\n",
    "        return \" \".join(self.aTraiter)\n",
    "    \n",
    "    numSalle = property(_get_salle, _set_salle)\n",
    "    date = property(_get_date, _set_date)\n",
    "    heure = property(_get_heure, _set_heure)\n",
    "\n",
    "\n",
    "test = interface_mail()\n",
    "print(test.read_mail()) "
   ]
  },
  {
   "cell_type": "code",
   "execution_count": null,
   "metadata": {},
   "outputs": [],
   "source": []
  }
 ]
}