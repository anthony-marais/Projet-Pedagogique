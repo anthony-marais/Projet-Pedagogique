{
 "metadata": {
  "language_info": {
   "codemirror_mode": {
    "name": "ipython",
    "version": 3
   },
   "file_extension": ".py",
   "mimetype": "text/x-python",
   "name": "python",
   "nbconvert_exporter": "python",
   "pygments_lexer": "ipython3",
   "version": "3.8.5-final"
  },
  "orig_nbformat": 2,
  "kernelspec": {
   "name": "python3",
   "display_name": "Python 3"
  }
 },
 "nbformat": 4,
 "nbformat_minor": 2,
 "cells": [
  {
   "source": [
    "# Importation des librairies python"
   ],
   "cell_type": "markdown",
   "metadata": {}
  },
  {
   "cell_type": "code",
   "execution_count": 2,
   "metadata": {},
   "outputs": [],
   "source": [
    "import time\n",
    "import re"
   ]
  },
  {
   "source": [
    "# Création des différentes classes du logiciel"
   ],
   "cell_type": "markdown",
   "metadata": {}
  },
  {
   "source": [
    "## Création de la classe interface_mail\n",
    "\n",
    "#### La class interface_mail n’a qu’une seul méthode supplémentaire read_mail(), #### récupère le contenu du texte et cherche un motif commençant par le mot « salle » et alternant ensuite blocs de chiffres et boc d’autre caractères, censés être dans l’ordre : salle, date, horaire de début et horaire de fin. Le résultat est ensuite utilisé pour construire un objet reservation.On peut stocker les information ainsi extraite dans une liste pérenne qui sera ensuite traité en temps voulu par le reste du programme. Ainsi l’interface et la base de données peuvent travailler de façon asynchrone. C’est-à-dire que l’interface peut recevoir des mail en continu toute la journée et la base de données, être mise à jour une fois par jour.Pour la méthode read_mail(). Pour le moment on peut traiter les mails comme une chaine de caractère directement écrite dans le programme (Une interface utilisateur pourra être créer ultérieurement avec Flask). "
   ],
   "cell_type": "markdown",
   "metadata": {}
  },
  {
   "cell_type": "code",
   "execution_count": 3,
   "metadata": {},
   "outputs": [],
   "source": [
    "# lire le mail, recherche par motif REGEX (le mot salle), salle, date horraire debut/fi\n",
    "# une fois traitement fais stockage dans une liste [] .append()\n",
    "\n",
    "mail_test = \"Salut, J’ai besoin de la salle 736 le 17 janvier entre 8 h et 10 h.\"\n",
    "\n",
    "class interface_mail:\n",
    "\n",
    "    def __init__(self):\n",
    "        self.aTraiter = []\n",
    "\n",
    "\n",
    "    ## Métodhe read_mail qui fais le traitement sur un chaîne de caractères par le regex,\n",
    "    ## stock les élément récuperer dans la variable toAdd qui est = à self.aTraiter\n",
    "    def read_mail(self, mail):\n",
    "        motif = \"[a-zA-Z]+\\s(\\d+)[^\\d]+([\\d]+)\\s*([a-zA-Z]+)[^\\d]+([\\d]+)[^\\d]+([\\d]+)\"\n",
    "        res_mail = re.findall(motif,mail)\n",
    "        toAdd = [reservation(i) for i in res_mail]\n",
    "        self.aTraiter += toAdd\n",
    "    \n",
    "    ## la boucle parcours les élément de la liste dans la variable self.aTraiter pour les afficher grâce a la méthode __str__ dans un format lisible pour le lecteur\n",
    "    def __str__(self):\n",
    "        testStr = \"\"\n",
    "        #for resa in range(len(self.aTraiter)):\n",
    "        for idx, resa in enumerate(self.aTraiter):\n",
    "            testStr = \"Numéro de salle: {}, Date de Resa: {}, Mois de Resa: {}, Heure de Début: {} , Heure de Fin: {}\".format(resa.numSalle, resa.NumDateReserv, resa.MoisDateReserv, resa.heureDebut, resa.heureFin)\n",
    "        return testStr"
   ]
  },
  {
   "source": [
    "# Création de la classe réservation\n",
    "\n",
    "## Pour la class reservation :\n",
    "##### On peut supposer pour simplifier que les emails ont une structure ressemblant aux exemple ci\u0002dessous, c’est-à-dire que chaque demande de la réservation se présente de la façon suivante : \n",
    "##### mention de la salle, puis de la date (jour avant mois), puis mention du créneau horaire.\n",
    "##### Mail1.txt :\n",
    "##### Bonjour,\n",
    "##### Nous souhaiterions utiliser la salle 736 le mardi 17 janvier entre 15 h et 19 h et la salle 140 le \n",
    "##### 18 janvier 9 h – 11 h.\n",
    "##### Mail2.txt :\n",
    "##### Salut,\n",
    "##### J’ai besoin de la salle 736 le 17 janvier entre 8 h et 10 h.\n",
    "##### Mail3.txt :\n",
    "##### Je peux avoir la salle 736 le mardi 17 janvier de 14 h à 16 h ?\n",
    "##### Chris.\n",
    "##### L’objet reservation doit pouvoir doit pouvoir contenir toutes ces informations, stockée sous forme de \n",
    "##### chaine de caractères, sauf les horaires qui seront des entiers pour pouvoir effectuer plus facilement \n",
    "##### des opérations"
   ],
   "cell_type": "markdown",
   "metadata": {}
  },
  {
   "cell_type": "code",
   "execution_count": 4,
   "metadata": {},
   "outputs": [],
   "source": [
    "class reservation:\n",
    "\n",
    "    ## chaque information de la liste est lu et stocker dans de nouuvelle variable\n",
    "    def __init__(self, info):\n",
    "        self.numSalle = info[0]\n",
    "        self.NumDateReserv = info[1]\n",
    "        self.MoisDateReserv = info[2]\n",
    "        self.heureDebut = info[3]\n",
    "        self.heureFin = info[4]\n",
    "\n",
    "\n",
    "    \n",
    "    def _set_salle(self, numSalle):\n",
    "        self._numSalle = str(numSalle)\n",
    "        \n",
    "    def _set_date(self, NumDateReserv, MoisDateReserv):\n",
    "        self._NumDateReserv = str(NumDateReserv)\n",
    "        self._MoisDateReserv = str(MoisDateReserv)\n",
    "        self._dateReserv = NumDateReserv + \" \" + MoisDateReserv\n",
    "        \n",
    "    \n",
    "    def _set_heure(self, heureDebut,heureFin):\n",
    "        self._heureDebut = int(heureDebut)\n",
    "        self._heureFin = int(heureFin)\n",
    "        self._Time = heureFin - heureDebut\n",
    "    def _get_salle(self):\n",
    "        return self._numSalle\n",
    "    \n",
    "    def _get_date(self):\n",
    "        return self._dateReserv\n",
    "    \n",
    "    def _get_heure(self):\n",
    "        return self._heureDebut, self._MoisDateReserv , self._Time\n",
    "    \n",
    "    numSalle = property(_get_salle, _set_salle)\n",
    "    date = property(_get_date, _set_date)\n",
    "    heure = property(_get_heure, _set_heure)"
   ]
  },
  {
   "cell_type": "code",
   "execution_count": 5,
   "metadata": {},
   "outputs": [
    {
     "output_type": "stream",
     "name": "stdout",
     "text": [
      "Numéro de salle: 736, Date de Resa: 17, Mois de Resa: janvier, Heure de Début: 8 , Heure de Fin: 10\n"
     ]
    }
   ],
   "source": [
    "# assignation de la class interface_mail() à test\n",
    "test = interface_mail()\n",
    "# test + la méthode read_mail() sur mail_test\n",
    "test.read_mail(mail_test)\n",
    "# affichage de test\n",
    "print(test)"
   ]
  },
  {
   "source": [
    "### Création de la classe Data access object"
   ],
   "cell_type": "markdown",
   "metadata": {}
  },
  {
   "source": [
    "## import de la librairie sqlalchemy pour crée la connexion entre python et la database\n",
    "from sqlalchemy import create_engine\n",
    "#import de la librairie pandas pour lire les information de la database sous forme de dataframe \n",
    "import pandas as pd\n",
    "# import de la librairie json pour lire le fichier de config contenant les information de connexion\n",
    "import json\n",
    "\n",
    "\n",
    "# assignation de la config.json à fichierConfig\n",
    "fichierConfig = \"config.json\"\n",
    "# ouverture et chargement des donnée contenu dans fichierConfig\n",
    "with open(fichierConfig) as fichier:\n",
    "    config = json.load(fichier)[\"mysql\"]\n",
    "\n",
    "# assignation de de la connexion par create_engine avec les éléement de connexion + les info du fichierConfig à engine\n",
    "# en dehors de la class car cet élémeent ne change pas\n",
    "engine = create_engine('mysql+' + config[\"connector\"] + '://' + config[\"user\"] + \":\" + config[\"password\"] + \"@\" + config[\"host\"] + \":\" + config[\"port\"] + \"/\" + config[\"bdd\"], echo=False)\n",
    "connection = engine.raw_connection()\n",
    "\n",
    "\n",
    "# class DAO pour effectuer les requêtes dans la database\n",
    "class DAO:\n",
    "\n",
    "\n",
    "    def __init__(self):\n",
    "        print(\"Welcome\")\n",
    "\n",
    "       \n",
    "    # méthode recuperer permet d'effectuer une requêtes SQL pour récuperer les information nécessaire\n",
    "    def recuperer(self):\n",
    "        query_load_reservation = pd.read_sql_query('SELECT res_date, res_heure_arrive, res_heure_depart , res_temps_reserver, ma_id ,sa_name FROM RESERVATION JOIN SALLE on RESERVATION.sa_id = SALLE.sa_id;',engine)\n",
    "        # assignation de la requete de recuperation dans un self.query_load_reservation\n",
    "        self.query_load_reservation = query_load_reservation\n",
    "\n",
    "    \n",
    "    \n",
    "    \n",
    "    \n",
    "    \n",
    "    # méthode insertion permet d'effectuer des requêtes SQL pour inserer des données dans les tables\n",
    "    def inserer(self):\n",
    "\n",
    "        \n",
    "        parameterIn2 = \"SAMYSPORT2020\"\n",
    "        \n",
    "        try:\n",
    "            cursor = connection.cursor()\n",
    "            query_insert = cursor.callproc(\"PI_SALLE_SIMPLE\", [parameterIn2])\n",
    "            # fetch result parameters\n",
    "            results = list(cursor.fetchall())\n",
    "            cursor.close()\n",
    "            connection.commit()\n",
    "        finally:\n",
    "            connection.close() \n",
    "        # assignation de la requete d'insertion dans un self.query_insert\n",
    "            self.query_insert = query_insert\n"
   ],
   "cell_type": "code",
   "metadata": {},
   "execution_count": 23,
   "outputs": []
  },
  {
   "cell_type": "code",
   "execution_count": 24,
   "metadata": {},
   "outputs": [
    {
     "output_type": "stream",
     "name": "stdout",
     "text": [
      "Welcome\n['SAMYSPORT2020']\n"
     ]
    }
   ],
   "source": [
    "info_insert = DAO()\n",
    "DAO.inserer(info_insert)\n",
    "print(info_insert.query_insert)\n",
    "#print(info_insert.query_insert)"
   ]
  },
  {
   "cell_type": "code",
   "execution_count": 2,
   "metadata": {},
   "outputs": [
    {
     "output_type": "stream",
     "name": "stdout",
     "text": [
      "Welcome\nEmpty DataFrame\nColumns: [res_date, res_heure_arrive, res_heure_depart, res_temps_reserver, ma_id, sa_name]\nIndex: []\n"
     ]
    }
   ],
   "source": [
    "# assignation de la class DAO() a info_load\n",
    "info_load = DAO()\n",
    "# application de la méthode recuperer() de DAO() sur info load\n",
    "DAO.recuperer(info_load)\n",
    "# affichage des information obtenu par la méthode recuperer()\n",
    "print(info_load.query_load_reservation)"
   ]
  },
  {
   "source": [
    "### Création de la classe moteur"
   ],
   "cell_type": "markdown",
   "metadata": {}
  },
  {
   "cell_type": "code",
   "execution_count": null,
   "metadata": {},
   "outputs": [],
   "source": [
    "class moteur:"
   ]
  }
 ]
}