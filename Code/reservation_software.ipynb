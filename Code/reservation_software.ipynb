{
 "metadata": {
  "language_info": {
   "codemirror_mode": {
    "name": "ipython",
    "version": 3
   },
   "file_extension": ".py",
   "mimetype": "text/x-python",
   "name": "python",
   "nbconvert_exporter": "python",
   "pygments_lexer": "ipython3",
   "version": "3.7.6-final"
  },
  "orig_nbformat": 2,
  "kernelspec": {
   "name": "python3",
   "display_name": "Python 3"
  }
 },
 "nbformat": 4,
 "nbformat_minor": 2,
 "cells": [
  {
   "source": [
    "# Importation des librairies python"
   ],
   "cell_type": "markdown",
   "metadata": {}
  },
  {
   "cell_type": "code",
   "execution_count": null,
   "metadata": {},
   "outputs": [],
   "source": [
    "import sqla from sqlalchemy\n",
    "import time\n",
    "import "
   ]
  },
  {
   "source": [
    "# Création des différentes classes du logiciel"
   ],
   "cell_type": "markdown",
   "metadata": {}
  },
  {
   "source": [
    "### Création de la classe réservation"
   ],
   "cell_type": "markdown",
   "metadata": {}
  },
  {
   "cell_type": "code",
   "execution_count": 1,
   "metadata": {},
   "outputs": [
    {
     "output_type": "error",
     "ename": "SyntaxError",
     "evalue": "unexpected EOF while parsing (<ipython-input-1-3a2844108409>, line 1)",
     "traceback": [
      "\u001b[0;36m  File \u001b[0;32m\"<ipython-input-1-3a2844108409>\"\u001b[0;36m, line \u001b[0;32m1\u001b[0m\n\u001b[0;31m    class reservation:\u001b[0m\n\u001b[0m                      ^\u001b[0m\n\u001b[0;31mSyntaxError\u001b[0m\u001b[0;31m:\u001b[0m unexpected EOF while parsing\n"
     ]
    }
   ],
   "source": [
    "class reservation:\n",
    "    def __init__(self, nomSalle, dateReserv, heureReserve):\n",
    "        "
   ]
  },
  {
   "source": [
    "### Création de la classe interface_mail"
   ],
   "cell_type": "markdown",
   "metadata": {}
  },
  {
   "cell_type": "code",
   "execution_count": null,
   "metadata": {},
   "outputs": [],
   "source": [
    "class interface_mail:"
   ]
  },
  {
   "source": [
    "### Création de la classe Data access object"
   ],
   "cell_type": "markdown",
   "metadata": {}
  },
  {
   "source": [
    "class DAO:"
   ],
   "cell_type": "code",
   "metadata": {},
   "execution_count": null,
   "outputs": []
  },
  {
   "source": [
    "### Création de la classe moteur"
   ],
   "cell_type": "markdown",
   "metadata": {}
  },
  {
   "cell_type": "code",
   "execution_count": null,
   "metadata": {},
   "outputs": [],
   "source": [
    "class moteur:"
   ]
  }
 ]
}