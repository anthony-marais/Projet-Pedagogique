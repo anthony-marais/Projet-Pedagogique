{
 "metadata": {
  "language_info": {
   "codemirror_mode": {
    "name": "ipython",
    "version": 3
   },
   "file_extension": ".py",
   "mimetype": "text/x-python",
   "name": "python",
   "nbconvert_exporter": "python",
   "pygments_lexer": "ipython3",
   "version": "3.8.3-final"
  },
  "orig_nbformat": 2,
  "kernelspec": {
   "name": "python3",
   "display_name": "Python 3"
  }
 },
 "nbformat": 4,
 "nbformat_minor": 2,
 "cells": [
  {
   "source": [
    "# Importation des librairies python"
   ],
   "cell_type": "markdown",
   "metadata": {}
  },
  {
   "cell_type": "code",
   "execution_count": 13,
   "metadata": {},
   "outputs": [],
   "source": [
    "import time\n",
    "import re"
   ]
  },
  {
   "source": [
    "# Création des différentes classes du logiciel"
   ],
   "cell_type": "markdown",
   "metadata": {}
  },
  {
   "source": [
    "## Création de la classe interface_mail\n",
    "\n",
    "#### La class interface_mail n’a qu’une seul méthode supplémentaire read_mail(), #### récupère le contenu du texte et cherche un motif commençant par le mot « salle » et alternant ensuite blocs de chiffres et boc d’autre caractères, censés être dans l’ordre : salle, date, horaire de début et horaire de fin. Le résultat est ensuite utilisé pour construire un objet reservation.On peut stocker les information ainsi extraite dans une liste pérenne qui sera ensuite traité en temps voulu par le reste du programme. Ainsi l’interface et la base de données peuvent travailler de façon asynchrone. C’est-à-dire que l’interface peut recevoir des mail en continu toute la journée et la base de données, être mise à jour une fois par jour.Pour la méthode read_mail(). Pour le moment on peut traiter les mails comme une chaine de caractère directement écrite dans le programme (Une interface utilisateur pourra être créer ultérieurement avec Flask). "
   ],
   "cell_type": "markdown",
   "metadata": {}
  },
  {
   "cell_type": "code",
   "execution_count": 14,
   "metadata": {},
   "outputs": [],
   "source": [
    "# lire le mail, recherche par motif REGEX (le mot salle), salle, date horraire debut/fi\n",
    "# une fois traitement fais stockage dans une liste [] .append()\n",
    "\n",
    "mail_test = \"Salut, J’ai besoin de la salle 736 le 17 janvier entre 8 h et 10 h.\"\n",
    "\n",
    "class interface_mail:\n",
    "\n",
    "    def __init__(self):\n",
    "        self.aTraiter = []\n",
    "    def read_mail(self, mail):\n",
    "        motif = \"[a-zA-Z]+\\s(\\d+)[^\\d]+([\\d]+)\\s*([a-zA-Z]+)[^\\d]+([\\d]+)[^\\d]+([\\d]+)\"\n",
    "        res_mail = re.findall(motif,mail)\n",
    "        toAdd = [reservation(i) for i in res_mail]\n",
    "        self.aTraiter += toAdd\n",
    "    def __str__(self):\n",
    "        testStr = \"\"\n",
    "        #for resa in range(len(self.aTraiter)):\n",
    "        for idx, resa in enumerate(self.aTraiter):\n",
    "            testStr = \"Numéro de salle: {}, Date de Resa: {}, Mois de Resa: {}, Heure de Début: {} , Heure de Fin: {}\".format(resa.numSalle, resa.NumDateReserv, resa.MoisDateReserv, resa.heureDebut, resa.heureFin)\n",
    "        return testStr"
   ]
  },
  {
   "source": [
    "# Création de la classe réservation\n",
    "\n",
    "## Pour la class reservation :\n",
    "##### On peut supposer pour simplifier que les emails ont une structure ressemblant aux exemple ci\u0002dessous, c’est-à-dire que chaque demande de la réservation se présente de la façon suivante : \n",
    "##### mention de la salle, puis de la date (jour avant mois), puis mention du créneau horaire.\n",
    "##### Mail1.txt :\n",
    "##### Bonjour,\n",
    "##### Nous souhaiterions utiliser la salle 736 le mardi 17 janvier entre 15 h et 19 h et la salle 140 le \n",
    "##### 18 janvier 9 h – 11 h.\n",
    "##### Mail2.txt :\n",
    "##### Salut,\n",
    "##### J’ai besoin de la salle 736 le 17 janvier entre 8 h et 10 h.\n",
    "##### Mail3.txt :\n",
    "##### Je peux avoir la salle 736 le mardi 17 janvier de 14 h à 16 h ?\n",
    "##### Chris.\n",
    "##### L’objet reservation doit pouvoir doit pouvoir contenir toutes ces informations, stockée sous forme de \n",
    "##### chaine de caractères, sauf les horaires qui seront des entiers pour pouvoir effectuer plus facilement \n",
    "##### des opérations"
   ],
   "cell_type": "markdown",
   "metadata": {}
  },
  {
   "cell_type": "code",
   "execution_count": 15,
   "metadata": {},
   "outputs": [],
   "source": [
    "class reservation:\n",
    "    def __init__(self, info):\n",
    "        self.numSalle = info[0]\n",
    "        self.NumDateReserv = info[1]\n",
    "        self.MoisDateReserv = info[2]\n",
    "        self.heureDebut = info[3]\n",
    "        self.heureFin = info[4]\n",
    "\n",
    "    def _set_salle(self, numSalle):\n",
    "        self._numSalle = str(numSalle)\n",
    "        \n",
    "    def _set_date(self, NumDateReserv, MoisDateReserv):\n",
    "        self._NumDateReserv = str(NumDateReserv)\n",
    "        self._MoisDateReserv = str(MoisDateReserv)\n",
    "        self._dateReserv = NumDateReserv + \" \" + MoisDateReserv\n",
    "        \n",
    "    \n",
    "    def _set_heure(self, heureDebut,heureFin):\n",
    "        self._heureDebut = int(heureDebut)\n",
    "        self._heureFin = int(heureFin)\n",
    "        self._Time = heureFin - heureDebut\n",
    "    def _get_salle(self):\n",
    "        return self._numSalle\n",
    "    \n",
    "    def _get_date(self):\n",
    "        return self._dateReserv\n",
    "    \n",
    "    def _get_heure(self):\n",
    "        return self._heureDebut, self._MoisDateReserv , self._Time\n",
    "    \n",
    "    numSalle = property(_get_salle, _set_salle)\n",
    "    date = property(_get_date, _set_date)\n",
    "    heure = property(_get_heure, _set_heure)"
   ]
  },
  {
   "cell_type": "code",
   "execution_count": 16,
   "metadata": {},
   "outputs": [
    {
     "output_type": "stream",
     "name": "stdout",
     "text": [
      "Numéro de salle: 736, Date de Resa: 17, Mois de Resa: janvier, Heure de Début: 8 , Heure de Fin: 10\n"
     ]
    }
   ],
   "source": [
    "test = interface_mail()\n",
    "test.read_mail(mail_test)\n",
    "print(test)"
   ]
  },
  {
   "source": [
    "### Création de la classe Data access object"
   ],
   "cell_type": "markdown",
   "metadata": {}
  },
  {
   "source": [
    "from sqlalchemy import create_engine\n",
    "import pandas as pd\n",
    "import json\n",
    "\n",
    "fichierConfig = \"config.json\"\n",
    "with open(fichierConfig) as fichier:\n",
    "    config = json.load(fichier)[\"mysql\"]\n",
    "\n",
    "class DAO:\n",
    "\n",
    "\n",
    "    def __init__(self):\n",
    "        print(\"Welcome\")\n",
    "        engine = create_engine('mysql+' + config[\"connector\"] + '://' + config[\"user\"] + \":\" + config[\"password\"] + \"@\" + config[\"host\"] + \":\" + config[\"port\"] + \"/\" + config[\"bdd\"], echo=False)\n",
    "        self.engine = engine\n",
    "\n",
    "    def recuperer(self):\n",
    "        query_load_reservation = pd.read_sql_query('SELECT res_date, res_heure_arrive, res_heure_depart , res_temps_reserver ,sa_name FROM RESERVATION JOIN SALLE on RESERVATION.sa_id = SALLE.sa_id;',engine)\n",
    "        self.query_load_reservation = query_load_reservation\n",
    "    \n",
    "    def inserer(self):\n",
    "        query_insert = pd.read_sql_query('SELECT * FROM SALLE',engine)\n",
    "        self.query_insert = query_insert\n",
    "\n",
    "\n",
    "\n",
    "\n",
    "\n",
    "#info_insert = DAO()\n",
    "#DAO.inserer(info_insert)\n",
    "#print(info_insert.query_insert)\n"
   ],
   "cell_type": "code",
   "metadata": {},
   "execution_count": 5,
   "outputs": []
  },
  {
   "cell_type": "code",
   "execution_count": 6,
   "metadata": {},
   "outputs": [
    {
     "output_type": "stream",
     "name": "stdout",
     "text": [
      "Welcome\n"
     ]
    },
    {
     "output_type": "error",
     "ename": "NameError",
     "evalue": "name 'engine' is not defined",
     "traceback": [
      "\u001b[0;31m---------------------------------------------------------------------------\u001b[0m",
      "\u001b[0;31mNameError\u001b[0m                                 Traceback (most recent call last)",
      "\u001b[0;32m<ipython-input-6-1b9f9d3f9a9d>\u001b[0m in \u001b[0;36m<module>\u001b[0;34m\u001b[0m\n\u001b[1;32m      1\u001b[0m \u001b[0minfo_load\u001b[0m \u001b[0;34m=\u001b[0m \u001b[0mDAO\u001b[0m\u001b[0;34m(\u001b[0m\u001b[0;34m)\u001b[0m\u001b[0;34m\u001b[0m\u001b[0;34m\u001b[0m\u001b[0m\n\u001b[0;32m----> 2\u001b[0;31m \u001b[0mDAO\u001b[0m\u001b[0;34m.\u001b[0m\u001b[0mrecuperer\u001b[0m\u001b[0;34m(\u001b[0m\u001b[0minfo_load\u001b[0m\u001b[0;34m)\u001b[0m\u001b[0;34m\u001b[0m\u001b[0;34m\u001b[0m\u001b[0m\n\u001b[0m\u001b[1;32m      3\u001b[0m \u001b[0mprint\u001b[0m\u001b[0;34m(\u001b[0m\u001b[0minfo_load\u001b[0m\u001b[0;34m.\u001b[0m\u001b[0mquery_load_reservation\u001b[0m\u001b[0;34m)\u001b[0m\u001b[0;34m\u001b[0m\u001b[0;34m\u001b[0m\u001b[0m\n",
      "\u001b[0;32m<ipython-input-5-0f8b83b74eb3>\u001b[0m in \u001b[0;36mrecuperer\u001b[0;34m(self)\u001b[0m\n\u001b[1;32m     16\u001b[0m \u001b[0;34m\u001b[0m\u001b[0m\n\u001b[1;32m     17\u001b[0m     \u001b[0;32mdef\u001b[0m \u001b[0mrecuperer\u001b[0m\u001b[0;34m(\u001b[0m\u001b[0mself\u001b[0m\u001b[0;34m)\u001b[0m\u001b[0;34m:\u001b[0m\u001b[0;34m\u001b[0m\u001b[0;34m\u001b[0m\u001b[0m\n\u001b[0;32m---> 18\u001b[0;31m         \u001b[0mquery_load_reservation\u001b[0m \u001b[0;34m=\u001b[0m \u001b[0mpd\u001b[0m\u001b[0;34m.\u001b[0m\u001b[0mread_sql_query\u001b[0m\u001b[0;34m(\u001b[0m\u001b[0;34m'SELECT res_date, res_heure_arrive, res_heure_depart , res_temps_reserver ,sa_name FROM RESERVATION JOIN SALLE on RESERVATION.sa_id = SALLE.sa_id;'\u001b[0m\u001b[0;34m,\u001b[0m\u001b[0mengine\u001b[0m\u001b[0;34m)\u001b[0m\u001b[0;34m\u001b[0m\u001b[0;34m\u001b[0m\u001b[0m\n\u001b[0m\u001b[1;32m     19\u001b[0m         \u001b[0mself\u001b[0m\u001b[0;34m.\u001b[0m\u001b[0mquery_load_reservation\u001b[0m \u001b[0;34m=\u001b[0m \u001b[0mquery_load_reservation\u001b[0m\u001b[0;34m\u001b[0m\u001b[0;34m\u001b[0m\u001b[0m\n\u001b[1;32m     20\u001b[0m \u001b[0;34m\u001b[0m\u001b[0m\n",
      "\u001b[0;31mNameError\u001b[0m: name 'engine' is not defined"
     ]
    }
   ],
   "source": [
    "info_load = DAO()\n",
    "DAO.recuperer(info_load)\n",
    "print(info_load.query_load_reservation)"
   ]
  },
  {
   "source": [
    "### Création de la classe moteur"
   ],
   "cell_type": "markdown",
   "metadata": {}
  },
  {
   "cell_type": "code",
   "execution_count": null,
   "metadata": {},
   "outputs": [],
   "source": [
    "class moteur:"
   ]
  }
 ]
}