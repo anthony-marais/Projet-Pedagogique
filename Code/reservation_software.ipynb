{
 "metadata": {
  "language_info": {
   "codemirror_mode": {
    "name": "ipython",
    "version": 3
   },
   "file_extension": ".py",
   "mimetype": "text/x-python",
   "name": "python",
   "nbconvert_exporter": "python",
   "pygments_lexer": "ipython3",
   "version": "3.8.3-final"
  },
  "orig_nbformat": 2,
  "kernelspec": {
   "name": "python3",
   "display_name": "Python 3"
  }
 },
 "nbformat": 4,
 "nbformat_minor": 2,
 "cells": [
  {
   "source": [
    "# Importation des librairies python"
   ],
   "cell_type": "markdown",
   "metadata": {}
  },
  {
   "cell_type": "code",
   "execution_count": null,
   "metadata": {},
   "outputs": [],
   "source": [
    "import sqla from sqlalchemy\n",
    "import time\n",
    "import "
   ]
  },
  {
   "source": [
    "# Création des différentes classes du logiciel"
   ],
   "cell_type": "markdown",
   "metadata": {}
  },
  {
   "source": [
    "# Création de la classe réservation\n",
    "\n",
    "## Pour la class reservation :\n",
    "##### On peut supposer pour simplifier que les emails ont une structure ressemblant aux exemple ci\u0002dessous, c’est-à-dire que chaque demande de la réservation se présente de la façon suivante : \n",
    "##### mention de la salle, puis de la date (jour avant mois), puis mention du créneau horaire.\n",
    "##### Mail1.txt :\n",
    "##### Bonjour,\n",
    "##### Nous souhaiterions utiliser la salle 736 le mardi 17 janvier entre 15 h et 19 h et la salle 140 le \n",
    "##### 18 janvier 9 h – 11 h.\n",
    "##### Mail2.txt :\n",
    "##### Salut,\n",
    "##### J’ai besoin de la salle 736 le 17 janvier entre 8 h et 10 h.\n",
    "##### Mail3.txt :\n",
    "##### Je peux avoir la salle 736 le mardi 17 janvier de 14 h à 16 h ?\n",
    "##### Chris.\n",
    "##### L’objet reservation doit pouvoir doit pouvoir contenir toutes ces informations, stockée sous forme de \n",
    "##### chaine de caractères, sauf les horaires qui seront des entiers pour pouvoir effectuer plus facilement \n",
    "##### des opérations"
   ],
   "cell_type": "markdown",
   "metadata": {}
  },
  {
   "cell_type": "code",
   "execution_count": 1,
   "metadata": {},
   "outputs": [
    {
     "output_type": "error",
     "ename": "SyntaxError",
     "evalue": "unexpected EOF while parsing (<ipython-input-1-3a2844108409>, line 1)",
     "traceback": [
      "\u001b[0;36m  File \u001b[0;32m\"<ipython-input-1-3a2844108409>\"\u001b[0;36m, line \u001b[0;32m1\u001b[0m\n\u001b[0;31m    class reservation:\u001b[0m\n\u001b[0m                      ^\u001b[0m\n\u001b[0;31mSyntaxError\u001b[0m\u001b[0;31m:\u001b[0m unexpected EOF while parsing\n"
     ]
    }
   ],
   "source": [
    "class reservation:\n",
    "    def __init__(self, addresse_email, contenu_mail, nomSalle, dateReserv, heureReserve):\n",
    "        "
   ]
  },
  {
   "source": [
    "### Création de la classe interface_mail"
   ],
   "cell_type": "markdown",
   "metadata": {}
  },
  {
   "cell_type": "code",
   "execution_count": null,
   "metadata": {},
   "outputs": [],
   "source": [
    "class interface_mail:\n",
    "    "
   ]
  },
  {
   "source": [
    "### Création de la classe Data access object"
   ],
   "cell_type": "markdown",
   "metadata": {}
  },
  {
   "source": [
    "class DAO:"
   ],
   "cell_type": "code",
   "metadata": {},
   "execution_count": null,
   "outputs": []
  },
  {
   "source": [
    "### Création de la classe moteur"
   ],
   "cell_type": "markdown",
   "metadata": {}
  },
  {
   "cell_type": "code",
   "execution_count": null,
   "metadata": {},
   "outputs": [],
   "source": [
    "class moteur:"
   ]
  }
 ]
}