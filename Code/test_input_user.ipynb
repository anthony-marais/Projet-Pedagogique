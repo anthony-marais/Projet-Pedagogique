{
 "metadata": {
  "language_info": {
   "codemirror_mode": {
    "name": "ipython",
    "version": 3
   },
   "file_extension": ".py",
   "mimetype": "text/x-python",
   "name": "python",
   "nbconvert_exporter": "python",
   "pygments_lexer": "ipython3",
   "version": "3.8.5-final"
  },
  "orig_nbformat": 2,
  "kernelspec": {
   "name": "python3",
   "display_name": "Python 3",
   "language": "python"
  }
 },
 "nbformat": 4,
 "nbformat_minor": 2,
 "cells": [
  {
   "cell_type": "code",
   "execution_count": 1,
   "metadata": {},
   "outputs": [],
   "source": [
    "import re\n",
    "import time\n",
    "# lire le mail, recherche par motif REGEX (le mot salle), salle, date horraire debut/fi\n",
    "# une fois traitement fais stockage dans une liste [] .append()\n",
    "\n",
    "#mail_test = \"Salut, J’ai besoin de la salle 736 le 17 janvier entre 8 h et 10 h et J’ai besoin de la salle 736 le 17 janvier entre 8 h et 10 h.\"\n",
    "\n",
    "\n",
    "mail = str(input(\"\"))\n",
    "\n",
    "    ## Métodhe read_mail qui fais le traitement sur un chaîne de caractères par le regex,\n",
    "    ## stock les élément récuperer dans la variable toAdd qui est = à self.aTraiter\n",
    "\n",
    "motif = \"[a-zA-Z]+\\s(\\d+)[^\\d]+([\\d]+)\\s*([a-zA-Z]+)[^\\d]+([\\d]+)[^\\d]+([\\d]+)\"\n",
    "res_mail = re.findall(motif,mail)\n",
    "res_mail"
   ]
  },
  {
   "cell_type": "code",
   "execution_count": 12,
   "metadata": {},
   "outputs": [
    {
     "output_type": "stream",
     "name": "stdout",
     "text": [
      "2\n"
     ]
    },
    {
     "output_type": "execute_result",
     "data": {
      "text/plain": [
       "int"
      ]
     },
     "metadata": {},
     "execution_count": 12
    }
   ],
   "source": [
    "time_reserv = fin_reserv - debut_reserv\n",
    "print(time_reserv)\n",
    "type(time_reserv)"
   ]
  },
  {
   "cell_type": "code",
   "execution_count": 13,
   "metadata": {},
   "outputs": [
    {
     "output_type": "stream",
     "name": "stdout",
     "text": [
      "2020-01-17\n"
     ]
    }
   ],
   "source": [
    "### parti date\n",
    "## pip install dateparser\n",
    "import dateparser\n",
    "import datetime\n",
    "\n",
    "day_reserv\n",
    "month_reserv\n",
    "date_reserv = day_reserv + \" \" + month_reserv\n",
    "date_reserv = dateparser.parse(date_reserv)\n",
    "now = datetime.datetime.now()\n",
    "\n",
    "if date_reserv <= now:\n",
    "    now_year = now.year + 1\n",
    "else:\n",
    "    now.year\n",
    "\n",
    "date_reserv = str(date_reserv)\n",
    "date_reserv = date_reserv[5:10]\n",
    "date_reserv = str(now_year) + ' ' + date_reserv\n",
    "date_reserv = dateparser.parse(date_reserv)\n",
    "date_reserv = date_reserv.date()\n",
    "\n",
    "print(date_reserv)"
   ]
  },
  {
   "cell_type": "code",
   "execution_count": 15,
   "metadata": {},
   "outputs": [
    {
     "output_type": "execute_result",
     "data": {
      "text/plain": [
       "datetime.datetime"
      ]
     },
     "metadata": {},
     "execution_count": 15
    }
   ],
   "source": [
    "type(date_reserv)"
   ]
  },
  {
   "cell_type": "code",
   "execution_count": null,
   "metadata": {},
   "outputs": [],
   "source": []
  },
  {
   "cell_type": "code",
   "execution_count": 16,
   "metadata": {},
   "outputs": [
    {
     "output_type": "stream",
     "name": "stdout",
     "text": [
      "736\n"
     ]
    },
    {
     "output_type": "execute_result",
     "data": {
      "text/plain": [
       "str"
      ]
     },
     "metadata": {},
     "execution_count": 16
    }
   ],
   "source": [
    "print(num_salle_reserv)\n",
    "type(num_salle_reserv)"
   ]
  },
  {
   "cell_type": "code",
   "execution_count": 17,
   "metadata": {},
   "outputs": [
    {
     "output_type": "stream",
     "name": "stdout",
     "text": [
      "2020-01-17 00:00:00\n"
     ]
    },
    {
     "output_type": "execute_result",
     "data": {
      "text/plain": [
       "datetime.datetime"
      ]
     },
     "metadata": {},
     "execution_count": 17
    }
   ],
   "source": [
    "print(date_reserv)\n",
    "type(date_reserv)"
   ]
  },
  {
   "cell_type": "code",
   "execution_count": 18,
   "metadata": {},
   "outputs": [
    {
     "output_type": "stream",
     "name": "stdout",
     "text": [
      "8\n"
     ]
    },
    {
     "output_type": "execute_result",
     "data": {
      "text/plain": [
       "str"
      ]
     },
     "metadata": {},
     "execution_count": 18
    }
   ],
   "source": [
    "print(debut_reserv)\n",
    "type(debut_reserv)"
   ]
  },
  {
   "cell_type": "code",
   "execution_count": 19,
   "metadata": {},
   "outputs": [
    {
     "output_type": "stream",
     "name": "stdout",
     "text": [
      "10\n"
     ]
    },
    {
     "output_type": "execute_result",
     "data": {
      "text/plain": [
       "str"
      ]
     },
     "metadata": {},
     "execution_count": 19
    }
   ],
   "source": [
    "print(fin_reserv)\n",
    "type(fin_reserv)"
   ]
  },
  {
   "cell_type": "code",
   "execution_count": 145,
   "metadata": {},
   "outputs": [
    {
     "output_type": "stream",
     "name": "stdout",
     "text": [
      "2\n"
     ]
    },
    {
     "output_type": "execute_result",
     "data": {
      "text/plain": [
       "int"
      ]
     },
     "metadata": {},
     "execution_count": 145
    }
   ],
   "source": [
    "print(time_reserv)\n",
    "type(time_reserv)"
   ]
  },
  {
   "source": [
    "## INSERTION DANS MAIL"
   ],
   "cell_type": "markdown",
   "metadata": {}
  },
  {
   "cell_type": "code",
   "execution_count": 19,
   "metadata": {},
   "outputs": [],
   "source": [
    "import json\n",
    "## import de la librairie sqlalchemy pour crée la connexion entre python et la database\n",
    "from sqlalchemy import create_engine\n",
    "#import de la librairie pandas pour lire les information de la database sous forme de dataframe \n",
    "import pandas as pd\n",
    "\n",
    "\n",
    "# assignation de la config.json à fichierConfig\n",
    "fichierConfig = \"config.json\"\n",
    "# ouverture et chargement des donnée contenu dans fichierConfig\n",
    "with open(fichierConfig) as fichier:\n",
    "    config = json.load(fichier)[\"mysql\"]\n",
    "\n",
    "\n",
    "\n",
    "# assignation de de la connexion par create_engine avec les éléement de connexion + les info du fichierConfig à engine\n",
    "# en dehors de la class car cet élémeent ne change pas\n",
    "engine = create_engine('mysql+' + config[\"connector\"] + '://' + config[\"user\"] + \":\" + config[\"password\"] + \"@\" + config[\"host\"] + \":\" + config[\"port\"] + \"/\" + config[\"bdd\"], echo=False)\n",
    "connection = engine.raw_connection()\n",
    "\n",
    "parameterIn0 = 27    \n",
    "\n",
    "\n",
    "parameterIn1 = mail  ## le mail inserer par l'user \n",
    "\n",
    "from datetime import datetime\n",
    "# datetime object containing current date and time\n",
    "now = datetime.now()\n",
    "# dd/mm/YY H:M:S\n",
    "now = now.strftime(\"%Y-%m-%d %H:%M:%S\")\n",
    "\n",
    "parameterIn2 = now\n",
    "parameterIn3 = 32 ### insertion de l'id de la sesssion user\n",
    "       \n",
    "\n",
    "\n",
    "cursor = connection.cursor()\n",
    "query_insert = cursor.callproc(\"PI_MAIL_SIMPLE\", [parameterIn1,parameterIn3],)\n",
    "query_insert = query_insert\n",
    "# fetch result parameters\n",
    "results = list(cursor.fetchall())\n",
    "cursor.close()\n",
    "connection.commit()\n",
    "connection.close()"
   ]
  },
  {
   "cell_type": "code",
   "execution_count": 185,
   "metadata": {},
   "outputs": [],
   "source": [
    "from datetime import datetime\n",
    "# datetime object containing current date and time\n",
    "now = datetime.now()\n",
    "# dd/mm/YY H:M:S\n",
    "now = now.strftime(\"%Y-%m-%d %H:%M:%S\")"
   ]
  },
  {
   "cell_type": "code",
   "execution_count": 186,
   "metadata": {},
   "outputs": [
    {
     "output_type": "stream",
     "name": "stdout",
     "text": [
      "2020-12-18 14:21:55\n"
     ]
    }
   ],
   "source": [
    "print(now)"
   ]
  },
  {
   "source": [
    "## TRAITEMENT DU MAIL DE LA DEMANDE RESERVATION"
   ],
   "cell_type": "markdown",
   "metadata": {}
  },
  {
   "cell_type": "code",
   "execution_count": 46,
   "metadata": {},
   "outputs": [],
   "source": [
    "import json\n",
    "## import de la librairie sqlalchemy pour crée la connexion entre python et la database\n",
    "from sqlalchemy import create_engine\n",
    "#import de la librairie pandas pour lire les information de la database sous forme de dataframe \n",
    "import pandas as pd\n",
    "\n",
    "\n",
    "# assignation de la config.json à fichierConfig\n",
    "fichierConfig = \"config.json\"\n",
    "# ouverture et chargement des donnée contenu dans fichierConfig\n",
    "with open(fichierConfig) as fichier:\n",
    "    config = json.load(fichier)[\"mysql\"]\n",
    "\n",
    "\n",
    "\n",
    "# assignation de de la connexion par create_engine avec les éléement de connexion + les info du fichierConfig à engine\n",
    "# en dehors de la class car cet élémeent ne change pas\n",
    "engine = create_engine('mysql+' + config[\"connector\"] + '://' + config[\"user\"] + \":\" + config[\"password\"] + \"@\" + config[\"host\"] + \":\" + config[\"port\"] + \"/\" + config[\"bdd\"], echo=False)\n",
    "connection = engine.raw_connection()\n",
    "\n",
    "\n",
    "cursor = connection.cursor()\n",
    "cursor.execute('SELECT ma_contenu, ma_id FROM MAIL ORDER BY ma_date DESC LIMIT 1 ')    ### WHERE in_id == id de la session\n",
    "recup_mail = cursor.fetchone()\n",
    "# fetch result parameters\n",
    "\n",
    "cursor.close()\n",
    "connection.commit()\n",
    "connection.close()"
   ]
  },
  {
   "cell_type": "code",
   "execution_count": 47,
   "metadata": {},
   "outputs": [
    {
     "output_type": "execute_result",
     "data": {
      "text/plain": [
       "30"
      ]
     },
     "metadata": {},
     "execution_count": 47
    }
   ],
   "source": [
    "ma_id = recup_mail[1] ## --> id du mail envoyer par l'user  \n",
    "ma_id"
   ]
  },
  {
   "cell_type": "code",
   "execution_count": 3,
   "metadata": {},
   "outputs": [],
   "source": [
    "import re\n",
    "\n",
    "#mail = recup_mail[0]\n",
    "mail = \"Salut, J’ai besoin de la salle 736 le 17 janvier entre 8 h et 10 h\""
   ]
  },
  {
   "cell_type": "code",
   "execution_count": 4,
   "metadata": {},
   "outputs": [
    {
     "output_type": "execute_result",
     "data": {
      "text/plain": [
       "[('736', '17', 'janvier', '8', '10')]"
      ]
     },
     "metadata": {},
     "execution_count": 4
    }
   ],
   "source": [
    "motif = \"[a-zA-Z]+\\s(\\d+)[^\\d]+([\\d]+)\\s*([a-zA-Z]+)[^\\d]+([\\d]+)[^\\d]+([\\d]+)\"\n",
    "res_mail = re.findall(motif,mail)\n",
    "res_mail"
   ]
  },
  {
   "cell_type": "code",
   "execution_count": 5,
   "metadata": {},
   "outputs": [],
   "source": [
    "num_salle_reserv = res_mail[0][0]\n",
    "day_reserv = res_mail[0][1]\n",
    "month_reserv = res_mail[0][2]\n",
    "debut_reserv = res_mail[0][3]\n",
    "debut_reserv = int(debut_reserv)\n",
    "fin_reserv = res_mail[0][4]\n",
    "fin_reserv = int(fin_reserv)\n",
    "time_reserv = fin_reserv - debut_reserv\n",
    "\n",
    "## date_reserv\n",
    "### parti date\n",
    "## pip install dateparser\n",
    "import dateparser\n",
    "import datetime\n",
    "date_reserv = day_reserv + \" \" + month_reserv\n",
    "date_reserv = dateparser.parse(date_reserv)\n",
    "now = datetime.datetime.now()\n",
    "if date_reserv <= now:\n",
    "    now_year = now.year + 1\n",
    "else:\n",
    "    now.year\n",
    "date_reserv = str(date_reserv)\n",
    "date_reserv = date_reserv[5:10]\n",
    "date_reserv = str(now_year) + ' ' + date_reserv\n",
    "date_reserv = dateparser.parse(date_reserv)\n",
    "date_reserv = date_reserv.date()"
   ]
  },
  {
   "source": [
    "## CHECK DISPO COMPARAISONS DU MAIL TRAITER AVEC LES RESA DEJA EXISTANTE"
   ],
   "cell_type": "markdown",
   "metadata": {}
  },
  {
   "cell_type": "code",
   "execution_count": 15,
   "metadata": {},
   "outputs": [],
   "source": [
    "import MySQLdb.cursors\n",
    "import re\n",
    "## import de la librairie sqlalchemy pour crée la connexion entre python et la database\n",
    "from sqlalchemy import create_engine\n",
    "#import de la librairie pandas pour lire les information de la database sous forme de dataframe \n",
    "import pandas as pd\n",
    "# import de la librairie json pour lire le fichier de config contenant les information de connexion\n",
    "import json\n",
    "\n",
    "\n",
    "\n",
    "# assignation de la config.json à fichierConfig\n",
    "fichierConfig = \"config.json\"\n",
    "# ouverture et chargement des donnée contenu dans fichierConfig\n",
    "with open(fichierConfig) as fichier:\n",
    "    config = json.load(fichier)[\"mysql\"]\n",
    "\n",
    "\n",
    "\n",
    "# assignation de de la connexion par create_engine avec les éléement de connexion + les info du fichierConfig à engine\n",
    "# en dehors de la class car cet élémeent ne change pas\n",
    "engine = create_engine('mysql+' + config[\"connector\"] + '://' + config[\"user\"] + \":\" + config[\"password\"] + \"@\" + config[\"host\"] + \":\" + config[\"port\"] + \"/\" + config[\"bdd\"], echo=False)\n",
    "connection = engine.raw_connection()\n",
    "\n",
    "\n",
    "\n",
    "\n",
    "cursor = connection.cursor()\n",
    "cursor.execute('SELECT res_date, res_heure_arrive, res_heure_depart, S.sa_name FROM RESERVATION R INNER JOIN SALLE S ON S.sa_id=R.sa_id WHERE S.sa_name=%s AND R.res_date=%s AND %s BETWEEN R.res_heure_arrive AND R.res_heure_depart;', (num_salle_reserv,date_reserv,debut_reserv,))\n",
    "resa_db = cursor.fetchone()\n"
   ]
  },
  {
   "cell_type": "code",
   "execution_count": 16,
   "metadata": {},
   "outputs": [
    {
     "output_type": "stream",
     "name": "stdout",
     "text": [
      "(datetime.date(2021, 1, 17), 8, 10, '736')\n"
     ]
    }
   ],
   "source": [
    "print(resa_db)"
   ]
  },
  {
   "cell_type": "code",
   "execution_count": 9,
   "metadata": {},
   "outputs": [],
   "source": [
    "parameterIn0 = date_reserv\n",
    "parameterIn1 = debut_reserv\n",
    "parameterIn2 = fin_reserv\n",
    "parameterIn3 = time_reserv\n",
    "parameterIn4 = 133\n",
    "parameterIn5 = 37\n",
    "       \n",
    "\n",
    "cursor = connection.cursor()\n",
    "query_insert = cursor.callproc(\"PI_RES_SIMPLE\", [parameterIn0,parameterIn1,parameterIn2,parameterIn3,parameterIn4,parameterIn5,],)\n",
    "query_insert = query_insert\n",
    "# fetch result parameters\n",
    "results = list(cursor.fetchall())\n",
    "cursor.close()\n",
    "connection.commit()\n",
    "connection.close()"
   ]
  },
  {
   "cell_type": "code",
   "execution_count": null,
   "metadata": {},
   "outputs": [],
   "source": [
    "## J'ai inserer in salle dans la Table Salle (CALL PI_SALLE(1,\"SALLE_TEST\");)\n",
    "\n",
    "## id_salle_resa = SELECT sa_id FROM SALLE WHERE sa_name = %s , (num_salle_reserv)  --> pour récuperer le sa_id\n",
    "\n",
    "# sa_id_reserv = (result query recup id for num_salle_reserv)\n",
    "# \n",
    "#  \n",
    "\n",
    "## check_salle_date = (SELECT res_date, res_heure_arrive ,res_heure_depart ,res_temps_reserver  FROM RESERVATION WHERE sa_id = %s AND res_date = %s;(id_salle_resa, date_reserv))\n",
    "\n",
    "## if result == null:\n",
    "# --> CALL PI_RES_SIMPLE[date_reserv,rebut_reserv,fin_reserv,time_reserv,sa_id_reserv,ma_id]\n",
    "\n",
    "\n",
    "## if:\n",
    "##      (check_salle_date[1] and check_salle_date[2] == debut_reserv and fin_reserv) or \n",
    "#       (debut_reserv in range(check_salle_date[1], check_salle_date[2])) or \n",
    "#       (fin_reserv in range(check_salle_date[1], check_salle_date[2]))\n",
    "# elif:\n",
    "        ??\n",
    "\n",
    "# else result == null:\n",
    "# --> CALL PI_RES_SIMPLE[date_reserv,rebut_reserv,fin_reserv,time_reserv,sa_id_reserv,ma_id]\n",
    "\n",
    "\n"
   ]
  }
 ]
}