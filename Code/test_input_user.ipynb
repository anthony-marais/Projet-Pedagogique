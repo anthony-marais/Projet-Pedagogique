{
 "metadata": {
  "language_info": {
   "codemirror_mode": {
    "name": "ipython",
    "version": 3
   },
   "file_extension": ".py",
   "mimetype": "text/x-python",
   "name": "python",
   "nbconvert_exporter": "python",
   "pygments_lexer": "ipython3",
   "version": "3.8.5-final"
  },
  "orig_nbformat": 2,
  "kernelspec": {
   "name": "python3",
   "display_name": "Python 3",
   "language": "python"
  }
 },
 "nbformat": 4,
 "nbformat_minor": 2,
 "cells": [
  {
   "cell_type": "code",
   "execution_count": 3,
   "metadata": {},
   "outputs": [
    {
     "output_type": "execute_result",
     "data": {
      "text/plain": [
       "[('736', '17', 'janvier', '8', '10')]"
      ]
     },
     "metadata": {},
     "execution_count": 3
    }
   ],
   "source": [
    "import re\n",
    "import time\n",
    "# lire le mail, recherche par motif REGEX (le mot salle), salle, date horraire debut/fi\n",
    "# une fois traitement fais stockage dans une liste [] .append()\n",
    "\n",
    "#mail_test = \"Salut, J’ai besoin de la salle 736 le 17 janvier entre 8 h et 10 h et J’ai besoin de la salle 736 le 17 janvier entre 8 h et 10 h.\"\n",
    "\n",
    "\n",
    "mail = str(input(\"\"))\n",
    "\n",
    "    ## Métodhe read_mail qui fais le traitement sur un chaîne de caractères par le regex,\n",
    "    ## stock les élément récuperer dans la variable toAdd qui est = à self.aTraiter\n",
    "\n",
    "motif = \"[a-zA-Z]+\\s(\\d+)[^\\d]+([\\d]+)\\s*([a-zA-Z]+)[^\\d]+([\\d]+)[^\\d]+([\\d]+)\"\n",
    "res_mail = re.findall(motif,mail)\n",
    "res_mail"
   ]
  },
  {
   "cell_type": "code",
   "execution_count": 7,
   "metadata": {},
   "outputs": [
    {
     "output_type": "stream",
     "name": "stdout",
     "text": [
      "736\n"
     ]
    },
    {
     "output_type": "execute_result",
     "data": {
      "text/plain": [
       "str"
      ]
     },
     "metadata": {},
     "execution_count": 7
    }
   ],
   "source": [
    "num_salle_reserv = res_mail[0][0]\n",
    "print(num_salle_reserv)\n",
    "type(num_salle_reserv)"
   ]
  },
  {
   "cell_type": "code",
   "execution_count": 8,
   "metadata": {},
   "outputs": [
    {
     "output_type": "stream",
     "name": "stdout",
     "text": [
      "17\n"
     ]
    },
    {
     "output_type": "execute_result",
     "data": {
      "text/plain": [
       "str"
      ]
     },
     "metadata": {},
     "execution_count": 8
    }
   ],
   "source": [
    "day_reserv = res_mail[0][1]\n",
    "print(day_reserv)\n",
    "type(day_reserv)"
   ]
  },
  {
   "cell_type": "code",
   "execution_count": 9,
   "metadata": {},
   "outputs": [
    {
     "output_type": "stream",
     "name": "stdout",
     "text": [
      "janvier\n"
     ]
    },
    {
     "output_type": "execute_result",
     "data": {
      "text/plain": [
       "str"
      ]
     },
     "metadata": {},
     "execution_count": 9
    }
   ],
   "source": [
    "month_reserv = res_mail[0][2]\n",
    "print(month_reserv)\n",
    "type(month_reserv)"
   ]
  },
  {
   "cell_type": "code",
   "execution_count": 10,
   "metadata": {},
   "outputs": [
    {
     "output_type": "stream",
     "name": "stdout",
     "text": [
      "8\n"
     ]
    },
    {
     "output_type": "execute_result",
     "data": {
      "text/plain": [
       "int"
      ]
     },
     "metadata": {},
     "execution_count": 10
    }
   ],
   "source": [
    "debut_reserv = res_mail[0][3]\n",
    "debut_reserv = int(debut_reserv)\n",
    "print(debut_reserv)\n",
    "type(debut_reserv)"
   ]
  },
  {
   "cell_type": "code",
   "execution_count": 11,
   "metadata": {},
   "outputs": [
    {
     "output_type": "stream",
     "name": "stdout",
     "text": [
      "10\n"
     ]
    },
    {
     "output_type": "execute_result",
     "data": {
      "text/plain": [
       "int"
      ]
     },
     "metadata": {},
     "execution_count": 11
    }
   ],
   "source": [
    "fin_reserv = res_mail[0][4]\n",
    "fin_reserv = int(fin_reserv)\n",
    "print(fin_reserv)\n",
    "type(fin_reserv)"
   ]
  },
  {
   "cell_type": "code",
   "execution_count": 12,
   "metadata": {},
   "outputs": [
    {
     "output_type": "stream",
     "name": "stdout",
     "text": [
      "2\n"
     ]
    },
    {
     "output_type": "execute_result",
     "data": {
      "text/plain": [
       "int"
      ]
     },
     "metadata": {},
     "execution_count": 12
    }
   ],
   "source": [
    "time_reserv = fin_reserv - debut_reserv\n",
    "print(time_reserv)\n",
    "type(time_reserv)"
   ]
  },
  {
   "cell_type": "code",
   "execution_count": 13,
   "metadata": {},
   "outputs": [
    {
     "output_type": "stream",
     "name": "stdout",
     "text": [
      "2020-01-17\n"
     ]
    }
   ],
   "source": [
    "### parti date\n",
    "## pip install dateparser\n",
    "import dateparser\n",
    "import datetime\n",
    "\n",
    "day_reserv\n",
    "month_reserv\n",
    "date_reserv = day_reserv + \" \" + month_reserv\n",
    "date_reserv = dateparser.parse(date_reserv)\n",
    "now = datetime.datetime.now()\n",
    "\n",
    "if date_reserv <= now:\n",
    "    now_year = now.year + 1\n",
    "else:\n",
    "    now.year\n",
    "\n",
    "date_reserv = str(date_reserv)\n",
    "date_reserv = date_reserv[5:10]\n",
    "date_reserv = str(now.year) + ' ' + date_reserv\n",
    "date_reserv = dateparser.parse(date_reserv)\n",
    "date_reserv = date_reserv.date()\n",
    "\n",
    "print(date_reserv)"
   ]
  },
  {
   "cell_type": "code",
   "execution_count": 137,
   "metadata": {},
   "outputs": [
    {
     "output_type": "execute_result",
     "data": {
      "text/plain": [
       "datetime.date"
      ]
     },
     "metadata": {},
     "execution_count": 137
    }
   ],
   "source": [
    "type(date_reserv)"
   ]
  },
  {
   "cell_type": "code",
   "execution_count": 131,
   "metadata": {},
   "outputs": [
    {
     "output_type": "stream",
     "name": "stdout",
     "text": [
      "2020-01-17 00:00:00\n2020-12-18 12:40:55.720416\n2021\n2020-01-17 00:00:00\n01-17\n2020 01-17\n2020-01-17\n"
     ]
    }
   ],
   "source": [
    "day_reserv\n",
    "month_reserv\n",
    "date_reserv = day_reserv + \" \" + month_reserv\n",
    "date_reserv = dateparser.parse(date_reserv)\n",
    "print(date_reserv)\n",
    "now = datetime.datetime.now()\n",
    "print(now)\n",
    "if date_reserv <= now:\n",
    "    now_year = now.year + 1\n",
    "else:\n",
    "    now.year\n",
    "\n",
    "print(now_year)\n",
    "\n",
    "date_reserv = str(date_reserv)\n",
    "print(date_reserv)\n",
    "\n",
    "date_reserv = date_reserv[5:10]\n",
    "print(date_reserv)\n",
    "\n",
    "\n",
    "date_reserv = str(now.year) + ' ' + date_reserv\n",
    "print(date_reserv)\n",
    "\n",
    "date_reserv = dateparser.parse(date_reserv)\n",
    "\n",
    "date_reserv = date_reserv.date()\n",
    "print(date_reserv)"
   ]
  },
  {
   "cell_type": "code",
   "execution_count": null,
   "metadata": {},
   "outputs": [],
   "source": []
  },
  {
   "cell_type": "code",
   "execution_count": 141,
   "metadata": {},
   "outputs": [
    {
     "output_type": "stream",
     "name": "stdout",
     "text": [
      "736\n"
     ]
    },
    {
     "output_type": "execute_result",
     "data": {
      "text/plain": [
       "str"
      ]
     },
     "metadata": {},
     "execution_count": 141
    }
   ],
   "source": [
    "print(num_salle_reserv)\n",
    "type(num_salle_reserv)"
   ]
  },
  {
   "cell_type": "code",
   "execution_count": 142,
   "metadata": {},
   "outputs": [
    {
     "output_type": "stream",
     "name": "stdout",
     "text": [
      "2020-01-17\n"
     ]
    },
    {
     "output_type": "execute_result",
     "data": {
      "text/plain": [
       "datetime.date"
      ]
     },
     "metadata": {},
     "execution_count": 142
    }
   ],
   "source": [
    "print(date_reserv)\n",
    "type(date_reserv)"
   ]
  },
  {
   "cell_type": "code",
   "execution_count": 143,
   "metadata": {},
   "outputs": [
    {
     "output_type": "stream",
     "name": "stdout",
     "text": [
      "8\n"
     ]
    },
    {
     "output_type": "execute_result",
     "data": {
      "text/plain": [
       "int"
      ]
     },
     "metadata": {},
     "execution_count": 143
    }
   ],
   "source": [
    "print(debut_reserv)\n",
    "type(debut_reserv)"
   ]
  },
  {
   "cell_type": "code",
   "execution_count": 144,
   "metadata": {},
   "outputs": [
    {
     "output_type": "stream",
     "name": "stdout",
     "text": [
      "10\n"
     ]
    },
    {
     "output_type": "execute_result",
     "data": {
      "text/plain": [
       "int"
      ]
     },
     "metadata": {},
     "execution_count": 144
    }
   ],
   "source": [
    "print(fin_reserv)\n",
    "type(fin_reserv)"
   ]
  },
  {
   "cell_type": "code",
   "execution_count": 145,
   "metadata": {},
   "outputs": [
    {
     "output_type": "stream",
     "name": "stdout",
     "text": [
      "2\n"
     ]
    },
    {
     "output_type": "execute_result",
     "data": {
      "text/plain": [
       "int"
      ]
     },
     "metadata": {},
     "execution_count": 145
    }
   ],
   "source": [
    "print(time_reserv)\n",
    "type(time_reserv)"
   ]
  },
  {
   "cell_type": "code",
   "execution_count": null,
   "metadata": {},
   "outputs": [],
   "source": [
    "  # méthode insertion permet d'effectuer des requêtes SQL pour inserer des données dans les tables\n",
    "    def inserer(self):\n",
    "\n",
    "        \n",
    "        parameterIn = \"SAMYSPORT2023\"\n",
    "        \n",
    "        try:\n",
    "            cursor = connection.cursor()\n",
    "            query_insert = cursor.callproc(\"PI_SALLE_SIMPLE\", [parameterIn])\n",
    "            self.query_insert = query_insert\n",
    "            # fetch result parameters\n",
    "            results = list(cursor.fetchall())\n",
    "            cursor.close()\n",
    "            connection.commit()\n",
    "        finally:\n",
    "            connection.close() \n",
    "        # assignation de la requete d'insertion dans un self.query_insert\n",
    "           "
   ]
  },
  {
   "source": [
    "## INSERTION DANS MAIL"
   ],
   "cell_type": "markdown",
   "metadata": {}
  },
  {
   "cell_type": "code",
   "execution_count": 19,
   "metadata": {},
   "outputs": [],
   "source": [
    "import json\n",
    "## import de la librairie sqlalchemy pour crée la connexion entre python et la database\n",
    "from sqlalchemy import create_engine\n",
    "#import de la librairie pandas pour lire les information de la database sous forme de dataframe \n",
    "import pandas as pd\n",
    "\n",
    "\n",
    "# assignation de la config.json à fichierConfig\n",
    "fichierConfig = \"config.json\"\n",
    "# ouverture et chargement des donnée contenu dans fichierConfig\n",
    "with open(fichierConfig) as fichier:\n",
    "    config = json.load(fichier)[\"mysql\"]\n",
    "\n",
    "\n",
    "\n",
    "# assignation de de la connexion par create_engine avec les éléement de connexion + les info du fichierConfig à engine\n",
    "# en dehors de la class car cet élémeent ne change pas\n",
    "engine = create_engine('mysql+' + config[\"connector\"] + '://' + config[\"user\"] + \":\" + config[\"password\"] + \"@\" + config[\"host\"] + \":\" + config[\"port\"] + \"/\" + config[\"bdd\"], echo=False)\n",
    "connection = engine.raw_connection()\n",
    "\n",
    "parameterIn0 = 27\n",
    "\n",
    "\n",
    "parameterIn1 = mail\n",
    "\n",
    "from datetime import datetime\n",
    "# datetime object containing current date and time\n",
    "now = datetime.now()\n",
    "# dd/mm/YY H:M:S\n",
    "now = now.strftime(\"%Y-%m-%d %H:%M:%S\")\n",
    "\n",
    "parameterIn2 = now\n",
    "parameterIn3 = 32\n",
    "       \n",
    "\n",
    "\n",
    "cursor = connection.cursor()\n",
    "query_insert = cursor.callproc(\"PI_MAIL_SIMPLE\", [parameterIn1,parameterIn3],)\n",
    "query_insert = query_insert\n",
    "# fetch result parameters\n",
    "results = list(cursor.fetchall())\n",
    "cursor.close()\n",
    "connection.commit()\n",
    "connection.close()"
   ]
  },
  {
   "cell_type": "code",
   "execution_count": 185,
   "metadata": {},
   "outputs": [],
   "source": [
    "from datetime import datetime\n",
    "# datetime object containing current date and time\n",
    "now = datetime.now()\n",
    "# dd/mm/YY H:M:S\n",
    "now = now.strftime(\"%Y-%m-%d %H:%M:%S\")"
   ]
  },
  {
   "cell_type": "code",
   "execution_count": 186,
   "metadata": {},
   "outputs": [
    {
     "output_type": "stream",
     "name": "stdout",
     "text": [
      "2020-12-18 14:21:55\n"
     ]
    }
   ],
   "source": [
    "print(now)"
   ]
  },
  {
   "source": [
    "## INSERTION DANS RESERVATION"
   ],
   "cell_type": "markdown",
   "metadata": {}
  },
  {
   "cell_type": "code",
   "execution_count": null,
   "metadata": {},
   "outputs": [],
   "source": [
    "import json\n",
    "## import de la librairie sqlalchemy pour crée la connexion entre python et la database\n",
    "from sqlalchemy import create_engine\n",
    "#import de la librairie pandas pour lire les information de la database sous forme de dataframe \n",
    "import pandas as pd\n",
    "\n",
    "\n",
    "# assignation de la config.json à fichierConfig\n",
    "fichierConfig = \"config.json\"\n",
    "# ouverture et chargement des donnée contenu dans fichierConfig\n",
    "with open(fichierConfig) as fichier:\n",
    "    config = json.load(fichier)[\"mysql\"]\n",
    "\n",
    "\n",
    "\n",
    "# assignation de de la connexion par create_engine avec les éléement de connexion + les info du fichierConfig à engine\n",
    "# en dehors de la class car cet élémeent ne change pas\n",
    "engine = create_engine('mysql+' + config[\"connector\"] + '://' + config[\"user\"] + \":\" + config[\"password\"] + \"@\" + config[\"host\"] + \":\" + config[\"port\"] + \"/\" + config[\"bdd\"], echo=False)\n",
    "connection = engine.raw_connection()\n",
    "\n",
    "\n",
    "cursor = connection.cursor()\n",
    "query_insert = cursor.execute('SELECT in_mdp FROM INFORMATION WHERE in_mail = %s' , (email,))\n",
    "query_insert = query_insert\n",
    "# fetch result parameters\n",
    "results = list(cursor.fetchall())\n",
    "cursor.close()\n",
    "connection.commit()\n",
    "connection.close()"
   ]
  }
 ]
}