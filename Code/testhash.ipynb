{
 "metadata": {
  "language_info": {
   "codemirror_mode": {
    "name": "ipython",
    "version": 3
   },
   "file_extension": ".py",
   "mimetype": "text/x-python",
   "name": "python",
   "nbconvert_exporter": "python",
   "pygments_lexer": "ipython3",
   "version": "3.8.5-final"
  },
  "orig_nbformat": 2,
  "kernelspec": {
   "name": "python3",
   "display_name": "Python 3",
   "language": "python"
  }
 },
 "nbformat": 4,
 "nbformat_minor": 2,
 "cells": [
  {
   "cell_type": "code",
   "execution_count": 6,
   "metadata": {},
   "outputs": [],
   "source": [
    "from werkzeug.security import generate_password_hash, check_password_hash"
   ]
  },
  {
   "cell_type": "code",
   "execution_count": 21,
   "metadata": {},
   "outputs": [
    {
     "output_type": "stream",
     "name": "stdout",
     "text": [
      "pbkdf2:sha256:150000$dbWyeeH2$8dfd1d0f7fcc54e5b5dce5e91e94807468929066f2101658bd57a7f741579026\n"
     ]
    }
   ],
   "source": [
    "mdp = generate_password_hash('AZERTY')\n",
    "print(mdp)"
   ]
  },
  {
   "cell_type": "code",
   "execution_count": 26,
   "metadata": {},
   "outputs": [
    {
     "output_type": "stream",
     "name": "stdout",
     "text": [
      "pbkdf2:sha256:150000$KzHmjmYl$0edc041fb293342bc04244edb9ec1326738bfaf4a5e2ee9a90c809f4b2ca75b9\n"
     ]
    }
   ],
   "source": [
    "mdp1 = generate_password_hash('AZERTY')\n",
    "print(mdp1)"
   ]
  },
  {
   "cell_type": "code",
   "execution_count": 31,
   "metadata": {},
   "outputs": [
    {
     "output_type": "stream",
     "name": "stdout",
     "text": [
      "False\n"
     ]
    }
   ],
   "source": [
    "print(check_password_hash(\"pbkdf2:sha256:150000$dbWyeeH2$8dfd1d0f7fcc54e5b5dce5e91e94807468929066f2101658bd57a7f741579026\", mdp))\n"
   ]
  },
  {
   "cell_type": "code",
   "execution_count": 32,
   "metadata": {},
   "outputs": [
    {
     "output_type": "execute_result",
     "data": {
      "text/plain": [
       "'pbkdf2:sha256:150000$WR0eaQUa$8a54331dcb35bc0e79fece8e89f2540bd1b2fd3edfb5f407659ef2f01124b608'"
      ]
     },
     "metadata": {},
     "execution_count": 32
    }
   ],
   "source": [
    "a = \"test\"\n",
    "generate_password_hash(a)"
   ]
  },
  {
   "cell_type": "code",
   "execution_count": 33,
   "metadata": {},
   "outputs": [
    {
     "output_type": "execute_result",
     "data": {
      "text/plain": [
       "str"
      ]
     },
     "metadata": {},
     "execution_count": 33
    }
   ],
   "source": [
    "type(generate_password_hash(a))"
   ]
  },
  {
   "cell_type": "code",
   "execution_count": 39,
   "metadata": {},
   "outputs": [
    {
     "output_type": "stream",
     "name": "stdout",
     "text": [
      "pbkdf2:sha256:150000$wmyGrJBT$54962579f38fa3af02a42a7c0cdf39ed1141d22445bfdd4d5ed1df5a88add2cd\n"
     ]
    }
   ],
   "source": [
    "a = \"AZERTY\"\n",
    "mdp1 = generate_password_hash(a)\n",
    "print(mdp1)"
   ]
  },
  {
   "cell_type": "code",
   "execution_count": 40,
   "metadata": {},
   "outputs": [
    {
     "output_type": "execute_result",
     "data": {
      "text/plain": [
       "True"
      ]
     },
     "metadata": {},
     "execution_count": 40
    }
   ],
   "source": [
    "check_password_hash(mdp1, a)"
   ]
  },
  {
   "cell_type": "code",
   "execution_count": 42,
   "metadata": {},
   "outputs": [
    {
     "output_type": "stream",
     "name": "stdout",
     "text": [
      "OK\n"
     ]
    }
   ],
   "source": [
    "if check_password_hash(mdp1, a) == True:\n",
    "    print('OK')"
   ]
  },
  {
   "cell_type": "code",
   "execution_count": 47,
   "metadata": {},
   "outputs": [],
   "source": [
    "from flask import Flask, render_template, request, redirect, url_for, session\n",
    "from flask_mysqldb import MySQL\n",
    "import MySQLdb.cursors\n",
    "import re\n",
    "# import de la librairie json pour lire le fichier de config contenant les information de connexion\n",
    "import json\n",
    "## import de la librairie sqlalchemy pour crée la connexion entre python et la database\n",
    "from sqlalchemy import create_engine\n",
    "#import de la librairie pandas pour lire les information de la database sous forme de dataframe \n",
    "import pandas as pd\n",
    "# import de la librairie json pour lire le fichier de config contenant les information de connexion\n",
    "import json\n",
    "import hashlib\n",
    "from werkzeug.security import generate_password_hash, check_password_hash\n",
    "\n",
    "\n",
    "\n",
    "# assignation de la config.json à fichierConfig\n",
    "fichierConfig = \"config.json\"\n",
    "# ouverture et chargement des donnée contenu dans fichierConfig\n",
    "with open(fichierConfig) as fichier:\n",
    "    config = json.load(fichier)[\"mysql\"]\n",
    "\n",
    "\n",
    "\n",
    "# assignation de de la connexion par create_engine avec les éléement de connexion + les info du fichierConfig à engine\n",
    "# en dehors de la class car cet élémeent ne change pas\n",
    "engine = create_engine('mysql+' + config[\"connector\"] + '://' + config[\"user\"] + \":\" + config[\"password\"] + \"@\" + config[\"host\"] + \":\" + config[\"port\"] + \"/\" + config[\"bdd\"], echo=False)\n",
    "connection = engine.raw_connection()\n",
    "\n",
    "cursor = connection.cursor()\n",
    "cursor.execute('SELECT in_mdp FROM INFORMATION WHERE in_mail = %s', (\"max.test@gmail.com\",))\n",
    "account = cursor.fetchone()"
   ]
  },
  {
   "cell_type": "code",
   "execution_count": 49,
   "metadata": {},
   "outputs": [
    {
     "output_type": "stream",
     "name": "stdout",
     "text": [
      "pbkdf2:sha256:150000$4eXX2ukj$9b1f1b9ab7601b3cf82e6efec18956c45e3b7aa81451ceb4a14099415d94c473\n"
     ]
    }
   ],
   "source": [
    "print(account[0])"
   ]
  },
  {
   "cell_type": "code",
   "execution_count": null,
   "metadata": {},
   "outputs": [],
   "source": []
  }
 ]
}