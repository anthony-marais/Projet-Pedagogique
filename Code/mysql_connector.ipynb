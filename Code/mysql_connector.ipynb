{
 "metadata": {
  "language_info": {
   "codemirror_mode": {
    "name": "ipython",
    "version": 3
   },
   "file_extension": ".py",
   "mimetype": "text/x-python",
   "name": "python",
   "nbconvert_exporter": "python",
   "pygments_lexer": "ipython3",
   "version": "3.8.5-final"
  },
  "orig_nbformat": 2,
  "kernelspec": {
   "name": "python3",
   "display_name": "Python 3",
   "language": "python"
  }
 },
 "nbformat": 4,
 "nbformat_minor": 2,
 "cells": [
  {
   "cell_type": "code",
   "execution_count": 4,
   "metadata": {},
   "outputs": [
    {
     "output_type": "error",
     "ename": "InternalError",
     "evalue": "Unread result found",
     "traceback": [
      "\u001b[0;31m---------------------------------------------------------------------------\u001b[0m",
      "\u001b[0;31mInternalError\u001b[0m                             Traceback (most recent call last)",
      "\u001b[0;32m<ipython-input-4-1e7e8d8517f3>\u001b[0m in \u001b[0;36m<module>\u001b[0;34m\u001b[0m\n\u001b[1;32m     21\u001b[0m \u001b[0mcursor\u001b[0m\u001b[0;34m.\u001b[0m\u001b[0mexecute\u001b[0m\u001b[0;34m(\u001b[0m\u001b[0mquery\u001b[0m\u001b[0;34m)\u001b[0m\u001b[0;34m\u001b[0m\u001b[0;34m\u001b[0m\u001b[0m\n\u001b[1;32m     22\u001b[0m \u001b[0mresult\u001b[0m \u001b[0;34m=\u001b[0m \u001b[0mcursor\u001b[0m\u001b[0;34m.\u001b[0m\u001b[0mfetchall\u001b[0m\u001b[0;34m\u001b[0m\u001b[0;34m\u001b[0m\u001b[0m\n\u001b[0;32m---> 23\u001b[0;31m \u001b[0mcursor\u001b[0m\u001b[0;34m.\u001b[0m\u001b[0mclose\u001b[0m\u001b[0;34m(\u001b[0m\u001b[0;34m)\u001b[0m\u001b[0;34m\u001b[0m\u001b[0;34m\u001b[0m\u001b[0m\n\u001b[0m\u001b[1;32m     24\u001b[0m \u001b[0mconnection\u001b[0m\u001b[0;34m.\u001b[0m\u001b[0mclose\u001b[0m\u001b[0;34m(\u001b[0m\u001b[0;34m)\u001b[0m\u001b[0;34m\u001b[0m\u001b[0;34m\u001b[0m\u001b[0m\n\u001b[1;32m     25\u001b[0m \u001b[0mprint\u001b[0m\u001b[0;34m(\u001b[0m\u001b[0mresult\u001b[0m\u001b[0;34m)\u001b[0m\u001b[0;34m\u001b[0m\u001b[0;34m\u001b[0m\u001b[0m\n",
      "\u001b[0;32m~/anaconda3/lib/python3.8/site-packages/mysql/connector/cursor_cext.py\u001b[0m in \u001b[0;36mclose\u001b[0;34m(self)\u001b[0m\n\u001b[1;32m    400\u001b[0m             \u001b[0;32mreturn\u001b[0m \u001b[0;32mFalse\u001b[0m\u001b[0;34m\u001b[0m\u001b[0;34m\u001b[0m\u001b[0m\n\u001b[1;32m    401\u001b[0m \u001b[0;34m\u001b[0m\u001b[0m\n\u001b[0;32m--> 402\u001b[0;31m         \u001b[0mself\u001b[0m\u001b[0;34m.\u001b[0m\u001b[0m_cnx\u001b[0m\u001b[0;34m.\u001b[0m\u001b[0mhandle_unread_result\u001b[0m\u001b[0;34m(\u001b[0m\u001b[0;34m)\u001b[0m\u001b[0;34m\u001b[0m\u001b[0;34m\u001b[0m\u001b[0m\n\u001b[0m\u001b[1;32m    403\u001b[0m         \u001b[0mself\u001b[0m\u001b[0;34m.\u001b[0m\u001b[0m_warnings\u001b[0m \u001b[0;34m=\u001b[0m \u001b[0;32mNone\u001b[0m\u001b[0;34m\u001b[0m\u001b[0;34m\u001b[0m\u001b[0m\n\u001b[1;32m    404\u001b[0m         \u001b[0mself\u001b[0m\u001b[0;34m.\u001b[0m\u001b[0m_cnx\u001b[0m \u001b[0;34m=\u001b[0m \u001b[0;32mNone\u001b[0m\u001b[0;34m\u001b[0m\u001b[0;34m\u001b[0m\u001b[0m\n",
      "\u001b[0;32m~/anaconda3/lib/python3.8/site-packages/mysql/connector/connection_cext.py\u001b[0m in \u001b[0;36mhandle_unread_result\u001b[0;34m(self, prepared)\u001b[0m\n\u001b[1;32m    744\u001b[0m             \u001b[0mself\u001b[0m\u001b[0;34m.\u001b[0m\u001b[0mconsume_results\u001b[0m\u001b[0;34m(\u001b[0m\u001b[0;34m)\u001b[0m\u001b[0;34m\u001b[0m\u001b[0;34m\u001b[0m\u001b[0m\n\u001b[1;32m    745\u001b[0m         \u001b[0;32melif\u001b[0m \u001b[0munread_result\u001b[0m\u001b[0;34m:\u001b[0m\u001b[0;34m\u001b[0m\u001b[0;34m\u001b[0m\u001b[0m\n\u001b[0;32m--> 746\u001b[0;31m             \u001b[0;32mraise\u001b[0m \u001b[0merrors\u001b[0m\u001b[0;34m.\u001b[0m\u001b[0mInternalError\u001b[0m\u001b[0;34m(\u001b[0m\u001b[0;34m\"Unread result found\"\u001b[0m\u001b[0;34m)\u001b[0m\u001b[0;34m\u001b[0m\u001b[0;34m\u001b[0m\u001b[0m\n\u001b[0m\u001b[1;32m    747\u001b[0m \u001b[0;34m\u001b[0m\u001b[0m\n\u001b[1;32m    748\u001b[0m     \u001b[0;32mdef\u001b[0m \u001b[0mreset_session\u001b[0m\u001b[0;34m(\u001b[0m\u001b[0mself\u001b[0m\u001b[0;34m,\u001b[0m \u001b[0muser_variables\u001b[0m\u001b[0;34m=\u001b[0m\u001b[0;32mNone\u001b[0m\u001b[0;34m,\u001b[0m \u001b[0msession_variables\u001b[0m\u001b[0;34m=\u001b[0m\u001b[0;32mNone\u001b[0m\u001b[0;34m)\u001b[0m\u001b[0;34m:\u001b[0m\u001b[0;34m\u001b[0m\u001b[0;34m\u001b[0m\u001b[0m\n",
      "\u001b[0;31mInternalError\u001b[0m: Unread result found"
     ]
    }
   ],
   "source": [
    "import pandas as pd\n",
    "import json\n",
    "## installation de # pip3 install mysql-connector-python\n",
    "import mysql.connector\n",
    "from mysql.connector import Error\n",
    "\n",
    "fichierConfig = \"config.json\"\n",
    "with open(fichierConfig) as fichier:\n",
    "    config = json.load(fichier)[\"mysql\"]\n",
    "\n",
    "\n",
    "\n",
    "connection = mysql.connector.connect(host=config[\"host\"],database = config[\"bdd\"],user=config[\"user\"],password=config[\"password\"])\n",
    "\n",
    "\n",
    "cursor = connection.cursor()\n",
    "# 0 is to hold value of the OUT parameter sum\n",
    "query = (\"SELECT * FROM SALLE\")\n",
    "\n",
    "\n",
    "cursor.execute(query)\n",
    "result = cursor.fetchall\n",
    "cursor.close()\n",
    "connection.close()\n",
    "print(result)"
   ]
  },
  {
   "cell_type": "code",
   "execution_count": null,
   "metadata": {},
   "outputs": [],
   "source": [
    "cursor = connection.cursor()\n",
    "args = (1,\"MARQEILLE\") # 0 is to hold value of the OUT parameter sum\n",
    "cursor.callproc(\"PU_SALLE\", args)"
   ]
  },
  {
   "cell_type": "code",
   "execution_count": 27,
   "metadata": {},
   "outputs": [],
   "source": [
    "import mysql.connector\n",
    "import sys\n",
    "import pandas as pd\n",
    "import json\n",
    "## installation de # pip3 install mysql-connector-python\n",
    "import mysql.connector\n",
    "from mysql.connector import Error\n",
    "\n",
    "fichierConfig = \"config.json\"\n",
    "with open(fichierConfig) as fichier:\n",
    "    config = json.load(fichier)[\"mysql\"]\n",
    "\n",
    "\n",
    "\n",
    "\n",
    "\n",
    "\n",
    "\n",
    "conn = mysql.connector.connect(host=config[\"host\"],database = config[\"bdd\"],user=config[\"user\"],password=config[\"password\"])\n",
    "cursor = conn.cursor()\n",
    "parameter = \"testconnectorTEST\"\n",
    "cursor.callproc(\"PI_SALLE_SIMPLE\",[parameter,])\n",
    "cursor.close()\n",
    "conn.commit()\n",
    "conn.close()"
   ]
  },
  {
   "cell_type": "code",
   "execution_count": 3,
   "metadata": {},
   "outputs": [],
   "source": [
    "import mysql.connector\n",
    "import sys\n",
    "import pandas as pd\n",
    "import json\n",
    "## installation de # pip3 install mysql-connector-python\n",
    "import mysql.connector\n",
    "from mysql.connector import Error\n",
    "\n",
    "fichierConfig = \"config.json\"\n",
    "with open(fichierConfig) as fichier:\n",
    "    config = json.load(fichier)[\"mysql\"]\n",
    "\n",
    "\n",
    "\n",
    "\n",
    "\n",
    "\n",
    "\n",
    "conn = mysql.connector.connect(host=config[\"host\"],database = config[\"bdd\"],user=config[\"user\"],password=config[\"password\"])\n",
    "cursor = conn.cursor()\n",
    "\n",
    "parameter_date_reserv = \"2021-01-17\"\n",
    "parameter_debut_reserv = 8\n",
    "parameter_fin_reserv = 10\n",
    "parameter_time_reserv = 2\n",
    "parameter_id_salle = 138             \n",
    "parameter_ma_id = 26           \n",
    "cursor.callproc(\"PI_RES_SIMPLE\",[parameter_date_reserv, parameter_debut_reserv, parameter_fin_reserv, parameter_time_reserv, parameter_id_salle, parameter_ma_id,])\n",
    "\n",
    "\n",
    "\n",
    "cursor.close()\n",
    "conn.commit()\n",
    "conn.close()"
   ]
  },
  {
   "cell_type": "code",
   "execution_count": 30,
   "metadata": {},
   "outputs": [],
   "source": [
    "import mysql.connector\n",
    "import sys\n",
    "import pandas as pd\n",
    "import json\n",
    "## installation de # pip3 install mysql-connector-python\n",
    "import mysql.connector\n",
    "from mysql.connector import Error\n",
    "\n",
    "fichierConfig = \"config.json\"\n",
    "with open(fichierConfig) as fichier:\n",
    "    config = json.load(fichier)[\"mysql\"]\n",
    "\n",
    "\n",
    "\n",
    "\n",
    "\n",
    "\n",
    "\n",
    "conn = mysql.connector.connect(host=config[\"host\"],database = config[\"bdd\"],user=config[\"user\"],password=config[\"password\"])\n",
    "\n",
    "\n",
    "cursor = conn.cursor()\n",
    "cursor.execute('SELECT res_date, res_heure_arrive, res_heure_depart, S.sa_name FROM RESERVATION R INNER JOIN SALLE S ON S.sa_id=R.sa_id WHERE S.sa_name=%s AND R.res_date=%s AND %s BETWEEN R.res_heure_arrive AND R.res_heure_depart OR %s BETWEEN R.res_heure_arrive AND R.res_heure_depart;', (736,\"2021-01-17\",8,10,))\n",
    "resa_db = cursor.fetchone()"
   ]
  },
  {
   "cell_type": "code",
   "execution_count": 31,
   "metadata": {},
   "outputs": [
    {
     "output_type": "stream",
     "name": "stdout",
     "text": [
      "(datetime.date(2021, 1, 17), 8, 10, '736')\n"
     ]
    }
   ],
   "source": [
    "print(resa_db)"
   ]
  },
  {
   "cell_type": "code",
   "execution_count": null,
   "metadata": {},
   "outputs": [],
   "source": [
    "cursor = conn.cursor()\n",
    "cursor.execute(\"\"\"SELECT * FROM SALLE  \"\"\") \n",
    "rows = cursor.fetchone() \n",
    "print(rows)\n",
    "\n",
    "if conn:\n",
    "    conn.close()"
   ]
  }
 ]
}