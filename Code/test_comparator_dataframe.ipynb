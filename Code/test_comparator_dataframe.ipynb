{
 "metadata": {
  "language_info": {
   "codemirror_mode": {
    "name": "ipython",
    "version": 3
   },
   "file_extension": ".py",
   "mimetype": "text/x-python",
   "name": "python",
   "nbconvert_exporter": "python",
   "pygments_lexer": "ipython3",
   "version": "3.8.5-final"
  },
  "orig_nbformat": 2,
  "kernelspec": {
   "name": "python3",
   "display_name": "Python 3",
   "language": "python"
  }
 },
 "nbformat": 4,
 "nbformat_minor": 2,
 "cells": [
  {
   "cell_type": "code",
   "execution_count": 9,
   "metadata": {},
   "outputs": [
    {
     "output_type": "error",
     "ename": "SyntaxError",
     "evalue": "invalid syntax (<ipython-input-9-cea6bc8f87b7>, line 10)",
     "traceback": [
      "\u001b[0;36m  File \u001b[0;32m\"<ipython-input-9-cea6bc8f87b7>\"\u001b[0;36m, line \u001b[0;32m10\u001b[0m\n\u001b[0;31m    resa_enregistrer = {'Reservation_ENREGISTRER': ['num_salle','res_date','res_heure_debut','res_heure_fin': [\"720\",\"2020-01-17\",10,12]\u001b[0m\n\u001b[0m                                                                                                            ^\u001b[0m\n\u001b[0;31mSyntaxError\u001b[0m\u001b[0;31m:\u001b[0m invalid syntax\n"
     ]
    }
   ],
   "source": [
    "import pandas as pd\n",
    "import numpy as np\n",
    "\n",
    "resa_demander = {'Reservation': ['num_salle','res_date','res_heure_debut','res_heure_fin'],\n",
    "                   'RESA_DEMANDER': [\"720\",\"2020-01-17\",10,12]\n",
    "                   }\n",
    "df1 = pd.DataFrame(resa_demander,columns= ['Product1', 'Price1'])\n",
    "\n",
    "\n",
    "resa_enregistrer = {'Reservation_ENREGISTRER': ['num_salle','res_date','res_heure_debut','res_heure_fin': [\"720\",\"2020-01-17\",10,12]\n",
    "                    }\n",
    "df2 = pd.DataFrame(resa_enregistrer,columns= ['Product2', 'Price2'])\n",
    "\n",
    "\n",
    "df1['Price2'] = df2['Price2'] #add the Price2 column from df2 to df1\n",
    "\n",
    "df1['pricesMatch?'] = np.where(df1['Price1'] == df2['Price2'], 'True', 'False')  #create new column in df1 to check if prices match\n",
    "\n",
    "df1['priceDiff?'] = np.where(df1['Price1'] == df2['Price2'], 0, df1['Price1'] - df2['Price2'])\n",
    "\n",
    "\n",
    "print (df1)"
   ]
  },
  {
   "cell_type": "code",
   "execution_count": 24,
   "metadata": {},
   "outputs": [
    {
     "output_type": "error",
     "ename": "NameError",
     "evalue": "name 'voiture' is not defined",
     "traceback": [
      "\u001b[0;31m---------------------------------------------------------------------------\u001b[0m",
      "\u001b[0;31mNameError\u001b[0m                                 Traceback (most recent call last)",
      "\u001b[0;32m<ipython-input-24-d9c266046339>\u001b[0m in \u001b[0;36m<module>\u001b[0;34m\u001b[0m\n\u001b[1;32m      3\u001b[0m \u001b[0;34m\u001b[0m\u001b[0m\n\u001b[1;32m      4\u001b[0m firstProductSet = {'COLONNE_RESERVATION': ['num_salle','res_date','res_heure_debut','res_heure_fin'],\n\u001b[0;32m----> 5\u001b[0;31m                    \u001b[0;34m'Price1'\u001b[0m\u001b[0;34m:\u001b[0m \u001b[0;34m[\u001b[0m\u001b[0mstr\u001b[0m\u001b[0;34m(\u001b[0m\u001b[0mvoiture\u001b[0m\u001b[0;34m)\u001b[0m\u001b[0;34m,\u001b[0m\u001b[0;36m800\u001b[0m\u001b[0;34m,\u001b[0m\u001b[0;36m200\u001b[0m\u001b[0;34m,\u001b[0m\u001b[0;36m350\u001b[0m\u001b[0;34m]\u001b[0m\u001b[0;34m\u001b[0m\u001b[0;34m\u001b[0m\u001b[0m\n\u001b[0m\u001b[1;32m      6\u001b[0m                    }\n\u001b[1;32m      7\u001b[0m \u001b[0mdf1\u001b[0m \u001b[0;34m=\u001b[0m \u001b[0mpd\u001b[0m\u001b[0;34m.\u001b[0m\u001b[0mDataFrame\u001b[0m\u001b[0;34m(\u001b[0m\u001b[0mfirstProductSet\u001b[0m\u001b[0;34m,\u001b[0m\u001b[0mcolumns\u001b[0m\u001b[0;34m=\u001b[0m \u001b[0;34m[\u001b[0m\u001b[0;34m'COLONNE_RESERVATION'\u001b[0m\u001b[0;34m,\u001b[0m \u001b[0;34m'Price1'\u001b[0m\u001b[0;34m]\u001b[0m\u001b[0;34m)\u001b[0m\u001b[0;34m\u001b[0m\u001b[0;34m\u001b[0m\u001b[0m\n",
      "\u001b[0;31mNameError\u001b[0m: name 'voiture' is not defined"
     ]
    }
   ],
   "source": [
    "import pandas as pd\n",
    "import numpy as np\n",
    "\n",
    "firstProductSet = {'COLONNE_RESERVATION': ['num_salle','res_date','res_heure_debut','res_heure_fin'],\n",
    "                   'Price1': [str(voiture),800,200,350]\n",
    "                   }\n",
    "df1 = pd.DataFrame(firstProductSet,columns= ['COLONNE_RESERVATION', 'Price1'])\n",
    "\n",
    "\n",
    "\n",
    "\n",
    "\n",
    "\n",
    "secondProductSet = {'Product2': ['num_salle','res_date','res_heure_debut','res_heure_fin'],\n",
    "                    'Price2': [str(voiture),800,300,350]\n",
    "                    }\n",
    "df2 = pd.DataFrame(secondProductSet,columns= ['Product2', 'Price2'])\n",
    "\n",
    "\n",
    "\n",
    "\n",
    "\n",
    "\n",
    "\n",
    "\n",
    "\n",
    "\n",
    "df1['Price2'] = df2['Price2'] #add the Price2 column from df2 to df1\n",
    "\n",
    "df1['pricesMatch?'] = np.where(df1['Price1'] == df2['Price2'], 'True', 'False')  #create new column in df1 to check if prices match\n",
    "df1['priceDiff?'] = np.where(df1['Price1'] == df2['Price2'], 0, df1['Price1'] - df2['Price2']) #create new column in df1 for price diff \n",
    "print (df1)"
   ]
  },
  {
   "cell_type": "code",
   "execution_count": null,
   "metadata": {},
   "outputs": [],
   "source": []
  }
 ]
}