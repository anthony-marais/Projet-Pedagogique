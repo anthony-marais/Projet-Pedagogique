{
 "metadata": {
  "language_info": {
   "codemirror_mode": {
    "name": "ipython",
    "version": 3
   },
   "file_extension": ".py",
   "mimetype": "text/x-python",
   "name": "python",
   "nbconvert_exporter": "python",
   "pygments_lexer": "ipython3",
   "version": 3
  },
  "orig_nbformat": 2
 },
 "nbformat": 4,
 "nbformat_minor": 2,
 "cells": [
  {
   "cell_type": "code",
   "execution_count": 21,
   "metadata": {},
   "outputs": [],
   "source": [
    "import re\n",
    "import pandas as pd"
   ]
  },
  {
   "cell_type": "code",
   "execution_count": 26,
   "metadata": {},
   "outputs": [
    {
     "output_type": "execute_result",
     "data": {
      "text/plain": [
       "[('736', '17', 'janvier', '8', '10')]"
      ]
     },
     "metadata": {},
     "execution_count": 26
    }
   ],
   "source": [
    "mail_test = \"Salut, J’ai besoin de la salle 736 le 17 janvier entre 8 h et 10 h.\"\n",
    " ## query recuperer mail\n",
    "\n",
    "motif = \"[a-zA-Z]+\\s(\\d+)[^\\d]+([\\d]+)\\s*([a-zA-Z]+)[^\\d]+([\\d]+)[^\\d]+([\\d]+)\"\n",
    "res_mail = re.findall(motif,mail_test)\n",
    "res_mail\n",
    "\n",
    "## plus traitement ordre et format des données  "
   ]
  },
  {
   "cell_type": "code",
   "execution_count": 27,
   "metadata": {},
   "outputs": [
    {
     "output_type": "execute_result",
     "data": {
      "text/plain": [
       "  res_date res_heure_arrive res_heure_depart res_temps_reserver sa_id\n",
       "0      736               17          janvier                  8    10"
      ],
      "text/html": "<div>\n<style scoped>\n    .dataframe tbody tr th:only-of-type {\n        vertical-align: middle;\n    }\n\n    .dataframe tbody tr th {\n        vertical-align: top;\n    }\n\n    .dataframe thead th {\n        text-align: right;\n    }\n</style>\n<table border=\"1\" class=\"dataframe\">\n  <thead>\n    <tr style=\"text-align: right;\">\n      <th></th>\n      <th>res_date</th>\n      <th>res_heure_arrive</th>\n      <th>res_heure_depart</th>\n      <th>res_temps_reserver</th>\n      <th>sa_id</th>\n    </tr>\n  </thead>\n  <tbody>\n    <tr>\n      <th>0</th>\n      <td>736</td>\n      <td>17</td>\n      <td>janvier</td>\n      <td>8</td>\n      <td>10</td>\n    </tr>\n  </tbody>\n</table>\n</div>"
     },
     "metadata": {},
     "execution_count": 27
    }
   ],
   "source": [
    "## converti en dataframe\n",
    "\n",
    "data = pd.DataFrame(res_mail,columns = [ 'res_date' , 'res_heure_arrive' , 'res_heure_depart', 'res_temps_reserver', 'sa_id'] )\n",
    "data"
   ]
  },
  {
   "cell_type": "code",
   "execution_count": null,
   "metadata": {},
   "outputs": [],
   "source": [
    "# query pour recuperer les reservation \n",
    "\n",
    "## et comparer le dataframe de mail avec les reservation \n",
    "\n",
    "# et inserer si dispo sinon ne pas inserer + message erreur\n",
    "\n"
   ]
  },
  {
   "cell_type": "code",
   "execution_count": 28,
   "metadata": {},
   "outputs": [
    {
     "output_type": "execute_result",
     "data": {
      "text/plain": [
       "  res_date res_heure_arrive res_heure_depart res_temps_reserver sa_id\n",
       "0      736               17          janvier                  8    10"
      ],
      "text/html": "<div>\n<style scoped>\n    .dataframe tbody tr th:only-of-type {\n        vertical-align: middle;\n    }\n\n    .dataframe tbody tr th {\n        vertical-align: top;\n    }\n\n    .dataframe thead th {\n        text-align: right;\n    }\n</style>\n<table border=\"1\" class=\"dataframe\">\n  <thead>\n    <tr style=\"text-align: right;\">\n      <th></th>\n      <th>res_date</th>\n      <th>res_heure_arrive</th>\n      <th>res_heure_depart</th>\n      <th>res_temps_reserver</th>\n      <th>sa_id</th>\n    </tr>\n  </thead>\n  <tbody>\n    <tr>\n      <th>0</th>\n      <td>736</td>\n      <td>17</td>\n      <td>janvier</td>\n      <td>8</td>\n      <td>10</td>\n    </tr>\n  </tbody>\n</table>\n</div>"
     },
     "metadata": {},
     "execution_count": 28
    }
   ],
   "source": [
    "data2 = pd.DataFrame(res_mail,columns = [ 'res_date' , 'res_heure_arrive' , 'res_heure_depart', 'res_temps_reserver', 'sa_id'] )\n",
    "data2"
   ]
  },
  {
   "cell_type": "code",
   "execution_count": 32,
   "metadata": {},
   "outputs": [
    {
     "output_type": "execute_result",
     "data": {
      "text/plain": [
       "   res_date  res_heure_arrive  res_heure_depart  res_temps_reserver  sa_id\n",
       "0     False             False             False               False  False"
      ],
      "text/html": "<div>\n<style scoped>\n    .dataframe tbody tr th:only-of-type {\n        vertical-align: middle;\n    }\n\n    .dataframe tbody tr th {\n        vertical-align: top;\n    }\n\n    .dataframe thead th {\n        text-align: right;\n    }\n</style>\n<table border=\"1\" class=\"dataframe\">\n  <thead>\n    <tr style=\"text-align: right;\">\n      <th></th>\n      <th>res_date</th>\n      <th>res_heure_arrive</th>\n      <th>res_heure_depart</th>\n      <th>res_temps_reserver</th>\n      <th>sa_id</th>\n    </tr>\n  </thead>\n  <tbody>\n    <tr>\n      <th>0</th>\n      <td>False</td>\n      <td>False</td>\n      <td>False</td>\n      <td>False</td>\n      <td>False</td>\n    </tr>\n  </tbody>\n</table>\n</div>"
     },
     "metadata": {},
     "execution_count": 32
    }
   ],
   "source": [
    "data != data2"
   ]
  },
  {
   "cell_type": "code",
   "execution_count": null,
   "metadata": {},
   "outputs": [],
   "source": []
  }
 ]
}