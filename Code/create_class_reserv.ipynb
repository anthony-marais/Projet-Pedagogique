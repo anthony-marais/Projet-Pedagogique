{
 "metadata": {
  "language_info": {
   "codemirror_mode": {
    "name": "ipython",
    "version": 3
   },
   "file_extension": ".py",
   "mimetype": "text/x-python",
   "name": "python",
   "nbconvert_exporter": "python",
   "pygments_lexer": "ipython3",
   "version": "3.8.5-final"
  },
  "orig_nbformat": 2,
  "kernelspec": {
   "name": "python3",
   "display_name": "Python 3",
   "language": "python"
  }
 },
 "nbformat": 4,
 "nbformat_minor": 2,
 "cells": [
  {
   "cell_type": "code",
   "execution_count": null,
   "metadata": {},
   "outputs": [],
   "source": [
    "# connector de python à mysql\n",
    "import mysql.connector\n",
    "import json\n",
    "#**************************************************************************************CREATION DE LA CONNEXION SQLALCHEMY**********************************************************\n",
    "\n",
    "## IMPORT DU CONFIG.JSON\n",
    "# assignation de la config.json à fichierConfig\n",
    "fichierConfig = \"config.json\"\n",
    "# ouverture et chargement des donnée contenu dans fichierConfig\n",
    "with open(fichierConfig) as fichier:\n",
    "    config = json.load(fichier)[\"mysql\"]\n",
    "\n",
    "# assignation de de la connexion par create_engine avec les éléement de connexion + les info du fichierConfig à engine\n",
    "# en dehors de la class car cet élémeent ne change pas\n",
    "connection = mysql.connector.connect(host=config[\"host\"],database = config[\"bdd\"],user=config[\"user\"],password=config[\"password\"])\n",
    "cursor = connection.cursor(buffered=True)"
   ]
  },
  {
   "cell_type": "code",
   "execution_count": 2,
   "metadata": {},
   "outputs": [],
   "source": [
    "mail = \"Salut, J’ai besoin de la salle 736 le 17 janvier entre 8 h et 10 h\""
   ]
  },
  {
   "cell_type": "code",
   "execution_count": 14,
   "metadata": {},
   "outputs": [],
   "source": [
    "class reservation():\n",
    "\n",
    "    def __init__(self, mail):\n",
    "        self.message = mail\n",
    "        self.salle = self._ParseMailSalle()\n",
    "\n",
    "\n",
    "    def _ParseMailSalle(self):\n",
    "        import re\n",
    "        motif_salle = (r\"(?:salle+\\s+\\d+)|(?:Salle+\\s+\\d+)\")\n",
    "        res_mail_salle = re.findall(motif_salle,self.message) # application de la méthode findall() avec regex, on applique le motif sur le \"mail_contenu\", stocker dans la variable \"res_mail\"\n",
    "        num_salle_reserv = str(res_mail_salle[0])\n",
    "        num_salle_reserv = str(num_salle_reserv)\n",
    "        \n",
    "        \n",
    "        return num_salle_reserv\n",
    "\n",
    "    def _ParseMailDate(self):\n",
    "        import re\n",
    "        motif_date = (r\"(?:\\d+\\s+janvier)|(?:\\d+\\s+fevrier)|(?:\\d+\\s+mars)|(?:\\d+\\s+avril)|(?:\\d+\\s+mai)|(?:\\d+\\s+juin)|(?:\\d+\\s+juillet)|(?:\\d+\\s+août)|(?:\\d+\\s+septembre)|(?:\\d+\\s+octobre)|(?:\\d+\\s+novembre)|(?:\\d+\\s+decembre)|(?:\\d+\\s+Janvier)|(?:\\d+\\s+Fevrier)|(?:\\d+\\s+Mars)|(?:\\d+\\s+Avril)|(?:\\d+\\s+Mai)|(?:\\d+\\s+Juin)|(?:\\d+\\s+Juillet)|(?:\\d+\\s+Août)|(?:\\d+\\s+Septembre)|(?:\\d+\\s+Octobre)|(?:\\d+\\s+Novembre)|(?:\\d+\\s+Decembre)|(?:\\d+\\s+January)|(?:\\d+\\s+February)|(?:\\d+\\s+March)|(?:\\d+\\s+April)|(?:\\d+\\s+May)|(?:\\d+\\s+June)|(?:\\d+\\s+July)|(?:\\d+\\s+Augut)|(?:\\d+\\s+September)|(?:\\d+\\s+October)|(?:\\d+\\s+November)|(?:\\d+\\s+December)|(?:\\d+\\s+january)|(?:\\d+\\s+february)|(?:\\d+\\s+march)|(?:\\d+\\s+april)|(?:\\d+\\s+Mai)|(?:\\d+\\s+june)|(?:\\d+\\s+july)|(?:\\d+\\s+august)|(?:\\d+\\s+september)|(?:\\d+\\s+october)|(?:\\d+\\s+november)|(?:\\d+\\s+december)\")  #### (?:\\d+.\\d+) 12/03 pour la date format numérique\n",
    "        res_mail_date = refindall(motif_date, self.message)\n",
    "        date_reserv = str(res_mail_date[0])\n",
    "        res_mail_date = str(res_mail_date)\n",
    "\n",
    "    "
   ]
  },
  {
   "cell_type": "code",
   "execution_count": 15,
   "metadata": {},
   "outputs": [
    {
     "output_type": "stream",
     "name": "stdout",
     "text": [
      "salle 736\n"
     ]
    }
   ],
   "source": [
    "## appele de la class pour afficher la salle\n",
    "\n",
    "new = reservation(mail)\n",
    "print(new.salle)"
   ]
  },
  {
   "cell_type": "code",
   "execution_count": null,
   "metadata": {},
   "outputs": [],
   "source": [
    "## "
   ]
  },
  {
   "cell_type": "code",
   "execution_count": 12,
   "metadata": {},
   "outputs": [
    {
     "output_type": "stream",
     "name": "stdout",
     "text": [
      "salle 736\n"
     ]
    }
   ],
   "source": [
    "new = reservation(mail)\n",
    "print(new.salle)"
   ]
  },
  {
   "cell_type": "code",
   "execution_count": 13,
   "metadata": {},
   "outputs": [
    {
     "output_type": "execute_result",
     "data": {
      "text/plain": [
       "str"
      ]
     },
     "metadata": {},
     "execution_count": 13
    }
   ],
   "source": [
    "type(new.salle)"
   ]
  },
  {
   "cell_type": "code",
   "execution_count": null,
   "metadata": {},
   "outputs": [],
   "source": []
  }
 ]
}