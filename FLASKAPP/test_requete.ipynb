{
 "metadata": {
  "language_info": {
   "codemirror_mode": {
    "name": "ipython",
    "version": 3
   },
   "file_extension": ".py",
   "mimetype": "text/x-python",
   "name": "python",
   "nbconvert_exporter": "python",
   "pygments_lexer": "ipython3",
   "version": 3
  },
  "orig_nbformat": 2
 },
 "nbformat": 4,
 "nbformat_minor": 2,
 "cells": [
  {
   "cell_type": "code",
   "execution_count": null,
   "metadata": {},
   "outputs": [],
   "source": [
    "\n",
    "## installation de # pip3 install mysql-connector-python\n",
    "import mysql.connector\n",
    "from mysql.connector import Error\n",
    "import json\n",
    "\n",
    "# assignation de la config.json à fichierConfig\n",
    "fichierConfig = \"Projet-Pedagogique/FLASKAPP/config.json\"\n",
    "# ouverture et chargement des donnée contenu dans fichierConfig\n",
    "with open(fichierConfig) as fichier:\n",
    "    config = json.load(fichier)[\"mysql\"]\n",
    "\n",
    "connection = mysql.connector.connect(host=config[\"host\"],database = config[\"bdd\"],user=config[\"user\"],password=config[\"password\"])\n",
    "cursor = connection.cursor()\n",
    "#args = (1,\"MARQEILLE\") # 0 is to hold value of the OUT parameter sum\n",
    "#cursor.callproc(\"PU_SALLE\", args)\n",
    "cursor.execute(\"INSERT INTO INFORMATION VALUES (%s, %s, %s,%s, %s, %s,%s, %s)', (22,'xx.xx@xx.xx', 'password', 'name','surname','user_poste','user_org','password', 'in_id')\n",
    "\n",
    "\n",
    "\n",
    "connection.is_connected()\n",
    "cursor.close()\n",
    "connection.close()\n",
    "print(\"MySQL connection is closed\")"
   ]
  }
 ]
}